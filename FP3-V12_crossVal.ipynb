{
 "cells": [
  {
   "cell_type": "markdown",
   "metadata": {
    "heading_collapsed": true
   },
   "source": [
    "# Introduction"
   ]
  },
  {
   "cell_type": "markdown",
   "metadata": {
    "hidden": true
   },
   "source": [
    "We are working for a car insurance provider who would like to predict whether a client will submit a claim or not, and identify which factors offer contribute the most to this predictive capability.  With this information, we would be able to complete some back of the envelope math to calculate how many dollars we are likely to pay out in claims this year, and gain insight into the variables with the greatest predictive power so we can further tailor coverage packages and premiums to individual drivers.    \n",
    "\n",
    "---- talk about the models leading up to the best.  Maybe show snapshot of results, what was done differently, what some problem may have been.... then get to the best model and talk about what we can do with it, what does it tell us... it tells us that we ultimately need more or different data to achieve our goal.  \n",
    "\n",
    "---- what visuals to use and talk about? \n"
   ]
  },
  {
   "cell_type": "markdown",
   "metadata": {
    "hidden": true
   },
   "source": [
    "this notebook up-sampling only using resample"
   ]
  },
  {
   "cell_type": "markdown",
   "metadata": {
    "hidden": true
   },
   "source": [
    "**Data Dictionary**\n",
    "\n",
    "- pol_eff_dt - auto insurance policy effective date\n",
    "- gender - gender of driver: F, M\n",
    "- agecat - driver's age category: 1 (youngest), 2, 3, 4, 5, 6\n",
    "- credit_score - driver’s credit score(integer): 1-100, 1=poor, 100=excellent\n",
    "- area - driver's area of residence: A, B, C, D, E, F\n",
    "- traffic_index - traffic index of driver’s area of residence(integer): 100=country average, >100 means worse traffic conditions than average\n",
    "- veh_age - age of vehicle(categorical): 1 (youngest), 2, 3, 4\n",
    "- veh_body - vehicle body, coded as:\n",
    "    - BUS\n",
    "    - CONVT = convertible  \n",
    "    - COUPE   \n",
    "    - HBACK = hatchback                  \n",
    "    - HDTOP = hardtop\n",
    "    - MCARA = motorized caravan\n",
    "    - MIBUS = minibus\n",
    "    - PANVN = panel van\n",
    "    - RDSTR = roadster\n",
    "    - SEDAN    \n",
    "    - STNWG = station wagon\n",
    "    - TRUCK           \n",
    "    - UTE = utility\n",
    "- veh_value - vehicle value, in \\\\$10,000s\n",
    "- claim_office - office location of claim handling agent: A, B, C, D\n",
    "- traffic2 - traffic index of driver’s area of residence(integer): 100=country average, >100 means worse traffic conditions than average.  Null values have imputed mean of full dataset\n",
    "- veh_value2 - vehicle value, in \\\\$10,000s. Null values have been replaces with the mean of the full dataset\n",
    "- veh_value3 - vehicle value, in \\\\$10,000s. Null values have been replaces with the median of the full dataset\n",
    "- veh_age2 - age of vehicle(categorical): 1 (youngest), 2, 3, 4.  Null values have been replaces with the most frequent category, which is 2\n",
    "- credit2 - driver’s credit score(integer): 1-100, 1=poor, 100=excellent. Null values have been replaces with the mean of the full dataset\n",
    "- credit3 - driver’s credit score(integer): 1-100, 1=poor, 100=excellent. Null values have been replaces with the median of the full dataset\n",
    "- dob - driver's date of birth\n",
    "- age - Driver's age at policy effective date\n",
    "- claim_ind - Indicates if the policy had a claim (=1) or not\n",
    "- veh_body2 - vehicle body, with a collapsed type coding, as described below.  Original coding on left, new coding on right:\n",
    "    - 'BUS' = 'MIBUS',\n",
    "    - 'CONVT' = 'HDTOP'\n",
    "    - 'COUPE' = 'COUPE'\n",
    "    - 'HBACK' = 'HBACK'\n",
    "    - 'HDTOP' = 'HDTOP'\n",
    "    - 'MCARA' = 'MIBUS'\n",
    "    - 'MIBUS' = 'MIBUS'\n",
    "    - 'PANVN' = 'PANVN'\n",
    "    - 'RDSTR' = 'HDTOP'\n",
    "    - 'SEDAN' = 'SEDAN'\n",
    "    - STNWG' = 'STNWG'\n",
    "    - 'TRUCK' = 'TRUCK'\n",
    "    - 'UTE' = 'UTE'\n",
    "\n",
    "- numclaims - number of claims(integer): 0 if no claim\n",
    "- claimcst0 - claim amount: 0 if no claim.  This is the total one year claim amount (ultimate loss) for the policy. \n"
   ]
  },
  {
   "cell_type": "markdown",
   "metadata": {},
   "source": [
    "# Obtaining the Data"
   ]
  },
  {
   "cell_type": "code",
   "execution_count": 68,
   "metadata": {},
   "outputs": [],
   "source": [
    "import pandas as pd\n",
    "pd.set_option('display.max_columns', None)\n",
    "import numpy as np\n",
    "\n",
    "import pandas_profiling\n",
    "\n",
    "import itertools\n",
    "\n",
    "from sklearn import preprocessing\n",
    "from sklearn.preprocessing import OneHotEncoder\n",
    "from sklearn.preprocessing import StandardScaler\n",
    "from imblearn.over_sampling import SMOTE, ADASYN\n",
    "\n",
    "from sklearn.linear_model import LogisticRegression\n",
    "from sklearn.model_selection import train_test_split\n",
    "from sklearn.model_selection import GridSearchCV\n",
    "from sklearn.ensemble import BaggingClassifier\n",
    "from sklearn.ensemble import RandomForestClassifier\n",
    "\n",
    "import xgboost as xgb\n",
    "\n",
    "from sklearn.metrics import accuracy_score\n",
    "from sklearn.metrics import confusion_matrix\n",
    "from sklearn.metrics import classification_report\n",
    "from sklearn.metrics import roc_curve, auc\n",
    "from sklearn.metrics import roc_auc_score\n",
    "\n",
    "from sklearn.utils import resample\n",
    "from sklearn.utils.multiclass import unique_labels # for confusion matrix\n",
    "\n",
    "from sklearn.metrics import mean_squared_error\n",
    "from sklearn.model_selection import cross_val_score\n",
    "\n",
    "import matplotlib\n",
    "import matplotlib.pyplot as plt\n",
    "%matplotlib inline\n",
    "import seaborn as sns\n",
    "\n",
    "import copy"
   ]
  },
  {
   "cell_type": "code",
   "execution_count": 69,
   "metadata": {},
   "outputs": [
    {
     "data": {
      "text/html": [
       "<div>\n",
       "<style scoped>\n",
       "    .dataframe tbody tr th:only-of-type {\n",
       "        vertical-align: middle;\n",
       "    }\n",
       "\n",
       "    .dataframe tbody tr th {\n",
       "        vertical-align: top;\n",
       "    }\n",
       "\n",
       "    .dataframe thead th {\n",
       "        text-align: right;\n",
       "    }\n",
       "</style>\n",
       "<table border=\"1\" class=\"dataframe\">\n",
       "  <thead>\n",
       "    <tr style=\"text-align: right;\">\n",
       "      <th></th>\n",
       "      <th>pol_number</th>\n",
       "      <th>pol_eff_dt</th>\n",
       "      <th>gender</th>\n",
       "      <th>agecat</th>\n",
       "      <th>credit_score</th>\n",
       "      <th>area</th>\n",
       "      <th>traffic_index</th>\n",
       "      <th>veh_age</th>\n",
       "      <th>veh_body</th>\n",
       "      <th>veh_value</th>\n",
       "      <th>claim_office</th>\n",
       "      <th>traffic2</th>\n",
       "      <th>veh_value2</th>\n",
       "      <th>veh_value3</th>\n",
       "      <th>veh_age2</th>\n",
       "      <th>credit2</th>\n",
       "      <th>credit3</th>\n",
       "      <th>dob</th>\n",
       "      <th>age</th>\n",
       "      <th>claim_ind</th>\n",
       "      <th>veh_body2</th>\n",
       "      <th>numclaims</th>\n",
       "      <th>claimcst0</th>\n",
       "    </tr>\n",
       "  </thead>\n",
       "  <tbody>\n",
       "    <tr>\n",
       "      <th>0</th>\n",
       "      <td>80750205</td>\n",
       "      <td>7/1/2015</td>\n",
       "      <td>M</td>\n",
       "      <td>4</td>\n",
       "      <td>52.0</td>\n",
       "      <td>C</td>\n",
       "      <td>93.0</td>\n",
       "      <td>4.0</td>\n",
       "      <td>STNWG</td>\n",
       "      <td>2.96</td>\n",
       "      <td>NaN</td>\n",
       "      <td>93</td>\n",
       "      <td>2.96</td>\n",
       "      <td>2.96</td>\n",
       "      <td>4</td>\n",
       "      <td>52.000000</td>\n",
       "      <td>52</td>\n",
       "      <td>2/18/1963</td>\n",
       "      <td>53</td>\n",
       "      <td>0</td>\n",
       "      <td>STNWG</td>\n",
       "      <td>0</td>\n",
       "      <td>0.0</td>\n",
       "    </tr>\n",
       "    <tr>\n",
       "      <th>1</th>\n",
       "      <td>90994433</td>\n",
       "      <td>8/1/2015</td>\n",
       "      <td>M</td>\n",
       "      <td>3</td>\n",
       "      <td>83.0</td>\n",
       "      <td>C</td>\n",
       "      <td>108.0</td>\n",
       "      <td>4.0</td>\n",
       "      <td>SEDAN</td>\n",
       "      <td>1.89</td>\n",
       "      <td>NaN</td>\n",
       "      <td>108</td>\n",
       "      <td>1.89</td>\n",
       "      <td>1.89</td>\n",
       "      <td>4</td>\n",
       "      <td>83.000000</td>\n",
       "      <td>83</td>\n",
       "      <td>2/18/1978</td>\n",
       "      <td>38</td>\n",
       "      <td>0</td>\n",
       "      <td>SEDAN</td>\n",
       "      <td>0</td>\n",
       "      <td>0.0</td>\n",
       "    </tr>\n",
       "    <tr>\n",
       "      <th>2</th>\n",
       "      <td>59239520</td>\n",
       "      <td>7/1/2015</td>\n",
       "      <td>M</td>\n",
       "      <td>5</td>\n",
       "      <td>71.0</td>\n",
       "      <td>A</td>\n",
       "      <td>NaN</td>\n",
       "      <td>3.0</td>\n",
       "      <td>SEDAN</td>\n",
       "      <td>2.75</td>\n",
       "      <td>NaN</td>\n",
       "      <td>100</td>\n",
       "      <td>2.75</td>\n",
       "      <td>2.75</td>\n",
       "      <td>3</td>\n",
       "      <td>71.000000</td>\n",
       "      <td>71</td>\n",
       "      <td>4/14/1960</td>\n",
       "      <td>56</td>\n",
       "      <td>0</td>\n",
       "      <td>SEDAN</td>\n",
       "      <td>0</td>\n",
       "      <td>0.0</td>\n",
       "    </tr>\n",
       "    <tr>\n",
       "      <th>3</th>\n",
       "      <td>67030771</td>\n",
       "      <td>11/1/2015</td>\n",
       "      <td>M</td>\n",
       "      <td>3</td>\n",
       "      <td>NaN</td>\n",
       "      <td>B</td>\n",
       "      <td>77.0</td>\n",
       "      <td>3.0</td>\n",
       "      <td>UTE</td>\n",
       "      <td>2.92</td>\n",
       "      <td>NaN</td>\n",
       "      <td>77</td>\n",
       "      <td>2.92</td>\n",
       "      <td>2.92</td>\n",
       "      <td>3</td>\n",
       "      <td>74.730883</td>\n",
       "      <td>81</td>\n",
       "      <td>12/23/1974</td>\n",
       "      <td>41</td>\n",
       "      <td>0</td>\n",
       "      <td>UTE</td>\n",
       "      <td>0</td>\n",
       "      <td>0.0</td>\n",
       "    </tr>\n",
       "    <tr>\n",
       "      <th>4</th>\n",
       "      <td>91422215</td>\n",
       "      <td>8/1/2015</td>\n",
       "      <td>M</td>\n",
       "      <td>2</td>\n",
       "      <td>88.0</td>\n",
       "      <td>D</td>\n",
       "      <td>NaN</td>\n",
       "      <td>4.0</td>\n",
       "      <td>STNWG</td>\n",
       "      <td>3.63</td>\n",
       "      <td>NaN</td>\n",
       "      <td>100</td>\n",
       "      <td>3.63</td>\n",
       "      <td>3.63</td>\n",
       "      <td>4</td>\n",
       "      <td>88.000000</td>\n",
       "      <td>88</td>\n",
       "      <td>12/25/1984</td>\n",
       "      <td>31</td>\n",
       "      <td>0</td>\n",
       "      <td>STNWG</td>\n",
       "      <td>0</td>\n",
       "      <td>0.0</td>\n",
       "    </tr>\n",
       "  </tbody>\n",
       "</table>\n",
       "</div>"
      ],
      "text/plain": [
       "   pol_number pol_eff_dt gender  agecat  credit_score area  traffic_index  \\\n",
       "0    80750205   7/1/2015      M       4          52.0    C           93.0   \n",
       "1    90994433   8/1/2015      M       3          83.0    C          108.0   \n",
       "2    59239520   7/1/2015      M       5          71.0    A            NaN   \n",
       "3    67030771  11/1/2015      M       3           NaN    B           77.0   \n",
       "4    91422215   8/1/2015      M       2          88.0    D            NaN   \n",
       "\n",
       "   veh_age veh_body  veh_value claim_office  traffic2  veh_value2  veh_value3  \\\n",
       "0      4.0    STNWG       2.96          NaN        93        2.96        2.96   \n",
       "1      4.0    SEDAN       1.89          NaN       108        1.89        1.89   \n",
       "2      3.0    SEDAN       2.75          NaN       100        2.75        2.75   \n",
       "3      3.0      UTE       2.92          NaN        77        2.92        2.92   \n",
       "4      4.0    STNWG       3.63          NaN       100        3.63        3.63   \n",
       "\n",
       "   veh_age2    credit2  credit3         dob  age  claim_ind veh_body2  \\\n",
       "0         4  52.000000       52   2/18/1963   53          0     STNWG   \n",
       "1         4  83.000000       83   2/18/1978   38          0     SEDAN   \n",
       "2         3  71.000000       71   4/14/1960   56          0     SEDAN   \n",
       "3         3  74.730883       81  12/23/1974   41          0       UTE   \n",
       "4         4  88.000000       88  12/25/1984   31          0     STNWG   \n",
       "\n",
       "   numclaims  claimcst0  \n",
       "0          0        0.0  \n",
       "1          0        0.0  \n",
       "2          0        0.0  \n",
       "3          0        0.0  \n",
       "4          0        0.0  "
      ]
     },
     "execution_count": 69,
     "metadata": {},
     "output_type": "execute_result"
    }
   ],
   "source": [
    "data = pd.read_csv('autoinsurance_claims.csv')\n",
    "data.head()"
   ]
  },
  {
   "cell_type": "code",
   "execution_count": 70,
   "metadata": {},
   "outputs": [
    {
     "data": {
      "text/plain": [
       "(60948, 23)"
      ]
     },
     "execution_count": 70,
     "metadata": {},
     "output_type": "execute_result"
    }
   ],
   "source": [
    "data.shape"
   ]
  },
  {
   "cell_type": "markdown",
   "metadata": {},
   "source": [
    "# Preprocessing"
   ]
  },
  {
   "cell_type": "code",
   "execution_count": 71,
   "metadata": {},
   "outputs": [
    {
     "data": {
      "text/plain": [
       "pol_number           0\n",
       "pol_eff_dt           0\n",
       "gender               0\n",
       "agecat               0\n",
       "credit_score      3014\n",
       "area                 0\n",
       "traffic_index    12250\n",
       "veh_age          10476\n",
       "veh_body             0\n",
       "veh_value         7562\n",
       "claim_office     56787\n",
       "traffic2             0\n",
       "veh_value2           0\n",
       "veh_value3           0\n",
       "veh_age2             0\n",
       "credit2              0\n",
       "credit3              0\n",
       "dob                  0\n",
       "age                  0\n",
       "claim_ind            0\n",
       "veh_body2            0\n",
       "numclaims            0\n",
       "claimcst0            0\n",
       "dtype: int64"
      ]
     },
     "execution_count": 71,
     "metadata": {},
     "output_type": "execute_result"
    }
   ],
   "source": [
    "# looking for null values\n",
    "data.isnull().sum()"
   ]
  },
  {
   "cell_type": "markdown",
   "metadata": {},
   "source": [
    "__Dropping Columns__"
   ]
  },
  {
   "cell_type": "code",
   "execution_count": 72,
   "metadata": {},
   "outputs": [],
   "source": [
    "# claim office is mostly empty; lets drop the feature\n",
    "# we don't need the policy number either\n",
    "# veh_body and veh_body2 are equal, keep veh_body2 as it is updated\n",
    "# the dateTime columns create a complexity we could do without and tell us nothing since they are not the focus\n",
    "  ## of the data.\n",
    "# pol_eff_dt is proprietary info we don't need and dob is redundant since we have age. \n",
    "  \n",
    "data.drop(['claim_office', 'pol_number', 'veh_body', 'pol_eff_dt', 'dob'], axis = 1, inplace = True)"
   ]
  },
  {
   "cell_type": "markdown",
   "metadata": {},
   "source": [
    "there are duplicate columns for credit_score, traffic_index, vehicle_value, containing null values, where either the mean, median or both were used to impute missing values.  Lets keep only columns with median imputation"
   ]
  },
  {
   "cell_type": "code",
   "execution_count": 73,
   "metadata": {},
   "outputs": [],
   "source": [
    "# drop credit_score and credit2 columns\n",
    "# drop veh_age column.  vehicle age also has a duplicate column, where the mode was used for null values. \n",
    "  ##This is an ordinal value so keeping the mode for imputation makes sense\n",
    "data.drop(['credit_score', 'credit2', 'traffic_index', 'veh_value', 'veh_value2', 'veh_age'], axis = 1, inplace = True)"
   ]
  },
  {
   "cell_type": "code",
   "execution_count": 74,
   "metadata": {},
   "outputs": [
    {
     "data": {
      "text/plain": [
       "gender        0\n",
       "agecat        0\n",
       "area          0\n",
       "traffic2      0\n",
       "veh_value3    0\n",
       "veh_age2      0\n",
       "credit3       0\n",
       "age           0\n",
       "claim_ind     0\n",
       "veh_body2     0\n",
       "numclaims     0\n",
       "claimcst0     0\n",
       "dtype: int64"
      ]
     },
     "execution_count": 74,
     "metadata": {},
     "output_type": "execute_result"
    }
   ],
   "source": [
    "# confirm we have no other null values\n",
    "data.isnull().sum()"
   ]
  },
  {
   "cell_type": "markdown",
   "metadata": {},
   "source": [
    "**Fix Data Types**"
   ]
  },
  {
   "cell_type": "code",
   "execution_count": 75,
   "metadata": {},
   "outputs": [
    {
     "name": "stdout",
     "output_type": "stream",
     "text": [
      "<class 'pandas.core.frame.DataFrame'>\n",
      "RangeIndex: 60948 entries, 0 to 60947\n",
      "Data columns (total 12 columns):\n",
      "gender        60948 non-null object\n",
      "agecat        60948 non-null int64\n",
      "area          60948 non-null object\n",
      "traffic2      60948 non-null int64\n",
      "veh_value3    60948 non-null float64\n",
      "veh_age2      60948 non-null int64\n",
      "credit3       60948 non-null int64\n",
      "age           60948 non-null int64\n",
      "claim_ind     60948 non-null int64\n",
      "veh_body2     60948 non-null object\n",
      "numclaims     60948 non-null int64\n",
      "claimcst0     60948 non-null float64\n",
      "dtypes: float64(2), int64(7), object(3)\n",
      "memory usage: 5.6+ MB\n"
     ]
    }
   ],
   "source": [
    "data.info()"
   ]
  },
  {
   "cell_type": "markdown",
   "metadata": {},
   "source": [
    "\n",
    "\n",
    "| Feature | Change Type to: |\n",
    "|------------|---------------------|\n",
    "| gender | change to category |\n",
    "| agecat | change to category |\n",
    "| area | change to category |\n",
    "| veh_age2 | change to category |\n",
    "| claim_ind | change to category |\n",
    "| veh_body2 | change to category |\n"
   ]
  },
  {
   "cell_type": "code",
   "execution_count": 76,
   "metadata": {},
   "outputs": [],
   "source": [
    "data = data.astype({'gender':'category', 'area':'category', \n",
    "             'claim_ind':'category', 'veh_body2':'category'}, inplace = True)"
   ]
  },
  {
   "cell_type": "code",
   "execution_count": 77,
   "metadata": {},
   "outputs": [
    {
     "name": "stdout",
     "output_type": "stream",
     "text": [
      "<class 'pandas.core.frame.DataFrame'>\n",
      "RangeIndex: 60948 entries, 0 to 60947\n",
      "Data columns (total 12 columns):\n",
      "gender        60948 non-null category\n",
      "agecat        60948 non-null int64\n",
      "area          60948 non-null category\n",
      "traffic2      60948 non-null int64\n",
      "veh_value3    60948 non-null float64\n",
      "veh_age2      60948 non-null int64\n",
      "credit3       60948 non-null int64\n",
      "age           60948 non-null int64\n",
      "claim_ind     60948 non-null category\n",
      "veh_body2     60948 non-null category\n",
      "numclaims     60948 non-null int64\n",
      "claimcst0     60948 non-null float64\n",
      "dtypes: category(4), float64(2), int64(6)\n",
      "memory usage: 4.0 MB\n"
     ]
    }
   ],
   "source": [
    "# double check the work\n",
    "data.info()"
   ]
  },
  {
   "cell_type": "markdown",
   "metadata": {},
   "source": [
    "**Edit Column Names**\n",
    "\n",
    "Lets change a few of the column names for ease of use as we move forward and work with the data"
   ]
  },
  {
   "cell_type": "code",
   "execution_count": 78,
   "metadata": {},
   "outputs": [],
   "source": [
    "data.rename(columns={'traffic2':'traffic_index', 'veh_value3':'veh_value00', 'credit3':'credit_score', 'numclaims':'num_claims', \n",
    "             'claimcst0':'claim_amount', 'veh_age2':'veh_ageIndex'}, inplace=True)"
   ]
  },
  {
   "cell_type": "code",
   "execution_count": 79,
   "metadata": {},
   "outputs": [],
   "source": [
    "data.to_csv('clean_data.csv')"
   ]
  },
  {
   "cell_type": "markdown",
   "metadata": {},
   "source": [
    "**Look for Multicolinearity**"
   ]
  },
  {
   "cell_type": "code",
   "execution_count": 80,
   "metadata": {
    "scrolled": false
   },
   "outputs": [
    {
     "data": {
      "text/plain": [
       "<matplotlib.axes._subplots.AxesSubplot at 0x208d1a585c0>"
      ]
     },
     "execution_count": 80,
     "metadata": {},
     "output_type": "execute_result"
    },
    {
     "data": {
      "image/png": "[encoded data removed]",
      "text/plain": [
       "<Figure size 1080x864 with 2 Axes>"
      ]
     },
     "metadata": {
      "needs_background": "light"
     },
     "output_type": "display_data"
    }
   ],
   "source": [
    "plt.figure(figsize=(15, 12))\n",
    "sns.heatmap(data.corr(), annot=True)"
   ]
  },
  {
   "cell_type": "markdown",
   "metadata": {},
   "source": [
    "**Split data set between categorical and continuous to check distributions** which should help us decide which features to drop"
   ]
  },
  {
   "cell_type": "markdown",
   "metadata": {},
   "source": [
    "I will treat ordinal features as numeric data.  Doing this requires the assumption that the numeric space between each category is equal or close to equal.   To ignore the ordering would essentially mean we could delete columns for the drivers age, the traffic index, vehicle age and credit score; that would be too much useful information to lose and an extreme downside.  The downside to treating this data as numeric is that if the spread between bins are not equal, then our results may only be approximate.  I would posit that the approximate results would be more accurate than any model that disregarded them. "
   ]
  },
  {
   "cell_type": "code",
   "execution_count": 81,
   "metadata": {},
   "outputs": [
    {
     "name": "stdout",
     "output_type": "stream",
     "text": [
      "<class 'pandas.core.frame.DataFrame'>\n",
      "RangeIndex: 60948 entries, 0 to 60947\n",
      "Data columns (total 8 columns):\n",
      "agecat           60948 non-null int64\n",
      "traffic_index    60948 non-null int64\n",
      "veh_value00      60948 non-null float64\n",
      "veh_ageIndex     60948 non-null int64\n",
      "credit_score     60948 non-null int64\n",
      "age              60948 non-null int64\n",
      "num_claims       60948 non-null int64\n",
      "claim_amount     60948 non-null float64\n",
      "dtypes: float64(2), int64(6)\n",
      "memory usage: 3.7 MB\n"
     ]
    }
   ],
   "source": [
    "# create continuous sub-DataFrame\n",
    "\n",
    "continuous = data.copy()\n",
    "for i in continuous:\n",
    "    if continuous[i].dtype.name == 'category':\n",
    "        continuous.drop(i, axis=1, inplace = True)\n",
    "continuous.info()"
   ]
  },
  {
   "cell_type": "code",
   "execution_count": 82,
   "metadata": {},
   "outputs": [
    {
     "data": {
      "text/html": [
       "<div>\n",
       "<style scoped>\n",
       "    .dataframe tbody tr th:only-of-type {\n",
       "        vertical-align: middle;\n",
       "    }\n",
       "\n",
       "    .dataframe tbody tr th {\n",
       "        vertical-align: top;\n",
       "    }\n",
       "\n",
       "    .dataframe thead th {\n",
       "        text-align: right;\n",
       "    }\n",
       "</style>\n",
       "<table border=\"1\" class=\"dataframe\">\n",
       "  <thead>\n",
       "    <tr style=\"text-align: right;\">\n",
       "      <th></th>\n",
       "      <th>agecat</th>\n",
       "      <th>traffic_index</th>\n",
       "      <th>veh_value00</th>\n",
       "      <th>veh_ageIndex</th>\n",
       "      <th>credit_score</th>\n",
       "      <th>age</th>\n",
       "      <th>num_claims</th>\n",
       "      <th>claim_amount</th>\n",
       "    </tr>\n",
       "  </thead>\n",
       "  <tbody>\n",
       "    <tr>\n",
       "      <th>0</th>\n",
       "      <td>4</td>\n",
       "      <td>93</td>\n",
       "      <td>2.96</td>\n",
       "      <td>4</td>\n",
       "      <td>52</td>\n",
       "      <td>53</td>\n",
       "      <td>0</td>\n",
       "      <td>0.0</td>\n",
       "    </tr>\n",
       "    <tr>\n",
       "      <th>1</th>\n",
       "      <td>3</td>\n",
       "      <td>108</td>\n",
       "      <td>1.89</td>\n",
       "      <td>4</td>\n",
       "      <td>83</td>\n",
       "      <td>38</td>\n",
       "      <td>0</td>\n",
       "      <td>0.0</td>\n",
       "    </tr>\n",
       "    <tr>\n",
       "      <th>2</th>\n",
       "      <td>5</td>\n",
       "      <td>100</td>\n",
       "      <td>2.75</td>\n",
       "      <td>3</td>\n",
       "      <td>71</td>\n",
       "      <td>56</td>\n",
       "      <td>0</td>\n",
       "      <td>0.0</td>\n",
       "    </tr>\n",
       "    <tr>\n",
       "      <th>3</th>\n",
       "      <td>3</td>\n",
       "      <td>77</td>\n",
       "      <td>2.92</td>\n",
       "      <td>3</td>\n",
       "      <td>81</td>\n",
       "      <td>41</td>\n",
       "      <td>0</td>\n",
       "      <td>0.0</td>\n",
       "    </tr>\n",
       "    <tr>\n",
       "      <th>4</th>\n",
       "      <td>2</td>\n",
       "      <td>100</td>\n",
       "      <td>3.63</td>\n",
       "      <td>4</td>\n",
       "      <td>88</td>\n",
       "      <td>31</td>\n",
       "      <td>0</td>\n",
       "      <td>0.0</td>\n",
       "    </tr>\n",
       "  </tbody>\n",
       "</table>\n",
       "</div>"
      ],
      "text/plain": [
       "   agecat  traffic_index  veh_value00  veh_ageIndex  credit_score  age  \\\n",
       "0       4             93         2.96             4            52   53   \n",
       "1       3            108         1.89             4            83   38   \n",
       "2       5            100         2.75             3            71   56   \n",
       "3       3             77         2.92             3            81   41   \n",
       "4       2            100         3.63             4            88   31   \n",
       "\n",
       "   num_claims  claim_amount  \n",
       "0           0           0.0  \n",
       "1           0           0.0  \n",
       "2           0           0.0  \n",
       "3           0           0.0  \n",
       "4           0           0.0  "
      ]
     },
     "execution_count": 82,
     "metadata": {},
     "output_type": "execute_result"
    }
   ],
   "source": [
    "continuous.head()"
   ]
  },
  {
   "cell_type": "code",
   "execution_count": 83,
   "metadata": {},
   "outputs": [
    {
     "data": {
      "text/plain": [
       "0    56787\n",
       "1     3907\n",
       "2      236\n",
       "3       17\n",
       "4        1\n",
       "Name: num_claims, dtype: int64"
      ]
     },
     "execution_count": 83,
     "metadata": {},
     "output_type": "execute_result"
    }
   ],
   "source": [
    "continuous.num_claims.value_counts()"
   ]
  },
  {
   "cell_type": "code",
   "execution_count": 84,
   "metadata": {},
   "outputs": [
    {
     "data": {
      "text/plain": [
       "array([[<matplotlib.axes._subplots.AxesSubplot object at 0x00000208CED452B0>,\n",
       "        <matplotlib.axes._subplots.AxesSubplot object at 0x00000208CED6E6A0>,\n",
       "        <matplotlib.axes._subplots.AxesSubplot object at 0x00000208CED9BBE0>],\n",
       "       [<matplotlib.axes._subplots.AxesSubplot object at 0x00000208CEDD6160>,\n",
       "        <matplotlib.axes._subplots.AxesSubplot object at 0x00000208CEE036A0>,\n",
       "        <matplotlib.axes._subplots.AxesSubplot object at 0x00000208CEE32BE0>],\n",
       "       [<matplotlib.axes._subplots.AxesSubplot object at 0x00000208CEE71160>,\n",
       "        <matplotlib.axes._subplots.AxesSubplot object at 0x00000208CEEA06D8>,\n",
       "        <matplotlib.axes._subplots.AxesSubplot object at 0x00000208CEEA0710>]],\n",
       "      dtype=object)"
      ]
     },
     "execution_count": 84,
     "metadata": {},
     "output_type": "execute_result"
    },
    {
     "data": {
      "image/png": "[encoded data removed]",
      "text/plain": [
       "<Figure size 720x720 with 9 Axes>"
      ]
     },
     "metadata": {
      "needs_background": "light"
     },
     "output_type": "display_data"
    }
   ],
   "source": [
    "# inspect distributions for continuous data\n",
    "continuous.hist(figsize=(10,10))"
   ]
  },
  {
   "cell_type": "markdown",
   "metadata": {},
   "source": [
    "we have colinearity between:\n",
    "- age & agecat\n",
    "- num_claims & claim_amount  \n",
    "lets drop age since agecat looks like a better distribution.  \n",
    "claim amount and num_claims end up distorting the models so lets drop them both. "
   ]
  },
  {
   "cell_type": "code",
   "execution_count": 85,
   "metadata": {},
   "outputs": [
    {
     "name": "stdout",
     "output_type": "stream",
     "text": [
      "agecat :\n",
      "4    14585\n",
      "3    14177\n",
      "2    11539\n",
      "5     9634\n",
      "6     5853\n",
      "1     5160\n",
      "Name: agecat, dtype: int64 \n",
      "\n",
      "traffic_index :\n",
      "100    12760\n",
      "76       562\n",
      "72       558\n",
      "84       544\n",
      "77       544\n",
      "       ...  \n",
      "232        1\n",
      "218        1\n",
      "221        1\n",
      "222        1\n",
      "223        1\n",
      "Name: traffic_index, Length: 228, dtype: int64 \n",
      "\n",
      "veh_value00 :\n",
      "3.38     7942\n",
      "3.06      436\n",
      "1.59      419\n",
      "2.92      411\n",
      "3.15      403\n",
      "         ... \n",
      "52.64       1\n",
      "20.45       1\n",
      "14.57       1\n",
      "17.97       1\n",
      "25.29       1\n",
      "Name: veh_value00, Length: 825, dtype: int64 \n",
      "\n",
      "veh_ageIndex :\n",
      "2    22653\n",
      "3    15005\n",
      "4    14148\n",
      "1     9142\n",
      "Name: veh_ageIndex, dtype: int64 \n",
      "\n",
      "credit_score :\n",
      "81    4511\n",
      "87    1786\n",
      "88    1772\n",
      "91    1739\n",
      "85    1714\n",
      "      ... \n",
      "26      87\n",
      "28      85\n",
      "25      80\n",
      "21      80\n",
      "8        1\n",
      "Name: credit_score, Length: 90, dtype: int64 \n",
      "\n",
      "age :\n",
      "49     1506\n",
      "51     1503\n",
      "54     1502\n",
      "53     1498\n",
      "43     1498\n",
      "       ... \n",
      "93      106\n",
      "75      105\n",
      "84      104\n",
      "109     101\n",
      "110      67\n",
      "Name: age, Length: 96, dtype: int64 \n",
      "\n",
      "num_claims :\n",
      "0    56787\n",
      "1     3907\n",
      "2      236\n",
      "3       17\n",
      "4        1\n",
      "Name: num_claims, dtype: int64 \n",
      "\n",
      "claim_amount :\n",
      "0.00       56787\n",
      "1986.10        3\n",
      "2199.22        2\n",
      "1867.05        2\n",
      "2289.33        2\n",
      "           ...  \n",
      "1828.36        1\n",
      "1877.25        1\n",
      "1918.10        1\n",
      "2008.76        1\n",
      "1898.10        1\n",
      "Name: claim_amount, Length: 4046, dtype: int64 \n",
      "\n"
     ]
    }
   ],
   "source": [
    "def print_value_counts(df):\n",
    "    \n",
    "    for col in df:\n",
    "        print(col,':')\n",
    "        print(df[col].value_counts(),'\\n')\n",
    "print_value_counts(continuous)"
   ]
  },
  {
   "cell_type": "code",
   "execution_count": 86,
   "metadata": {},
   "outputs": [
    {
     "name": "stderr",
     "output_type": "stream",
     "text": [
      "C:\\Users\\mngav\\Anaconda3\\envs\\learn-env\\lib\\site-packages\\ipykernel_launcher.py:2: RuntimeWarning: divide by zero encountered in log\n",
      "  \n"
     ]
    }
   ],
   "source": [
    "# log transform\n",
    "cont_log = np.log(continuous)"
   ]
  },
  {
   "cell_type": "code",
   "execution_count": 87,
   "metadata": {},
   "outputs": [
    {
     "data": {
      "text/plain": [
       "-inf         56787\n",
       " 0.000000     3907\n",
       " 0.693147      236\n",
       " 1.098612       17\n",
       " 1.386294        1\n",
       "Name: num_claims, dtype: int64"
      ]
     },
     "execution_count": 87,
     "metadata": {},
     "output_type": "execute_result"
    }
   ],
   "source": [
    "cont_log.num_claims.value_counts()"
   ]
  },
  {
   "cell_type": "code",
   "execution_count": 88,
   "metadata": {},
   "outputs": [],
   "source": [
    "cont_log.replace(-np.inf, np.nan, inplace=True)\n",
    "cont_log.replace(np.nan, 0, inplace=True)"
   ]
  },
  {
   "cell_type": "code",
   "execution_count": 89,
   "metadata": {},
   "outputs": [
    {
     "data": {
      "text/plain": [
       "0.000000    60694\n",
       "0.693147      236\n",
       "1.098612       17\n",
       "1.386294        1\n",
       "Name: num_claims, dtype: int64"
      ]
     },
     "execution_count": 89,
     "metadata": {},
     "output_type": "execute_result"
    }
   ],
   "source": [
    "cont_log.num_claims.value_counts()"
   ]
  },
  {
   "cell_type": "code",
   "execution_count": 90,
   "metadata": {},
   "outputs": [
    {
     "data": {
      "text/plain": [
       "array([[<matplotlib.axes._subplots.AxesSubplot object at 0x00000208D5D0C9B0>,\n",
       "        <matplotlib.axes._subplots.AxesSubplot object at 0x00000208D5CA3F98>,\n",
       "        <matplotlib.axes._subplots.AxesSubplot object at 0x00000208D0DC0E48>],\n",
       "       [<matplotlib.axes._subplots.AxesSubplot object at 0x00000208D0DF8828>,\n",
       "        <matplotlib.axes._subplots.AxesSubplot object at 0x00000208D0E35208>,\n",
       "        <matplotlib.axes._subplots.AxesSubplot object at 0x00000208D0E5FB70>],\n",
       "       [<matplotlib.axes._subplots.AxesSubplot object at 0x00000208D0E9C550>,\n",
       "        <matplotlib.axes._subplots.AxesSubplot object at 0x00000208D0ECAF28>,\n",
       "        <matplotlib.axes._subplots.AxesSubplot object at 0x00000208D0ECAF60>]],\n",
       "      dtype=object)"
      ]
     },
     "execution_count": 90,
     "metadata": {},
     "output_type": "execute_result"
    },
    {
     "data": {
      "image/png": "[encoded data removed]",
      "text/plain": [
       "<Figure size 720x720 with 9 Axes>"
      ]
     },
     "metadata": {
      "needs_background": "light"
     },
     "output_type": "display_data"
    }
   ],
   "source": [
    "# inspect distributions for continuous data\n",
    "cont_log.hist(figsize=(10,10))"
   ]
  },
  {
   "cell_type": "markdown",
   "metadata": {},
   "source": [
    "veh_value, claim_amount and num_claims are so heavily skewed that it doesnt make sense to keep the columns.  In addition, the multicolinearity presents a problem."
   ]
  },
  {
   "cell_type": "code",
   "execution_count": 91,
   "metadata": {},
   "outputs": [
    {
     "data": {
      "text/html": [
       "<div>\n",
       "<style scoped>\n",
       "    .dataframe tbody tr th:only-of-type {\n",
       "        vertical-align: middle;\n",
       "    }\n",
       "\n",
       "    .dataframe tbody tr th {\n",
       "        vertical-align: top;\n",
       "    }\n",
       "\n",
       "    .dataframe thead th {\n",
       "        text-align: right;\n",
       "    }\n",
       "</style>\n",
       "<table border=\"1\" class=\"dataframe\">\n",
       "  <thead>\n",
       "    <tr style=\"text-align: right;\">\n",
       "      <th></th>\n",
       "      <th>agecat</th>\n",
       "      <th>traffic_index</th>\n",
       "      <th>veh_value00</th>\n",
       "      <th>veh_ageIndex</th>\n",
       "      <th>credit_score</th>\n",
       "      <th>age</th>\n",
       "      <th>num_claims</th>\n",
       "      <th>claim_amount</th>\n",
       "    </tr>\n",
       "  </thead>\n",
       "  <tbody>\n",
       "    <tr>\n",
       "      <th>0</th>\n",
       "      <td>1.386294</td>\n",
       "      <td>4.532599</td>\n",
       "      <td>1.085189</td>\n",
       "      <td>1.386294</td>\n",
       "      <td>3.951244</td>\n",
       "      <td>3.970292</td>\n",
       "      <td>0.0</td>\n",
       "      <td>0.0</td>\n",
       "    </tr>\n",
       "    <tr>\n",
       "      <th>1</th>\n",
       "      <td>1.098612</td>\n",
       "      <td>4.682131</td>\n",
       "      <td>0.636577</td>\n",
       "      <td>1.386294</td>\n",
       "      <td>4.418841</td>\n",
       "      <td>3.637586</td>\n",
       "      <td>0.0</td>\n",
       "      <td>0.0</td>\n",
       "    </tr>\n",
       "    <tr>\n",
       "      <th>2</th>\n",
       "      <td>1.609438</td>\n",
       "      <td>4.605170</td>\n",
       "      <td>1.011601</td>\n",
       "      <td>1.098612</td>\n",
       "      <td>4.262680</td>\n",
       "      <td>4.025352</td>\n",
       "      <td>0.0</td>\n",
       "      <td>0.0</td>\n",
       "    </tr>\n",
       "    <tr>\n",
       "      <th>3</th>\n",
       "      <td>1.098612</td>\n",
       "      <td>4.343805</td>\n",
       "      <td>1.071584</td>\n",
       "      <td>1.098612</td>\n",
       "      <td>4.394449</td>\n",
       "      <td>3.713572</td>\n",
       "      <td>0.0</td>\n",
       "      <td>0.0</td>\n",
       "    </tr>\n",
       "    <tr>\n",
       "      <th>4</th>\n",
       "      <td>0.693147</td>\n",
       "      <td>4.605170</td>\n",
       "      <td>1.289233</td>\n",
       "      <td>1.386294</td>\n",
       "      <td>4.477337</td>\n",
       "      <td>3.433987</td>\n",
       "      <td>0.0</td>\n",
       "      <td>0.0</td>\n",
       "    </tr>\n",
       "  </tbody>\n",
       "</table>\n",
       "</div>"
      ],
      "text/plain": [
       "     agecat  traffic_index  veh_value00  veh_ageIndex  credit_score       age  \\\n",
       "0  1.386294       4.532599     1.085189      1.386294      3.951244  3.970292   \n",
       "1  1.098612       4.682131     0.636577      1.386294      4.418841  3.637586   \n",
       "2  1.609438       4.605170     1.011601      1.098612      4.262680  4.025352   \n",
       "3  1.098612       4.343805     1.071584      1.098612      4.394449  3.713572   \n",
       "4  0.693147       4.605170     1.289233      1.386294      4.477337  3.433987   \n",
       "\n",
       "   num_claims  claim_amount  \n",
       "0         0.0           0.0  \n",
       "1         0.0           0.0  \n",
       "2         0.0           0.0  \n",
       "3         0.0           0.0  \n",
       "4         0.0           0.0  "
      ]
     },
     "execution_count": 91,
     "metadata": {},
     "output_type": "execute_result"
    }
   ],
   "source": [
    "cont_log.head()"
   ]
  },
  {
   "cell_type": "markdown",
   "metadata": {},
   "source": [
    "**remove features causing multicolinearity**"
   ]
  },
  {
   "cell_type": "code",
   "execution_count": 92,
   "metadata": {},
   "outputs": [],
   "source": [
    "cont_log.drop(['num_claims', 'claim_amount', 'veh_value00', 'agecat'],axis=1, inplace=True)"
   ]
  },
  {
   "cell_type": "code",
   "execution_count": 93,
   "metadata": {},
   "outputs": [
    {
     "name": "stdout",
     "output_type": "stream",
     "text": [
      "<class 'pandas.core.frame.DataFrame'>\n",
      "RangeIndex: 60948 entries, 0 to 60947\n",
      "Data columns (total 4 columns):\n",
      "gender       60948 non-null category\n",
      "area         60948 non-null category\n",
      "claim_ind    60948 non-null category\n",
      "veh_body2    60948 non-null category\n",
      "dtypes: category(4)\n",
      "memory usage: 239.0 KB\n"
     ]
    }
   ],
   "source": [
    "# create categorical sub-DataFrame\n",
    "\n",
    "categorical = data.copy()\n",
    "for i in categorical:\n",
    "    if categorical[i].dtype.name != 'category':\n",
    "        categorical.drop(i, axis = 1, inplace=True)\n",
    "categorical.info()"
   ]
  },
  {
   "cell_type": "markdown",
   "metadata": {},
   "source": [
    "**Get Dummies for categorical data**"
   ]
  },
  {
   "cell_type": "code",
   "execution_count": 94,
   "metadata": {},
   "outputs": [
    {
     "data": {
      "text/html": [
       "<div>\n",
       "<style scoped>\n",
       "    .dataframe tbody tr th:only-of-type {\n",
       "        vertical-align: middle;\n",
       "    }\n",
       "\n",
       "    .dataframe tbody tr th {\n",
       "        vertical-align: top;\n",
       "    }\n",
       "\n",
       "    .dataframe thead th {\n",
       "        text-align: right;\n",
       "    }\n",
       "</style>\n",
       "<table border=\"1\" class=\"dataframe\">\n",
       "  <thead>\n",
       "    <tr style=\"text-align: right;\">\n",
       "      <th></th>\n",
       "      <th>gender</th>\n",
       "      <th>area</th>\n",
       "      <th>claim_ind</th>\n",
       "      <th>veh_body2</th>\n",
       "    </tr>\n",
       "  </thead>\n",
       "  <tbody>\n",
       "    <tr>\n",
       "      <th>0</th>\n",
       "      <td>M</td>\n",
       "      <td>C</td>\n",
       "      <td>0</td>\n",
       "      <td>STNWG</td>\n",
       "    </tr>\n",
       "    <tr>\n",
       "      <th>1</th>\n",
       "      <td>M</td>\n",
       "      <td>C</td>\n",
       "      <td>0</td>\n",
       "      <td>SEDAN</td>\n",
       "    </tr>\n",
       "    <tr>\n",
       "      <th>2</th>\n",
       "      <td>M</td>\n",
       "      <td>A</td>\n",
       "      <td>0</td>\n",
       "      <td>SEDAN</td>\n",
       "    </tr>\n",
       "    <tr>\n",
       "      <th>3</th>\n",
       "      <td>M</td>\n",
       "      <td>B</td>\n",
       "      <td>0</td>\n",
       "      <td>UTE</td>\n",
       "    </tr>\n",
       "    <tr>\n",
       "      <th>4</th>\n",
       "      <td>M</td>\n",
       "      <td>D</td>\n",
       "      <td>0</td>\n",
       "      <td>STNWG</td>\n",
       "    </tr>\n",
       "  </tbody>\n",
       "</table>\n",
       "</div>"
      ],
      "text/plain": [
       "  gender area claim_ind veh_body2\n",
       "0      M    C         0     STNWG\n",
       "1      M    C         0     SEDAN\n",
       "2      M    A         0     SEDAN\n",
       "3      M    B         0       UTE\n",
       "4      M    D         0     STNWG"
      ]
     },
     "execution_count": 94,
     "metadata": {},
     "output_type": "execute_result"
    }
   ],
   "source": [
    "categorical.head()"
   ]
  },
  {
   "cell_type": "code",
   "execution_count": 95,
   "metadata": {},
   "outputs": [
    {
     "name": "stdout",
     "output_type": "stream",
     "text": [
      "<class 'pandas.core.frame.DataFrame'>\n",
      "RangeIndex: 60948 entries, 0 to 60947\n",
      "Data columns (total 4 columns):\n",
      "gender       60948 non-null category\n",
      "area         60948 non-null category\n",
      "claim_ind    60948 non-null category\n",
      "veh_body2    60948 non-null category\n",
      "dtypes: category(4)\n",
      "memory usage: 239.0 KB\n"
     ]
    }
   ],
   "source": [
    "categorical.info()"
   ]
  },
  {
   "cell_type": "code",
   "execution_count": 96,
   "metadata": {},
   "outputs": [
    {
     "data": {
      "text/plain": [
       "SEDAN    19981\n",
       "HBACK    16966\n",
       "STNWG    14646\n",
       "UTE       4108\n",
       "TRUCK     1576\n",
       "HDTOP     1506\n",
       "MIBUS      794\n",
       "COUPE      704\n",
       "PANVN      667\n",
       "Name: veh_body2, dtype: int64"
      ]
     },
     "execution_count": 96,
     "metadata": {},
     "output_type": "execute_result"
    }
   ],
   "source": [
    "categorical.veh_body2.value_counts()"
   ]
  },
  {
   "cell_type": "code",
   "execution_count": 97,
   "metadata": {},
   "outputs": [
    {
     "data": {
      "text/html": [
       "<div>\n",
       "<style scoped>\n",
       "    .dataframe tbody tr th:only-of-type {\n",
       "        vertical-align: middle;\n",
       "    }\n",
       "\n",
       "    .dataframe tbody tr th {\n",
       "        vertical-align: top;\n",
       "    }\n",
       "\n",
       "    .dataframe thead th {\n",
       "        text-align: right;\n",
       "    }\n",
       "</style>\n",
       "<table border=\"1\" class=\"dataframe\">\n",
       "  <thead>\n",
       "    <tr style=\"text-align: right;\">\n",
       "      <th></th>\n",
       "      <th>gender_F</th>\n",
       "      <th>gender_M</th>\n",
       "      <th>area_A</th>\n",
       "      <th>area_B</th>\n",
       "      <th>area_C</th>\n",
       "      <th>area_D</th>\n",
       "      <th>area_E</th>\n",
       "      <th>area_F</th>\n",
       "      <th>veh_body2_COUPE</th>\n",
       "      <th>veh_body2_HBACK</th>\n",
       "      <th>veh_body2_HDTOP</th>\n",
       "      <th>veh_body2_MIBUS</th>\n",
       "      <th>veh_body2_PANVN</th>\n",
       "      <th>veh_body2_SEDAN</th>\n",
       "      <th>veh_body2_STNWG</th>\n",
       "      <th>veh_body2_TRUCK</th>\n",
       "      <th>veh_body2_UTE</th>\n",
       "    </tr>\n",
       "  </thead>\n",
       "  <tbody>\n",
       "    <tr>\n",
       "      <th>0</th>\n",
       "      <td>0</td>\n",
       "      <td>1</td>\n",
       "      <td>0</td>\n",
       "      <td>0</td>\n",
       "      <td>1</td>\n",
       "      <td>0</td>\n",
       "      <td>0</td>\n",
       "      <td>0</td>\n",
       "      <td>0</td>\n",
       "      <td>0</td>\n",
       "      <td>0</td>\n",
       "      <td>0</td>\n",
       "      <td>0</td>\n",
       "      <td>0</td>\n",
       "      <td>1</td>\n",
       "      <td>0</td>\n",
       "      <td>0</td>\n",
       "    </tr>\n",
       "    <tr>\n",
       "      <th>1</th>\n",
       "      <td>0</td>\n",
       "      <td>1</td>\n",
       "      <td>0</td>\n",
       "      <td>0</td>\n",
       "      <td>1</td>\n",
       "      <td>0</td>\n",
       "      <td>0</td>\n",
       "      <td>0</td>\n",
       "      <td>0</td>\n",
       "      <td>0</td>\n",
       "      <td>0</td>\n",
       "      <td>0</td>\n",
       "      <td>0</td>\n",
       "      <td>1</td>\n",
       "      <td>0</td>\n",
       "      <td>0</td>\n",
       "      <td>0</td>\n",
       "    </tr>\n",
       "    <tr>\n",
       "      <th>2</th>\n",
       "      <td>0</td>\n",
       "      <td>1</td>\n",
       "      <td>1</td>\n",
       "      <td>0</td>\n",
       "      <td>0</td>\n",
       "      <td>0</td>\n",
       "      <td>0</td>\n",
       "      <td>0</td>\n",
       "      <td>0</td>\n",
       "      <td>0</td>\n",
       "      <td>0</td>\n",
       "      <td>0</td>\n",
       "      <td>0</td>\n",
       "      <td>1</td>\n",
       "      <td>0</td>\n",
       "      <td>0</td>\n",
       "      <td>0</td>\n",
       "    </tr>\n",
       "    <tr>\n",
       "      <th>3</th>\n",
       "      <td>0</td>\n",
       "      <td>1</td>\n",
       "      <td>0</td>\n",
       "      <td>1</td>\n",
       "      <td>0</td>\n",
       "      <td>0</td>\n",
       "      <td>0</td>\n",
       "      <td>0</td>\n",
       "      <td>0</td>\n",
       "      <td>0</td>\n",
       "      <td>0</td>\n",
       "      <td>0</td>\n",
       "      <td>0</td>\n",
       "      <td>0</td>\n",
       "      <td>0</td>\n",
       "      <td>0</td>\n",
       "      <td>1</td>\n",
       "    </tr>\n",
       "    <tr>\n",
       "      <th>4</th>\n",
       "      <td>0</td>\n",
       "      <td>1</td>\n",
       "      <td>0</td>\n",
       "      <td>0</td>\n",
       "      <td>0</td>\n",
       "      <td>1</td>\n",
       "      <td>0</td>\n",
       "      <td>0</td>\n",
       "      <td>0</td>\n",
       "      <td>0</td>\n",
       "      <td>0</td>\n",
       "      <td>0</td>\n",
       "      <td>0</td>\n",
       "      <td>0</td>\n",
       "      <td>1</td>\n",
       "      <td>0</td>\n",
       "      <td>0</td>\n",
       "    </tr>\n",
       "  </tbody>\n",
       "</table>\n",
       "</div>"
      ],
      "text/plain": [
       "   gender_F  gender_M  area_A  area_B  area_C  area_D  area_E  area_F  \\\n",
       "0         0         1       0       0       1       0       0       0   \n",
       "1         0         1       0       0       1       0       0       0   \n",
       "2         0         1       1       0       0       0       0       0   \n",
       "3         0         1       0       1       0       0       0       0   \n",
       "4         0         1       0       0       0       1       0       0   \n",
       "\n",
       "   veh_body2_COUPE  veh_body2_HBACK  veh_body2_HDTOP  veh_body2_MIBUS  \\\n",
       "0                0                0                0                0   \n",
       "1                0                0                0                0   \n",
       "2                0                0                0                0   \n",
       "3                0                0                0                0   \n",
       "4                0                0                0                0   \n",
       "\n",
       "   veh_body2_PANVN  veh_body2_SEDAN  veh_body2_STNWG  veh_body2_TRUCK  \\\n",
       "0                0                0                1                0   \n",
       "1                0                1                0                0   \n",
       "2                0                1                0                0   \n",
       "3                0                0                0                0   \n",
       "4                0                0                1                0   \n",
       "\n",
       "   veh_body2_UTE  \n",
       "0              0  \n",
       "1              0  \n",
       "2              0  \n",
       "3              1  \n",
       "4              0  "
      ]
     },
     "execution_count": 97,
     "metadata": {},
     "output_type": "execute_result"
    }
   ],
   "source": [
    "# one-hot encode categorical data\n",
    "dummies = pd.get_dummies(categorical.drop('claim_ind', axis=1))\n",
    "dummies.head()"
   ]
  },
  {
   "cell_type": "code",
   "execution_count": 98,
   "metadata": {},
   "outputs": [
    {
     "name": "stdout",
     "output_type": "stream",
     "text": [
      "<class 'pandas.core.frame.DataFrame'>\n",
      "RangeIndex: 60948 entries, 0 to 60947\n",
      "Data columns (total 17 columns):\n",
      "gender_F           60948 non-null uint8\n",
      "gender_M           60948 non-null uint8\n",
      "area_A             60948 non-null uint8\n",
      "area_B             60948 non-null uint8\n",
      "area_C             60948 non-null uint8\n",
      "area_D             60948 non-null uint8\n",
      "area_E             60948 non-null uint8\n",
      "area_F             60948 non-null uint8\n",
      "veh_body2_COUPE    60948 non-null uint8\n",
      "veh_body2_HBACK    60948 non-null uint8\n",
      "veh_body2_HDTOP    60948 non-null uint8\n",
      "veh_body2_MIBUS    60948 non-null uint8\n",
      "veh_body2_PANVN    60948 non-null uint8\n",
      "veh_body2_SEDAN    60948 non-null uint8\n",
      "veh_body2_STNWG    60948 non-null uint8\n",
      "veh_body2_TRUCK    60948 non-null uint8\n",
      "veh_body2_UTE      60948 non-null uint8\n",
      "dtypes: uint8(17)\n",
      "memory usage: 1012.0 KB\n"
     ]
    }
   ],
   "source": [
    "dummies.info()"
   ]
  },
  {
   "cell_type": "markdown",
   "metadata": {},
   "source": [
    "**concat the continuous and categorical DataFrames**"
   ]
  },
  {
   "cell_type": "markdown",
   "metadata": {},
   "source": [
    "this df:  \n",
    "- log transformed \n",
    "- multicolinearity removed"
   ]
  },
  {
   "cell_type": "code",
   "execution_count": 99,
   "metadata": {},
   "outputs": [
    {
     "data": {
      "text/html": [
       "<div>\n",
       "<style scoped>\n",
       "    .dataframe tbody tr th:only-of-type {\n",
       "        vertical-align: middle;\n",
       "    }\n",
       "\n",
       "    .dataframe tbody tr th {\n",
       "        vertical-align: top;\n",
       "    }\n",
       "\n",
       "    .dataframe thead th {\n",
       "        text-align: right;\n",
       "    }\n",
       "</style>\n",
       "<table border=\"1\" class=\"dataframe\">\n",
       "  <thead>\n",
       "    <tr style=\"text-align: right;\">\n",
       "      <th></th>\n",
       "      <th>traffic_index</th>\n",
       "      <th>veh_ageIndex</th>\n",
       "      <th>credit_score</th>\n",
       "      <th>age</th>\n",
       "      <th>gender_F</th>\n",
       "      <th>gender_M</th>\n",
       "      <th>area_A</th>\n",
       "      <th>area_B</th>\n",
       "      <th>area_C</th>\n",
       "      <th>area_D</th>\n",
       "      <th>area_E</th>\n",
       "      <th>area_F</th>\n",
       "      <th>veh_body2_COUPE</th>\n",
       "      <th>veh_body2_HBACK</th>\n",
       "      <th>veh_body2_HDTOP</th>\n",
       "      <th>veh_body2_MIBUS</th>\n",
       "      <th>veh_body2_PANVN</th>\n",
       "      <th>veh_body2_SEDAN</th>\n",
       "      <th>veh_body2_STNWG</th>\n",
       "      <th>veh_body2_TRUCK</th>\n",
       "      <th>veh_body2_UTE</th>\n",
       "      <th>claim_ind</th>\n",
       "    </tr>\n",
       "  </thead>\n",
       "  <tbody>\n",
       "    <tr>\n",
       "      <th>0</th>\n",
       "      <td>4.532599</td>\n",
       "      <td>1.386294</td>\n",
       "      <td>3.951244</td>\n",
       "      <td>3.970292</td>\n",
       "      <td>0</td>\n",
       "      <td>1</td>\n",
       "      <td>0</td>\n",
       "      <td>0</td>\n",
       "      <td>1</td>\n",
       "      <td>0</td>\n",
       "      <td>0</td>\n",
       "      <td>0</td>\n",
       "      <td>0</td>\n",
       "      <td>0</td>\n",
       "      <td>0</td>\n",
       "      <td>0</td>\n",
       "      <td>0</td>\n",
       "      <td>0</td>\n",
       "      <td>1</td>\n",
       "      <td>0</td>\n",
       "      <td>0</td>\n",
       "      <td>0</td>\n",
       "    </tr>\n",
       "    <tr>\n",
       "      <th>1</th>\n",
       "      <td>4.682131</td>\n",
       "      <td>1.386294</td>\n",
       "      <td>4.418841</td>\n",
       "      <td>3.637586</td>\n",
       "      <td>0</td>\n",
       "      <td>1</td>\n",
       "      <td>0</td>\n",
       "      <td>0</td>\n",
       "      <td>1</td>\n",
       "      <td>0</td>\n",
       "      <td>0</td>\n",
       "      <td>0</td>\n",
       "      <td>0</td>\n",
       "      <td>0</td>\n",
       "      <td>0</td>\n",
       "      <td>0</td>\n",
       "      <td>0</td>\n",
       "      <td>1</td>\n",
       "      <td>0</td>\n",
       "      <td>0</td>\n",
       "      <td>0</td>\n",
       "      <td>0</td>\n",
       "    </tr>\n",
       "    <tr>\n",
       "      <th>2</th>\n",
       "      <td>4.605170</td>\n",
       "      <td>1.098612</td>\n",
       "      <td>4.262680</td>\n",
       "      <td>4.025352</td>\n",
       "      <td>0</td>\n",
       "      <td>1</td>\n",
       "      <td>1</td>\n",
       "      <td>0</td>\n",
       "      <td>0</td>\n",
       "      <td>0</td>\n",
       "      <td>0</td>\n",
       "      <td>0</td>\n",
       "      <td>0</td>\n",
       "      <td>0</td>\n",
       "      <td>0</td>\n",
       "      <td>0</td>\n",
       "      <td>0</td>\n",
       "      <td>1</td>\n",
       "      <td>0</td>\n",
       "      <td>0</td>\n",
       "      <td>0</td>\n",
       "      <td>0</td>\n",
       "    </tr>\n",
       "    <tr>\n",
       "      <th>3</th>\n",
       "      <td>4.343805</td>\n",
       "      <td>1.098612</td>\n",
       "      <td>4.394449</td>\n",
       "      <td>3.713572</td>\n",
       "      <td>0</td>\n",
       "      <td>1</td>\n",
       "      <td>0</td>\n",
       "      <td>1</td>\n",
       "      <td>0</td>\n",
       "      <td>0</td>\n",
       "      <td>0</td>\n",
       "      <td>0</td>\n",
       "      <td>0</td>\n",
       "      <td>0</td>\n",
       "      <td>0</td>\n",
       "      <td>0</td>\n",
       "      <td>0</td>\n",
       "      <td>0</td>\n",
       "      <td>0</td>\n",
       "      <td>0</td>\n",
       "      <td>1</td>\n",
       "      <td>0</td>\n",
       "    </tr>\n",
       "    <tr>\n",
       "      <th>4</th>\n",
       "      <td>4.605170</td>\n",
       "      <td>1.386294</td>\n",
       "      <td>4.477337</td>\n",
       "      <td>3.433987</td>\n",
       "      <td>0</td>\n",
       "      <td>1</td>\n",
       "      <td>0</td>\n",
       "      <td>0</td>\n",
       "      <td>0</td>\n",
       "      <td>1</td>\n",
       "      <td>0</td>\n",
       "      <td>0</td>\n",
       "      <td>0</td>\n",
       "      <td>0</td>\n",
       "      <td>0</td>\n",
       "      <td>0</td>\n",
       "      <td>0</td>\n",
       "      <td>0</td>\n",
       "      <td>1</td>\n",
       "      <td>0</td>\n",
       "      <td>0</td>\n",
       "      <td>0</td>\n",
       "    </tr>\n",
       "  </tbody>\n",
       "</table>\n",
       "</div>"
      ],
      "text/plain": [
       "   traffic_index  veh_ageIndex  credit_score       age  gender_F  gender_M  \\\n",
       "0       4.532599      1.386294      3.951244  3.970292         0         1   \n",
       "1       4.682131      1.386294      4.418841  3.637586         0         1   \n",
       "2       4.605170      1.098612      4.262680  4.025352         0         1   \n",
       "3       4.343805      1.098612      4.394449  3.713572         0         1   \n",
       "4       4.605170      1.386294      4.477337  3.433987         0         1   \n",
       "\n",
       "   area_A  area_B  area_C  area_D  area_E  area_F  veh_body2_COUPE  \\\n",
       "0       0       0       1       0       0       0                0   \n",
       "1       0       0       1       0       0       0                0   \n",
       "2       1       0       0       0       0       0                0   \n",
       "3       0       1       0       0       0       0                0   \n",
       "4       0       0       0       1       0       0                0   \n",
       "\n",
       "   veh_body2_HBACK  veh_body2_HDTOP  veh_body2_MIBUS  veh_body2_PANVN  \\\n",
       "0                0                0                0                0   \n",
       "1                0                0                0                0   \n",
       "2                0                0                0                0   \n",
       "3                0                0                0                0   \n",
       "4                0                0                0                0   \n",
       "\n",
       "   veh_body2_SEDAN  veh_body2_STNWG  veh_body2_TRUCK  veh_body2_UTE claim_ind  \n",
       "0                0                1                0              0         0  \n",
       "1                1                0                0              0         0  \n",
       "2                1                0                0              0         0  \n",
       "3                0                0                0              1         0  \n",
       "4                0                1                0              0         0  "
      ]
     },
     "execution_count": 99,
     "metadata": {},
     "output_type": "execute_result"
    }
   ],
   "source": [
    "#beginning processed dataframe\n",
    "df = pd.concat([cont_log, dummies, categorical.claim_ind], axis = 1, sort=False)\n",
    "df.head()"
   ]
  },
  {
   "cell_type": "code",
   "execution_count": 100,
   "metadata": {},
   "outputs": [
    {
     "data": {
      "text/plain": [
       "<matplotlib.axes._subplots.AxesSubplot at 0x208d5a4d898>"
      ]
     },
     "execution_count": 100,
     "metadata": {},
     "output_type": "execute_result"
    },
    {
     "data": {
      "image/png": "[encoded data removed]",
      "text/plain": [
       "<Figure size 1080x864 with 2 Axes>"
      ]
     },
     "metadata": {
      "needs_background": "light"
     },
     "output_type": "display_data"
    }
   ],
   "source": [
    "plt.figure(figsize=(15, 12))\n",
    "sns.heatmap(df.corr(), annot=True)"
   ]
  },
  {
   "cell_type": "code",
   "execution_count": 101,
   "metadata": {},
   "outputs": [
    {
     "data": {
      "text/plain": [
       "0    56787\n",
       "1     4161\n",
       "Name: claim_ind, dtype: int64"
      ]
     },
     "execution_count": 101,
     "metadata": {},
     "output_type": "execute_result"
    }
   ],
   "source": [
    "df.claim_ind.value_counts()"
   ]
  },
  {
   "cell_type": "code",
   "execution_count": 102,
   "metadata": {},
   "outputs": [
    {
     "name": "stdout",
     "output_type": "stream",
     "text": [
      "<class 'pandas.core.frame.DataFrame'>\n",
      "RangeIndex: 60948 entries, 0 to 60947\n",
      "Data columns (total 22 columns):\n",
      "traffic_index      60948 non-null float64\n",
      "veh_ageIndex       60948 non-null float64\n",
      "credit_score       60948 non-null float64\n",
      "age                60948 non-null float64\n",
      "gender_F           60948 non-null uint8\n",
      "gender_M           60948 non-null uint8\n",
      "area_A             60948 non-null uint8\n",
      "area_B             60948 non-null uint8\n",
      "area_C             60948 non-null uint8\n",
      "area_D             60948 non-null uint8\n",
      "area_E             60948 non-null uint8\n",
      "area_F             60948 non-null uint8\n",
      "veh_body2_COUPE    60948 non-null uint8\n",
      "veh_body2_HBACK    60948 non-null uint8\n",
      "veh_body2_HDTOP    60948 non-null uint8\n",
      "veh_body2_MIBUS    60948 non-null uint8\n",
      "veh_body2_PANVN    60948 non-null uint8\n",
      "veh_body2_SEDAN    60948 non-null uint8\n",
      "veh_body2_STNWG    60948 non-null uint8\n",
      "veh_body2_TRUCK    60948 non-null uint8\n",
      "veh_body2_UTE      60948 non-null uint8\n",
      "claim_ind          60948 non-null category\n",
      "dtypes: category(1), float64(4), uint8(17)\n",
      "memory usage: 2.9 MB\n"
     ]
    }
   ],
   "source": [
    "df.info()"
   ]
  },
  {
   "cell_type": "markdown",
   "metadata": {},
   "source": [
    "create the training and test data we will use for this notebook using **.sample()** instead of SMOTE"
   ]
  },
  {
   "cell_type": "code",
   "execution_count": 103,
   "metadata": {},
   "outputs": [],
   "source": [
    "features_X = df[df.columns[0:-1]].copy()\n",
    "target_y = df.claim_ind.copy()"
   ]
  },
  {
   "cell_type": "markdown",
   "metadata": {},
   "source": [
    "# Logistic Regression Models"
   ]
  },
  {
   "cell_type": "markdown",
   "metadata": {},
   "source": [
    "## LR Model 1"
   ]
  },
  {
   "cell_type": "code",
   "execution_count": 104,
   "metadata": {},
   "outputs": [
    {
     "name": "stderr",
     "output_type": "stream",
     "text": [
      "C:\\Users\\mngav\\Anaconda3\\envs\\learn-env\\lib\\site-packages\\sklearn\\linear_model\\logistic.py:432: FutureWarning: Default solver will be changed to 'lbfgs' in 0.22. Specify a solver to silence this warning.\n",
      "  FutureWarning)\n",
      "C:\\Users\\mngav\\Anaconda3\\envs\\learn-env\\lib\\site-packages\\sklearn\\linear_model\\logistic.py:432: FutureWarning: Default solver will be changed to 'lbfgs' in 0.22. Specify a solver to silence this warning.\n",
      "  FutureWarning)\n",
      "C:\\Users\\mngav\\Anaconda3\\envs\\learn-env\\lib\\site-packages\\sklearn\\linear_model\\logistic.py:432: FutureWarning: Default solver will be changed to 'lbfgs' in 0.22. Specify a solver to silence this warning.\n",
      "  FutureWarning)\n",
      "C:\\Users\\mngav\\Anaconda3\\envs\\learn-env\\lib\\site-packages\\sklearn\\linear_model\\logistic.py:432: FutureWarning: Default solver will be changed to 'lbfgs' in 0.22. Specify a solver to silence this warning.\n",
      "  FutureWarning)\n",
      "C:\\Users\\mngav\\Anaconda3\\envs\\learn-env\\lib\\site-packages\\sklearn\\linear_model\\logistic.py:432: FutureWarning: Default solver will be changed to 'lbfgs' in 0.22. Specify a solver to silence this warning.\n",
      "  FutureWarning)\n",
      "C:\\Users\\mngav\\Anaconda3\\envs\\learn-env\\lib\\site-packages\\sklearn\\linear_model\\logistic.py:432: FutureWarning: Default solver will be changed to 'lbfgs' in 0.22. Specify a solver to silence this warning.\n",
      "  FutureWarning)\n",
      "C:\\Users\\mngav\\Anaconda3\\envs\\learn-env\\lib\\site-packages\\sklearn\\linear_model\\logistic.py:432: FutureWarning: Default solver will be changed to 'lbfgs' in 0.22. Specify a solver to silence this warning.\n",
      "  FutureWarning)\n",
      "C:\\Users\\mngav\\Anaconda3\\envs\\learn-env\\lib\\site-packages\\sklearn\\linear_model\\logistic.py:432: FutureWarning: Default solver will be changed to 'lbfgs' in 0.22. Specify a solver to silence this warning.\n",
      "  FutureWarning)\n",
      "C:\\Users\\mngav\\Anaconda3\\envs\\learn-env\\lib\\site-packages\\sklearn\\linear_model\\logistic.py:432: FutureWarning: Default solver will be changed to 'lbfgs' in 0.22. Specify a solver to silence this warning.\n",
      "  FutureWarning)\n",
      "C:\\Users\\mngav\\Anaconda3\\envs\\learn-env\\lib\\site-packages\\sklearn\\linear_model\\logistic.py:432: FutureWarning: Default solver will be changed to 'lbfgs' in 0.22. Specify a solver to silence this warning.\n",
      "  FutureWarning)\n"
     ]
    }
   ],
   "source": [
    "logReg = LogisticRegression()\n",
    "\n",
    "scores = cross_val_score(logReg, features_X, target_y,\n",
    "                         scoring= 'roc_auc' , cv=10)"
   ]
  },
  {
   "cell_type": "code",
   "execution_count": 105,
   "metadata": {},
   "outputs": [
    {
     "data": {
      "text/plain": [
       "numpy.ndarray"
      ]
     },
     "execution_count": 105,
     "metadata": {},
     "output_type": "execute_result"
    }
   ],
   "source": [
    "type(scores)"
   ]
  },
  {
   "cell_type": "code",
   "execution_count": 106,
   "metadata": {},
   "outputs": [
    {
     "data": {
      "text/plain": [
       "array([0.52506753, 0.54717575, 0.53493937, 0.55135126, 0.51684428,\n",
       "       0.53537408, 0.52249135, 0.54270023, 0.56492586, 0.5221219 ])"
      ]
     },
     "execution_count": 106,
     "metadata": {},
     "output_type": "execute_result"
    }
   ],
   "source": [
    "scores"
   ]
  },
  {
   "cell_type": "code",
   "execution_count": 107,
   "metadata": {},
   "outputs": [],
   "source": [
    "from numpy import savetxt"
   ]
  },
  {
   "cell_type": "code",
   "execution_count": 108,
   "metadata": {},
   "outputs": [
    {
     "name": "stdout",
     "output_type": "stream",
     "text": [
      "Scores: [0.52506753 0.54717575 0.53493937 0.55135126 0.51684428 0.53537408\n",
      " 0.52249135 0.54270023 0.56492586 0.5221219 ]\n",
      "Mean: 0.5362991612424198\n",
      "Standard Deviation: 0.01450628996369617\n"
     ]
    }
   ],
   "source": [
    "def display_scores(scores):\n",
    "    print('Scores:', scores)\n",
    "    print('Mean:', scores.mean())\n",
    "    print('Standard Deviation:', scores.std())\n",
    "    #savetxt('scores.csv', scores)\n",
    "display_scores(scores)"
   ]
  },
  {
   "cell_type": "code",
   "execution_count": 109,
   "metadata": {},
   "outputs": [],
   "source": [
    "def gini_scores(scores):\n",
    "    gini_list = []\n",
    "    \n",
    "    for score in scores:\n",
    "        gini = (2 * score) -1\n",
    "        gini_list.append(gini)\n",
    "\n",
    "    gini_list = np.asarray(gini_list)\n",
    "    return gini_list.mean()  "
   ]
  },
  {
   "cell_type": "code",
   "execution_count": 110,
   "metadata": {},
   "outputs": [],
   "source": [
    "mean_gini_LogReg = gini_scores(scores)"
   ]
  },
  {
   "cell_type": "code",
   "execution_count": 111,
   "metadata": {},
   "outputs": [
    {
     "name": "stdout",
     "output_type": "stream",
     "text": [
      "mean gini score for logistic regression: 0.0726\n"
     ]
    }
   ],
   "source": [
    "print(f'mean gini score for logistic regression: {mean_gini_LogReg:0.3}')"
   ]
  },
  {
   "cell_type": "code",
   "execution_count": 112,
   "metadata": {
    "scrolled": true
   },
   "outputs": [
    {
     "name": "stdout",
     "output_type": "stream",
     "text": [
      "Variable                 Type                          Data/Info\n",
      "----------------------------------------------------------------\n",
      "ADASYN                   ABCMeta                       <class 'imblearn.over_sampling._adasyn.ADASYN'>\n",
      "BaggingClassifier        ABCMeta                       <class 'sklearn.ensemble.<...>gging.BaggingClassifier'>\n",
      "GridSearchCV             ABCMeta                       <class 'sklearn.model_sel<...>on._search.GridSearchCV'>\n",
      "LogisticRegression       type                          <class 'sklearn.linear_mo<...>stic.LogisticRegression'>\n",
      "NamespaceMagics          MetaHasTraits                 <class 'IPython.core.magi<...>mespace.NamespaceMagics'>\n",
      "OneHotEncoder            type                          <class 'sklearn.preproces<...>_encoders.OneHotEncoder'>\n",
      "RF_scores                ndarray                       10: 10 elems, type `float64`, 80 bytes\n",
      "RandomForestClassifier   ABCMeta                       <class 'sklearn.ensemble.<...>.RandomForestClassifier'>\n",
      "SMOTE                    ABCMeta                       <class 'imblearn.over_sampling._smote.SMOTE'>\n",
      "StandardScaler           type                          <class 'sklearn.preproces<...>ing.data.StandardScaler'>\n",
      "accuracy_score           function                      <function accuracy_score at 0x00000208C82D08C8>\n",
      "auc                      function                      <function auc at 0x00000208C824BD90>\n",
      "best_parameters          dict                          n=5\n",
      "boost_clf                XGBClassifier                 XGBClassifier(base_score=<...>silent=True, subsample=1)\n",
      "boost_scores             ndarray                       10: 10 elems, type `float64`, 80 bytes\n",
      "categorical              DataFrame                           gender area claim_i<...>n[60948 rows x 4 columns]\n",
      "classification_report    function                      <function classification_<...>rt at 0x00000208C82DE1E0>\n",
      "confusion_matrix         function                      <function confusion_matrix at 0x00000208C82D0950>\n",
      "cont_log                 DataFrame                            traffic_index  veh<...>n[60948 rows x 4 columns]\n",
      "continuous               DataFrame                            agecat  traffic_in<...>n[60948 rows x 8 columns]\n",
      "copy                     module                        <module 'copy' from 'C:\\\\<...>learn-env\\\\lib\\\\copy.py'>\n",
      "cross_val_score          function                      <function cross_val_score at 0x00000208C840D510>\n",
      "data                     DataFrame                           gender  agecat area<...>[60948 rows x 12 columns]\n",
      "df                       DataFrame                            traffic_index  veh<...>[60948 rows x 22 columns]\n",
      "display_scores           function                      <function display_scores at 0x00000208D203E510>\n",
      "dummies                  DataFrame                            gender_F  gender_M<...>[60948 rows x 17 columns]\n",
      "features_X               DataFrame                            traffic_index  veh<...>[60948 rows x 21 columns]\n",
      "forest                   RandomForestClassifier        RandomForestClassifier(bo<...>bose=0, warm_start=False)\n",
      "get_ipython              function                      <function get_ipython at 0x00000208C02D3510>\n",
      "getsizeof                builtin_function_or_method    <built-in function getsizeof>\n",
      "gini_scores              function                      <function gini_scores at 0x00000208D203E488>\n",
      "grid_clf                 GridSearchCV                  GridSearchCV(cv=10, error<...>ing='roc_auc', verbose=0)\n",
      "i                        str                           claim_amount\n",
      "itertools                module                        <module 'itertools' (built-in)>\n",
      "json                     module                        <module 'json' from 'C:\\\\<...>\\lib\\\\json\\\\__init__.py'>\n",
      "logReg                   LogisticRegression            LogisticRegression(C=1.0,<...>        warm_start=False)\n",
      "matplotlib               module                        <module 'matplotlib' from<...>matplotlib\\\\__init__.py'>\n",
      "mean_RF_gini             float64                       0.07241689649713953\n",
      "mean_boost               float64                       0.055654416935596765\n",
      "mean_gini_LogReg         float64                       0.0725983224848398\n",
      "mean_squared_error       function                      <function mean_squared_er<...>or at 0x00000208C8337158>\n",
      "np                       module                        <module 'numpy' from 'C:\\<...>ges\\\\numpy\\\\__init__.py'>\n",
      "pandas_profiling         module                        <module 'pandas_profiling<...>_profiling\\\\__init__.py'>\n",
      "param_grid               dict                          n=5\n",
      "param_name               str                           subsample\n",
      "pd                       module                        <module 'pandas' from 'C:<...>es\\\\pandas\\\\__init__.py'>\n",
      "pi                       float                         3.14159\n",
      "plt                      module                        <module 'matplotlib.pyplo<...>\\\\matplotlib\\\\pyplot.py'>\n",
      "preprocessing            module                        <module 'sklearn.preproce<...>processing\\\\__init__.py'>\n",
      "print_value_counts       function                      <function print_value_cou<...>ts at 0x00000208D5CD92F0>\n",
      "resample                 function                      <function resample at 0x00000208C7E9AB70>\n",
      "roc_auc_score            function                      <function roc_auc_score at 0x00000208C82D0048>\n",
      "roc_curve                function                      <function roc_curve at 0x00000208C82D01E0>\n",
      "savetxt                  function                      <function savetxt at 0x00000208C29E3950>\n",
      "score                    float64                       0.5221219043812827\n",
      "scores                   ndarray                       10: 10 elems, type `float64`, 80 bytes\n",
      "sns                      module                        <module 'seaborn' from 'C<...>s\\\\seaborn\\\\__init__.py'>\n",
      "target_y                 Series                        0        0\\n1        0\\n2<...>gories (2, int64): [0, 1]\n",
      "train_test_split         function                      <function train_test_split at 0x00000208C8400B70>\n",
      "unique_labels            function                      <function unique_labels at 0x00000208C81F7488>\n",
      "var_dic_list             function                      <function var_dic_list at 0x00000208C27B8AE8>\n",
      "xgb                      module                        <module 'xgboost' from 'C<...>s\\\\xgboost\\\\__init__.py'>\n"
     ]
    }
   ],
   "source": [
    "%whos"
   ]
  },
  {
   "cell_type": "markdown",
   "metadata": {},
   "source": [
    "# Random Forest Models"
   ]
  },
  {
   "cell_type": "markdown",
   "metadata": {},
   "source": [
    "## RF Model 1"
   ]
  },
  {
   "cell_type": "code",
   "execution_count": 113,
   "metadata": {},
   "outputs": [],
   "source": [
    "forest = RandomForestClassifier(n_estimators=100, max_depth= 5)\n",
    "RF_scores = cross_val_score(forest, features_X, target_y, scoring='roc_auc', cv=10)"
   ]
  },
  {
   "cell_type": "code",
   "execution_count": 114,
   "metadata": {},
   "outputs": [
    {
     "name": "stdout",
     "output_type": "stream",
     "text": [
      "Scores: [0.53677628 0.54398797 0.53735485 0.55361415 0.50761535 0.53093042\n",
      " 0.53063115 0.52997822 0.56094499 0.52701385]\n",
      "Mean: 0.5358847249862666\n",
      "Standard Deviation: 0.014056493549048895\n"
     ]
    }
   ],
   "source": [
    "display_scores(RF_scores)"
   ]
  },
  {
   "cell_type": "code",
   "execution_count": 115,
   "metadata": {},
   "outputs": [
    {
     "name": "stdout",
     "output_type": "stream",
     "text": [
      "mean gini score for random forest: 0.0718\n"
     ]
    }
   ],
   "source": [
    "mean_RF_gini = gini_scores(RF_scores)\n",
    "print(f'mean gini score for random forest: {mean_RF_gini:0.3}')"
   ]
  },
  {
   "cell_type": "code",
   "execution_count": 121,
   "metadata": {},
   "outputs": [
    {
     "name": "stderr",
     "output_type": "stream",
     "text": [
      "C:\\Users\\mngav\\Anaconda3\\envs\\learn-env\\lib\\site-packages\\sklearn\\ensemble\\forest.py:245: FutureWarning: The default value of n_estimators will change from 10 in version 0.20 to 100 in 0.22.\n",
      "  \"10 in version 0.20 to 100 in 0.22.\", FutureWarning)\n",
      "C:\\Users\\mngav\\Anaconda3\\envs\\learn-env\\lib\\site-packages\\sklearn\\ensemble\\forest.py:245: FutureWarning: The default value of n_estimators will change from 10 in version 0.20 to 100 in 0.22.\n",
      "  \"10 in version 0.20 to 100 in 0.22.\", FutureWarning)\n",
      "C:\\Users\\mngav\\Anaconda3\\envs\\learn-env\\lib\\site-packages\\sklearn\\ensemble\\forest.py:245: FutureWarning: The default value of n_estimators will change from 10 in version 0.20 to 100 in 0.22.\n",
      "  \"10 in version 0.20 to 100 in 0.22.\", FutureWarning)\n",
      "C:\\Users\\mngav\\Anaconda3\\envs\\learn-env\\lib\\site-packages\\sklearn\\ensemble\\forest.py:245: FutureWarning: The default value of n_estimators will change from 10 in version 0.20 to 100 in 0.22.\n",
      "  \"10 in version 0.20 to 100 in 0.22.\", FutureWarning)\n",
      "C:\\Users\\mngav\\Anaconda3\\envs\\learn-env\\lib\\site-packages\\sklearn\\ensemble\\forest.py:245: FutureWarning: The default value of n_estimators will change from 10 in version 0.20 to 100 in 0.22.\n",
      "  \"10 in version 0.20 to 100 in 0.22.\", FutureWarning)\n",
      "C:\\Users\\mngav\\Anaconda3\\envs\\learn-env\\lib\\site-packages\\sklearn\\ensemble\\forest.py:245: FutureWarning: The default value of n_estimators will change from 10 in version 0.20 to 100 in 0.22.\n",
      "  \"10 in version 0.20 to 100 in 0.22.\", FutureWarning)\n",
      "C:\\Users\\mngav\\Anaconda3\\envs\\learn-env\\lib\\site-packages\\sklearn\\ensemble\\forest.py:245: FutureWarning: The default value of n_estimators will change from 10 in version 0.20 to 100 in 0.22.\n",
      "  \"10 in version 0.20 to 100 in 0.22.\", FutureWarning)\n",
      "C:\\Users\\mngav\\Anaconda3\\envs\\learn-env\\lib\\site-packages\\sklearn\\ensemble\\forest.py:245: FutureWarning: The default value of n_estimators will change from 10 in version 0.20 to 100 in 0.22.\n",
      "  \"10 in version 0.20 to 100 in 0.22.\", FutureWarning)\n",
      "C:\\Users\\mngav\\Anaconda3\\envs\\learn-env\\lib\\site-packages\\sklearn\\ensemble\\forest.py:245: FutureWarning: The default value of n_estimators will change from 10 in version 0.20 to 100 in 0.22.\n",
      "  \"10 in version 0.20 to 100 in 0.22.\", FutureWarning)\n",
      "C:\\Users\\mngav\\Anaconda3\\envs\\learn-env\\lib\\site-packages\\sklearn\\ensemble\\forest.py:245: FutureWarning: The default value of n_estimators will change from 10 in version 0.20 to 100 in 0.22.\n",
      "  \"10 in version 0.20 to 100 in 0.22.\", FutureWarning)\n"
     ]
    },
    {
     "name": "stdout",
     "output_type": "stream",
     "text": [
      "Mean cross validation gini index for random forest classifier: 0.9285\n"
     ]
    }
   ],
   "source": [
    "rf_clf = RandomForestClassifier()\n",
    "mean_rf_cv_score = np.mean(cross_val_score(rf_clf, features_X, target_y, cv=10))\n",
    "\n",
    "print(f'Mean cross validation gini index for random forest classifier: {mean_rf_cv_score:0.4}')\n",
    "                \n",
    "                           "
   ]
  },
  {
   "cell_type": "code",
   "execution_count": null,
   "metadata": {},
   "outputs": [],
   "source": []
  },
  {
   "cell_type": "code",
   "execution_count": null,
   "metadata": {},
   "outputs": [],
   "source": []
  },
  {
   "cell_type": "markdown",
   "metadata": {},
   "source": [
    "# XGBoost Models"
   ]
  },
  {
   "cell_type": "markdown",
   "metadata": {},
   "source": [
    "## XGBoost Model 1"
   ]
  },
  {
   "cell_type": "code",
   "execution_count": 122,
   "metadata": {
    "scrolled": true
   },
   "outputs": [
    {
     "name": "stdout",
     "output_type": "stream",
     "text": [
      "Wall time: 24.7 s\n"
     ]
    }
   ],
   "source": [
    "%%time\n",
    "boost_clf = xgb.XGBClassifier()\n",
    "boost_scores = cross_val_score(boost_clf, features_X, target_y, scoring='roc_auc', cv=10)"
   ]
  },
  {
   "cell_type": "code",
   "execution_count": 123,
   "metadata": {},
   "outputs": [
    {
     "name": "stdout",
     "output_type": "stream",
     "text": [
      "Scores: [0.52611392 0.54194858 0.52167335 0.52962839 0.51178431 0.53860821\n",
      " 0.52418069 0.52953983 0.5445571  0.51023773]\n",
      "Mean: 0.5278272084677984\n",
      "Standard Deviation: 0.011057018221584971\n"
     ]
    }
   ],
   "source": [
    "display_scores(boost_scores)"
   ]
  },
  {
   "cell_type": "code",
   "execution_count": 124,
   "metadata": {},
   "outputs": [
    {
     "name": "stdout",
     "output_type": "stream",
     "text": [
      "mean gini score for XGBoost: 0.0557\n"
     ]
    }
   ],
   "source": [
    "mean_boost = gini_scores(boost_scores)\n",
    "print(f'mean gini score for XGBoost: {mean_boost:0.3}')"
   ]
  },
  {
   "cell_type": "code",
   "execution_count": 125,
   "metadata": {},
   "outputs": [
    {
     "name": "stdout",
     "output_type": "stream",
     "text": [
      "Wall time: 0 ns\n"
     ]
    }
   ],
   "source": [
    "xg_param_grid = {\n",
    "    \n",
    "    \"learning_rate\": [0.1],\n",
    "    'max_depth': [7],\n",
    "    'min_child_weight': [9],\n",
    "    'subsample': [ 0.7],\n",
    "    'n_estimators': [5, 30, 100, 250, 500],\n",
    "    }"
   ]
  },
  {
   "cell_type": "code",
   "execution_count": null,
   "metadata": {},
   "outputs": [],
   "source": [
    "xg_grid_search = GridSearchCV(boost_clf, xg_param_grid, cv=10)\n",
    "xg_grid_search.fit(features_X, target_y)\n",
    "\n",
    "print(f'testing )"
   ]
  },
  {
   "cell_type": "code",
   "execution_count": null,
   "metadata": {},
   "outputs": [],
   "source": []
  },
  {
   "cell_type": "code",
   "execution_count": null,
   "metadata": {},
   "outputs": [],
   "source": []
  },
  {
   "cell_type": "markdown",
   "metadata": {},
   "source": [
    "**XGBoost Classification Report**"
   ]
  },
  {
   "cell_type": "code",
   "execution_count": 120,
   "metadata": {},
   "outputs": [
    {
     "ename": "NameError",
     "evalue": "name 'y_test_boost' is not defined",
     "output_type": "error",
     "traceback": [
      "\u001b[1;31m---------------------------------------------------------------------------\u001b[0m",
      "\u001b[1;31mNameError\u001b[0m                                 Traceback (most recent call last)",
      "\u001b[1;32m<ipython-input-120-71f1c1db5067>\u001b[0m in \u001b[0;36m<module>\u001b[1;34m\u001b[0m\n\u001b[1;32m----> 1\u001b[1;33m \u001b[0mprint\u001b[0m\u001b[1;33m(\u001b[0m\u001b[0mclassification_report\u001b[0m\u001b[1;33m(\u001b[0m\u001b[0my_test_boost\u001b[0m\u001b[1;33m,\u001b[0m \u001b[0mtest_preds\u001b[0m\u001b[1;33m)\u001b[0m\u001b[1;33m)\u001b[0m\u001b[1;33m\u001b[0m\u001b[1;33m\u001b[0m\u001b[0m\n\u001b[0m",
      "\u001b[1;31mNameError\u001b[0m: name 'y_test_boost' is not defined"
     ]
    }
   ],
   "source": [
    "print(classification_report(y_test_boost, test_preds))"
   ]
  },
  {
   "cell_type": "markdown",
   "metadata": {},
   "source": [
    "# Future Work"
   ]
  },
  {
   "cell_type": "code",
   "execution_count": null,
   "metadata": {},
   "outputs": [],
   "source": []
  },
  {
   "cell_type": "code",
   "execution_count": null,
   "metadata": {},
   "outputs": [],
   "source": []
  },
  {
   "cell_type": "code",
   "execution_count": null,
   "metadata": {},
   "outputs": [],
   "source": []
  },
  {
   "cell_type": "code",
   "execution_count": null,
   "metadata": {},
   "outputs": [],
   "source": []
  },
  {
   "cell_type": "markdown",
   "metadata": {},
   "source": [
    "https://www.kdnuggets.com/2017/06/7-techniques-handle-imbalanced-data.html  \n",
    "https://machinelearningmastery.com/tactics-to-combat-imbalanced-classes-in-your-machine-learning-dataset/\n"
   ]
  },
  {
   "cell_type": "code",
   "execution_count": null,
   "metadata": {},
   "outputs": [],
   "source": []
  }
 ],
 "metadata": {
  "kernelspec": {
   "display_name": "learn-env",
   "language": "python",
   "name": "learn-env"
  },
  "language_info": {
   "codemirror_mode": {
    "name": "ipython",
    "version": 3
   },
   "file_extension": ".py",
   "mimetype": "text/x-python",
   "name": "python",
   "nbconvert_exporter": "python",
   "pygments_lexer": "ipython3",
   "version": "3.6.9"
  },
  "toc": {
   "base_numbering": 1,
   "nav_menu": {},
   "number_sections": true,
   "sideBar": true,
   "skip_h1_title": false,
   "title_cell": "Table of Contents",
   "title_sidebar": "Contents",
   "toc_cell": false,
   "toc_position": {},
   "toc_section_display": true,
   "toc_window_display": false
  },
  "varInspector": {
   "cols": {
    "lenName": 16,
    "lenType": 16,
    "lenVar": 40
   },
   "kernels_config": {
    "python": {
     "delete_cmd_postfix": "",
     "delete_cmd_prefix": "del ",
     "library": "var_list.py",
     "varRefreshCmd": "print(var_dic_list())"
    },
    "r": {
     "delete_cmd_postfix": ") ",
     "delete_cmd_prefix": "rm(",
     "library": "var_list.r",
     "varRefreshCmd": "cat(var_dic_list()) "
    }
   },
   "position": {
    "height": "801.771px",
    "left": "1142px",
    "right": "20px",
    "top": "120px",
    "width": "485.99px"
   },
   "types_to_exclude": [
    "module",
    "function",
    "builtin_function_or_method",
    "instance",
    "_Feature"
   ],
   "window_display": false
  }
 },
 "nbformat": 4,
 "nbformat_minor": 2
}
