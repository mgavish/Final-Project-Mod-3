{
 "cells": [
  {
   "cell_type": "code",
   "execution_count": null,
   "metadata": {},
   "outputs": [],
   "source": [
    "# Create logistic regression object\n",
    "regr = LogisticRegression(C=1e5)\n",
    "# Train the model using the training sets\n",
    "regr.fit(age, income_bin)\n",
    "\n",
    "# store the coefficients\n",
    "coef = regr.coef_\n",
    "interc = regr.intercept_\n",
    "# create the linear predictor\n",
    "lin_pred= (age * coef + interc)\n",
    "# perform the log transformation\n",
    "mod_income = 1 / (1 + np.exp(-lin_pred))\n",
    "#sort the numbers to make sure plot looks right\n",
    "age_ordered, mod_income_ordered = zip(*sorted(zip(age ,mod_income.ravel()),key=lambda x: x[0]))"
   ]
  },
  {
   "cell_type": "code",
   "execution_count": null,
   "metadata": {},
   "outputs": [],
   "source": [
    "# using scikit\n",
    "logreg = LogisticRegression(fit_intercept = False, C = 1e15)\n",
    "model_log = logreg.fit(X, y.iloc[:,1])\n",
    "model_log"
   ]
  },
  {
   "cell_type": "code",
   "execution_count": null,
   "metadata": {},
   "outputs": [],
   "source": [
    "model_log.coef_"
   ]
  },
  {
   "cell_type": "markdown",
   "metadata": {
    "heading_collapsed": true
   },
   "source": [
    "# Logistic Regression in SciKit Learn"
   ]
  },
  {
   "cell_type": "code",
   "execution_count": null,
   "metadata": {
    "hidden": true
   },
   "outputs": [],
   "source": [
    "# import data\n",
    "\n",
    "# Preprocessing\n",
    "    #dropping columns\n",
    "    #fixing data types\n",
    "    # check for multicolinearity\n",
    "    \n",
    "    # Split the data sets between categorical and continuous for EDA\n",
    "        # check distributions in histogram (continuous data)\n",
    "            # are data on very different scales? do you need to complete any standardization/feature scaling? \n",
    "                # sklearn will strip headers and prob turn DF into numpy array; \n",
    "                new_df = pd.DataFrame(scaled_df, columns = df_before_scaling.columns)\n",
    "        # get dummies\n",
    "    # concatenate continuous, one-hot encoded and target\n",
    "                \n",
    "# Logisctic Regression\n",
    "    \n",
    "    # Define X and y\n",
    "    # check for class imbalance in target\n",
    "        # resample with SMOTE if imbalance exists\n",
    "        \n",
    "\n",
    "    # Normalize ?\n",
    "    # Train Test Split\n",
    "    X_train, X_test, y_train, y_test = train_test_split(X, y, random_state=0)\n",
    "\n",
    "    # create logistic regression object\n",
    "    logreg = LogisticRegression(fit_intercept = False, C = 1e12)\n",
    "    # Fit a model\n",
    "    model_log = logreg.fit(X_train, y_train)\n",
    "    model_log\n",
    "\n",
    "    # generate Predicttions\n",
    "    y_hat_test = logreg.predict(X_test)\n",
    "    y_hat_train = logreg.predict(X_train)\n",
    "\n",
    "    # check high-level performance\n",
    "    residuals_train_set = y_train - y_hat_train\n",
    "    residuals_test_set = y_test - y_hat_test\n",
    "    \n",
    "    #check more detailed report\n",
    "    from sklearn.metrics import classification_report\n",
    "    print(classification_report(y_test,y_hat_test))\n",
    "\n",
    "    # check confusion matrix\n",
    "    # run ROC and AUC"
   ]
  },
  {
   "cell_type": "markdown",
   "metadata": {},
   "source": [
    "# Random Forest"
   ]
  },
  {
   "cell_type": "code",
   "execution_count": null,
   "metadata": {},
   "outputs": [],
   "source": [
    "# store target in a separate variable and drop it from the data set\n",
    "# "
   ]
  }
 ],
 "metadata": {
  "kernelspec": {
   "display_name": "learn-env",
   "language": "python",
   "name": "learn-env"
  },
  "language_info": {
   "codemirror_mode": {
    "name": "ipython",
    "version": 3
   },
   "file_extension": ".py",
   "mimetype": "text/x-python",
   "name": "python",
   "nbconvert_exporter": "python",
   "pygments_lexer": "ipython3",
   "version": "3.6.6"
  },
  "toc": {
   "base_numbering": 1,
   "nav_menu": {},
   "number_sections": true,
   "sideBar": true,
   "skip_h1_title": false,
   "title_cell": "Table of Contents",
   "title_sidebar": "Contents",
   "toc_cell": false,
   "toc_position": {},
   "toc_section_display": true,
   "toc_window_display": false
  },
  "varInspector": {
   "cols": {
    "lenName": 16,
    "lenType": 16,
    "lenVar": 40
   },
   "kernels_config": {
    "python": {
     "delete_cmd_postfix": "",
     "delete_cmd_prefix": "del ",
     "library": "var_list.py",
     "varRefreshCmd": "print(var_dic_list())"
    },
    "r": {
     "delete_cmd_postfix": ") ",
     "delete_cmd_prefix": "rm(",
     "library": "var_list.r",
     "varRefreshCmd": "cat(var_dic_list()) "
    }
   },
   "types_to_exclude": [
    "module",
    "function",
    "builtin_function_or_method",
    "instance",
    "_Feature"
   ],
   "window_display": false
  }
 },
 "nbformat": 4,
 "nbformat_minor": 2
}
