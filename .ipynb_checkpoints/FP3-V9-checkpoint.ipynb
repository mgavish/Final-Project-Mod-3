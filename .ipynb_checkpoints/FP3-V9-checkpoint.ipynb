{
 "cells": [
  {
   "cell_type": "markdown",
   "metadata": {},
   "source": [
    "#### Import Dependencies"
   ]
  },
  {
   "cell_type": "code",
   "execution_count": 1,
   "metadata": {},
   "outputs": [],
   "source": [
    "import pandas as pd\n",
    "pd.set_option('display.max_columns', None)\n",
    "import numpy as np\n",
    "\n",
    "import itertools\n",
    "\n",
    "from sklearn import preprocessing\n",
    "from sklearn.preprocessing import OneHotEncoder\n",
    "from sklearn.preprocessing import StandardScaler\n",
    "from imblearn.over_sampling import SMOTE, ADASYN\n",
    "\n",
    "from sklearn.linear_model import LogisticRegression\n",
    "from sklearn.model_selection import train_test_split\n",
    "from sklearn.model_selection import GridSearchCV\n",
    "from sklearn.ensemble import BaggingClassifier\n",
    "from sklearn.ensemble import RandomForestClassifier\n",
    "\n",
    "from sklearn.metrics import accuracy_score\n",
    "from sklearn.metrics import confusion_matrix\n",
    "from sklearn.metrics import classification_report\n",
    "from sklearn.metrics import roc_curve, auc\n",
    "from sklearn.metrics import roc_auc_score\n",
    "\n",
    "from sklearn.utils import resample\n",
    "from sklearn.utils.multiclass import unique_labels # for confusion matrix\n",
    "\n",
    "import matplotlib\n",
    "import matplotlib.pyplot as plt\n",
    "%matplotlib inline\n",
    "import seaborn as sns\n"
   ]
  },
  {
   "cell_type": "markdown",
   "metadata": {},
   "source": [
    "#### Data Dictionary"
   ]
  },
  {
   "cell_type": "markdown",
   "metadata": {},
   "source": [
    "**Data Dictionary**\n",
    "\n",
    "- pol_eff_dt - auto insurance policy effective date\n",
    "- gender - gender of driver: F, M\n",
    "- agecat - driver's age category: 1 (youngest), 2, 3, 4, 5, 6\n",
    "- credit_score - driver’s credit score(integer): 1-100, 1=poor, 100=excellent\n",
    "- area - driver's area of residence: A, B, C, D, E, F\n",
    "- traffic_index - traffic index of driver’s area of residence(integer): 100=country average, >100 means worse traffic conditions than average\n",
    "- veh_age - age of vehicle(categorical): 1 (youngest), 2, 3, 4\n",
    "- veh_body - vehicle body, coded as:\n",
    "    - BUS\n",
    "    - CONVT = convertible  \n",
    "    - COUPE   \n",
    "    - HBACK = hatchback                  \n",
    "    - HDTOP = hardtop\n",
    "    - MCARA = motorized caravan\n",
    "    - MIBUS = minibus\n",
    "    - PANVN = panel van\n",
    "    - RDSTR = roadster\n",
    "    - SEDAN    \n",
    "    - STNWG = station wagon\n",
    "    - TRUCK           \n",
    "    - UTE = utility\n",
    "- veh_value - vehicle value, in \\\\$10,000s\n",
    "- claim_office - office location of claim handling agent: A, B, C, D\n",
    "- traffic2 - traffic index of driver’s area of residence(integer): 100=country average, >100 means worse traffic conditions than average.  Null values have imputed mean of full dataset\n",
    "- veh_value2 - vehicle value, in \\\\$10,000s. Null values have been replaces with the mean of the full dataset\n",
    "- veh_value3 - vehicle value, in \\\\$10,000s. Null values have been replaces with the median of the full dataset\n",
    "- veh_age2 - age of vehicle(categorical): 1 (youngest), 2, 3, 4.  Null values have been replaces with the most frequent category, which is 2\n",
    "- credit2 - driver’s credit score(integer): 1-100, 1=poor, 100=excellent. Null values have been replaces with the mean of the full dataset\n",
    "- credit3 - driver’s credit score(integer): 1-100, 1=poor, 100=excellent. Null values have been replaces with the median of the full dataset\n",
    "- dob - driver's date of birth\n",
    "- age - Driver's age at policy effective date\n",
    "- claim_ind - Indicates if the policy had a claim (=1) or not\n",
    "- veh_body2 - vehicle body, with a collapsed type coding, as described below.  Original coding on left, new coding on right:\n",
    "    - 'BUS' = 'MIBUS',\n",
    "    - 'CONVT' = 'HDTOP'\n",
    "    - 'COUPE' = 'COUPE'\n",
    "    - 'HBACK' = 'HBACK'\n",
    "    - 'HDTOP' = 'HDTOP'\n",
    "    - 'MCARA' = 'MIBUS'\n",
    "    - 'MIBUS' = 'MIBUS'\n",
    "    - 'PANVN' = 'PANVN'\n",
    "    - 'RDSTR' = 'HDTOP'\n",
    "    - 'SEDAN' = 'SEDAN'\n",
    "    - STNWG' = 'STNWG'\n",
    "    - 'TRUCK' = 'TRUCK'\n",
    "    - 'UTE' = 'UTE'\n",
    "\n",
    "- numclaims - number of claims(integer): 0 if no claim\n",
    "- claimcst0 - claim amount: 0 if no claim.  This is the total one year claim amount (ultimate loss) for the policy. \n"
   ]
  },
  {
   "cell_type": "markdown",
   "metadata": {},
   "source": [
    "#### DataFrame Dictionary"
   ]
  },
  {
   "cell_type": "markdown",
   "metadata": {},
   "source": []
  },
  {
   "cell_type": "markdown",
   "metadata": {},
   "source": [
    "# Obtaining the Data"
   ]
  },
  {
   "cell_type": "code",
   "execution_count": 2,
   "metadata": {},
   "outputs": [
    {
     "data": {
      "text/html": [
       "<div>\n",
       "<style scoped>\n",
       "    .dataframe tbody tr th:only-of-type {\n",
       "        vertical-align: middle;\n",
       "    }\n",
       "\n",
       "    .dataframe tbody tr th {\n",
       "        vertical-align: top;\n",
       "    }\n",
       "\n",
       "    .dataframe thead th {\n",
       "        text-align: right;\n",
       "    }\n",
       "</style>\n",
       "<table border=\"1\" class=\"dataframe\">\n",
       "  <thead>\n",
       "    <tr style=\"text-align: right;\">\n",
       "      <th></th>\n",
       "      <th>pol_number</th>\n",
       "      <th>pol_eff_dt</th>\n",
       "      <th>gender</th>\n",
       "      <th>agecat</th>\n",
       "      <th>credit_score</th>\n",
       "      <th>area</th>\n",
       "      <th>traffic_index</th>\n",
       "      <th>veh_age</th>\n",
       "      <th>veh_body</th>\n",
       "      <th>veh_value</th>\n",
       "      <th>claim_office</th>\n",
       "      <th>traffic2</th>\n",
       "      <th>veh_value2</th>\n",
       "      <th>veh_value3</th>\n",
       "      <th>veh_age2</th>\n",
       "      <th>credit2</th>\n",
       "      <th>credit3</th>\n",
       "      <th>dob</th>\n",
       "      <th>age</th>\n",
       "      <th>claim_ind</th>\n",
       "      <th>veh_body2</th>\n",
       "      <th>numclaims</th>\n",
       "      <th>claimcst0</th>\n",
       "    </tr>\n",
       "  </thead>\n",
       "  <tbody>\n",
       "    <tr>\n",
       "      <th>0</th>\n",
       "      <td>80750205</td>\n",
       "      <td>7/1/2015</td>\n",
       "      <td>M</td>\n",
       "      <td>4</td>\n",
       "      <td>52.0</td>\n",
       "      <td>C</td>\n",
       "      <td>93.0</td>\n",
       "      <td>4.0</td>\n",
       "      <td>STNWG</td>\n",
       "      <td>2.96</td>\n",
       "      <td>NaN</td>\n",
       "      <td>93</td>\n",
       "      <td>2.96</td>\n",
       "      <td>2.96</td>\n",
       "      <td>4</td>\n",
       "      <td>52.000000</td>\n",
       "      <td>52</td>\n",
       "      <td>2/18/1963</td>\n",
       "      <td>53</td>\n",
       "      <td>0</td>\n",
       "      <td>STNWG</td>\n",
       "      <td>0</td>\n",
       "      <td>0.0</td>\n",
       "    </tr>\n",
       "    <tr>\n",
       "      <th>1</th>\n",
       "      <td>90994433</td>\n",
       "      <td>8/1/2015</td>\n",
       "      <td>M</td>\n",
       "      <td>3</td>\n",
       "      <td>83.0</td>\n",
       "      <td>C</td>\n",
       "      <td>108.0</td>\n",
       "      <td>4.0</td>\n",
       "      <td>SEDAN</td>\n",
       "      <td>1.89</td>\n",
       "      <td>NaN</td>\n",
       "      <td>108</td>\n",
       "      <td>1.89</td>\n",
       "      <td>1.89</td>\n",
       "      <td>4</td>\n",
       "      <td>83.000000</td>\n",
       "      <td>83</td>\n",
       "      <td>2/18/1978</td>\n",
       "      <td>38</td>\n",
       "      <td>0</td>\n",
       "      <td>SEDAN</td>\n",
       "      <td>0</td>\n",
       "      <td>0.0</td>\n",
       "    </tr>\n",
       "    <tr>\n",
       "      <th>2</th>\n",
       "      <td>59239520</td>\n",
       "      <td>7/1/2015</td>\n",
       "      <td>M</td>\n",
       "      <td>5</td>\n",
       "      <td>71.0</td>\n",
       "      <td>A</td>\n",
       "      <td>NaN</td>\n",
       "      <td>3.0</td>\n",
       "      <td>SEDAN</td>\n",
       "      <td>2.75</td>\n",
       "      <td>NaN</td>\n",
       "      <td>100</td>\n",
       "      <td>2.75</td>\n",
       "      <td>2.75</td>\n",
       "      <td>3</td>\n",
       "      <td>71.000000</td>\n",
       "      <td>71</td>\n",
       "      <td>4/14/1960</td>\n",
       "      <td>56</td>\n",
       "      <td>0</td>\n",
       "      <td>SEDAN</td>\n",
       "      <td>0</td>\n",
       "      <td>0.0</td>\n",
       "    </tr>\n",
       "    <tr>\n",
       "      <th>3</th>\n",
       "      <td>67030771</td>\n",
       "      <td>11/1/2015</td>\n",
       "      <td>M</td>\n",
       "      <td>3</td>\n",
       "      <td>NaN</td>\n",
       "      <td>B</td>\n",
       "      <td>77.0</td>\n",
       "      <td>3.0</td>\n",
       "      <td>UTE</td>\n",
       "      <td>2.92</td>\n",
       "      <td>NaN</td>\n",
       "      <td>77</td>\n",
       "      <td>2.92</td>\n",
       "      <td>2.92</td>\n",
       "      <td>3</td>\n",
       "      <td>74.730883</td>\n",
       "      <td>81</td>\n",
       "      <td>12/23/1974</td>\n",
       "      <td>41</td>\n",
       "      <td>0</td>\n",
       "      <td>UTE</td>\n",
       "      <td>0</td>\n",
       "      <td>0.0</td>\n",
       "    </tr>\n",
       "    <tr>\n",
       "      <th>4</th>\n",
       "      <td>91422215</td>\n",
       "      <td>8/1/2015</td>\n",
       "      <td>M</td>\n",
       "      <td>2</td>\n",
       "      <td>88.0</td>\n",
       "      <td>D</td>\n",
       "      <td>NaN</td>\n",
       "      <td>4.0</td>\n",
       "      <td>STNWG</td>\n",
       "      <td>3.63</td>\n",
       "      <td>NaN</td>\n",
       "      <td>100</td>\n",
       "      <td>3.63</td>\n",
       "      <td>3.63</td>\n",
       "      <td>4</td>\n",
       "      <td>88.000000</td>\n",
       "      <td>88</td>\n",
       "      <td>12/25/1984</td>\n",
       "      <td>31</td>\n",
       "      <td>0</td>\n",
       "      <td>STNWG</td>\n",
       "      <td>0</td>\n",
       "      <td>0.0</td>\n",
       "    </tr>\n",
       "  </tbody>\n",
       "</table>\n",
       "</div>"
      ],
      "text/plain": [
       "   pol_number pol_eff_dt gender  agecat  credit_score area  traffic_index  \\\n",
       "0    80750205   7/1/2015      M       4          52.0    C           93.0   \n",
       "1    90994433   8/1/2015      M       3          83.0    C          108.0   \n",
       "2    59239520   7/1/2015      M       5          71.0    A            NaN   \n",
       "3    67030771  11/1/2015      M       3           NaN    B           77.0   \n",
       "4    91422215   8/1/2015      M       2          88.0    D            NaN   \n",
       "\n",
       "   veh_age veh_body  veh_value claim_office  traffic2  veh_value2  veh_value3  \\\n",
       "0      4.0    STNWG       2.96          NaN        93        2.96        2.96   \n",
       "1      4.0    SEDAN       1.89          NaN       108        1.89        1.89   \n",
       "2      3.0    SEDAN       2.75          NaN       100        2.75        2.75   \n",
       "3      3.0      UTE       2.92          NaN        77        2.92        2.92   \n",
       "4      4.0    STNWG       3.63          NaN       100        3.63        3.63   \n",
       "\n",
       "   veh_age2    credit2  credit3         dob  age  claim_ind veh_body2  \\\n",
       "0         4  52.000000       52   2/18/1963   53          0     STNWG   \n",
       "1         4  83.000000       83   2/18/1978   38          0     SEDAN   \n",
       "2         3  71.000000       71   4/14/1960   56          0     SEDAN   \n",
       "3         3  74.730883       81  12/23/1974   41          0       UTE   \n",
       "4         4  88.000000       88  12/25/1984   31          0     STNWG   \n",
       "\n",
       "   numclaims  claimcst0  \n",
       "0          0        0.0  \n",
       "1          0        0.0  \n",
       "2          0        0.0  \n",
       "3          0        0.0  \n",
       "4          0        0.0  "
      ]
     },
     "execution_count": 2,
     "metadata": {},
     "output_type": "execute_result"
    }
   ],
   "source": [
    "data = pd.read_csv('autoinsurance_claims.csv')\n",
    "data.head()"
   ]
  },
  {
   "cell_type": "code",
   "execution_count": 3,
   "metadata": {},
   "outputs": [
    {
     "data": {
      "text/plain": [
       "(60948, 23)"
      ]
     },
     "execution_count": 3,
     "metadata": {},
     "output_type": "execute_result"
    }
   ],
   "source": [
    "data.shape"
   ]
  },
  {
   "cell_type": "markdown",
   "metadata": {},
   "source": [
    "# Preprocessing"
   ]
  },
  {
   "cell_type": "code",
   "execution_count": 4,
   "metadata": {},
   "outputs": [
    {
     "data": {
      "text/plain": [
       "pol_number           0\n",
       "pol_eff_dt           0\n",
       "gender               0\n",
       "agecat               0\n",
       "credit_score      3014\n",
       "area                 0\n",
       "traffic_index    12250\n",
       "veh_age          10476\n",
       "veh_body             0\n",
       "veh_value         7562\n",
       "claim_office     56787\n",
       "traffic2             0\n",
       "veh_value2           0\n",
       "veh_value3           0\n",
       "veh_age2             0\n",
       "credit2              0\n",
       "credit3              0\n",
       "dob                  0\n",
       "age                  0\n",
       "claim_ind            0\n",
       "veh_body2            0\n",
       "numclaims            0\n",
       "claimcst0            0\n",
       "dtype: int64"
      ]
     },
     "execution_count": 4,
     "metadata": {},
     "output_type": "execute_result"
    }
   ],
   "source": [
    "# looking for null values\n",
    "data.isnull().sum()"
   ]
  },
  {
   "cell_type": "markdown",
   "metadata": {},
   "source": [
    "__Dropping Columns__"
   ]
  },
  {
   "cell_type": "code",
   "execution_count": 5,
   "metadata": {},
   "outputs": [],
   "source": [
    "# claim office is mostly empty; lets drop the feature\n",
    "# we don't need the policy number either\n",
    "# veh_body and veh_body2 are equal, keep veh_body2 as it is updated\n",
    "# the dateTime columns create a complexity we could do without and tell us nothing since they are not the focus\n",
    "  ## of the data.\n",
    "# pol_eff_dt is proprietary info we don't need and dob is redundant since we have age. \n",
    "  \n",
    "data.drop(['claim_office', 'pol_number', 'veh_body', 'pol_eff_dt', 'dob'], axis = 1, inplace = True)\n",
    "\n",
    "\n"
   ]
  },
  {
   "cell_type": "markdown",
   "metadata": {},
   "source": [
    "there are duplicate columns for credit_score, traffic_index, vehicle_value, containing null values, where either the mean, median or both were used to impute missing values.  Lets keep only columns with median imputation"
   ]
  },
  {
   "cell_type": "code",
   "execution_count": 6,
   "metadata": {},
   "outputs": [],
   "source": [
    "# drop credit_score and credit2 columns\n",
    "# drop veh_age column.  vehicle age also has a duplicate column, where the mode was used for null values. \n",
    "  ##This is an ordinal value so keeping the mode for imputation makes sense\n",
    "data.drop(['credit_score', 'credit2', 'traffic_index', 'veh_value', 'veh_value2', 'veh_age'], axis = 1, inplace = True)"
   ]
  },
  {
   "cell_type": "code",
   "execution_count": 7,
   "metadata": {},
   "outputs": [
    {
     "data": {
      "text/plain": [
       "gender        0\n",
       "agecat        0\n",
       "area          0\n",
       "traffic2      0\n",
       "veh_value3    0\n",
       "veh_age2      0\n",
       "credit3       0\n",
       "age           0\n",
       "claim_ind     0\n",
       "veh_body2     0\n",
       "numclaims     0\n",
       "claimcst0     0\n",
       "dtype: int64"
      ]
     },
     "execution_count": 7,
     "metadata": {},
     "output_type": "execute_result"
    }
   ],
   "source": [
    "# confirm we have no other null values\n",
    "data.isnull().sum()"
   ]
  },
  {
   "cell_type": "markdown",
   "metadata": {},
   "source": [
    "**Fix Data Types**"
   ]
  },
  {
   "cell_type": "code",
   "execution_count": 8,
   "metadata": {},
   "outputs": [
    {
     "name": "stdout",
     "output_type": "stream",
     "text": [
      "<class 'pandas.core.frame.DataFrame'>\n",
      "RangeIndex: 60948 entries, 0 to 60947\n",
      "Data columns (total 12 columns):\n",
      "gender        60948 non-null object\n",
      "agecat        60948 non-null int64\n",
      "area          60948 non-null object\n",
      "traffic2      60948 non-null int64\n",
      "veh_value3    60948 non-null float64\n",
      "veh_age2      60948 non-null int64\n",
      "credit3       60948 non-null int64\n",
      "age           60948 non-null int64\n",
      "claim_ind     60948 non-null int64\n",
      "veh_body2     60948 non-null object\n",
      "numclaims     60948 non-null int64\n",
      "claimcst0     60948 non-null float64\n",
      "dtypes: float64(2), int64(7), object(3)\n",
      "memory usage: 5.6+ MB\n"
     ]
    }
   ],
   "source": [
    "data.info()"
   ]
  },
  {
   "cell_type": "markdown",
   "metadata": {},
   "source": [
    "\n",
    "\n",
    "| Feature | Change Type to: |\n",
    "|------------|---------------------|\n",
    "| gender | change to category |\n",
    "| agecat | change to category |\n",
    "| area | change to category |\n",
    "| veh_age2 | change to category |\n",
    "| claim_ind | change to category |\n",
    "| veh_body2 | change to category |\n"
   ]
  },
  {
   "cell_type": "code",
   "execution_count": 9,
   "metadata": {},
   "outputs": [],
   "source": [
    "data = data.astype({'gender':'category', 'area':'category', \n",
    "             'claim_ind':'category', 'veh_body2':'category'}, inplace = True)"
   ]
  },
  {
   "cell_type": "code",
   "execution_count": 10,
   "metadata": {},
   "outputs": [
    {
     "name": "stdout",
     "output_type": "stream",
     "text": [
      "<class 'pandas.core.frame.DataFrame'>\n",
      "RangeIndex: 60948 entries, 0 to 60947\n",
      "Data columns (total 12 columns):\n",
      "gender        60948 non-null category\n",
      "agecat        60948 non-null int64\n",
      "area          60948 non-null category\n",
      "traffic2      60948 non-null int64\n",
      "veh_value3    60948 non-null float64\n",
      "veh_age2      60948 non-null int64\n",
      "credit3       60948 non-null int64\n",
      "age           60948 non-null int64\n",
      "claim_ind     60948 non-null category\n",
      "veh_body2     60948 non-null category\n",
      "numclaims     60948 non-null int64\n",
      "claimcst0     60948 non-null float64\n",
      "dtypes: category(4), float64(2), int64(6)\n",
      "memory usage: 4.0 MB\n"
     ]
    }
   ],
   "source": [
    "# double check the work\n",
    "data.info()"
   ]
  },
  {
   "cell_type": "markdown",
   "metadata": {},
   "source": [
    "**Edit Column Names**\n",
    "\n",
    "Lets change a few of the column names for ease of use as we move forward and work with the data"
   ]
  },
  {
   "cell_type": "code",
   "execution_count": 11,
   "metadata": {},
   "outputs": [],
   "source": [
    "data.rename(columns={'traffic2':'traffic_index', 'veh_value3':'veh_value00', 'credit3':'credit_score', 'numclaims':'num_claims', \n",
    "             'claimcst0':'claim_amount', 'veh_age2':'veh_ageIndex'}, inplace=True)"
   ]
  },
  {
   "cell_type": "code",
   "execution_count": 12,
   "metadata": {},
   "outputs": [
    {
     "name": "stdout",
     "output_type": "stream",
     "text": [
      "<class 'pandas.core.frame.DataFrame'>\n",
      "RangeIndex: 60948 entries, 0 to 60947\n",
      "Data columns (total 12 columns):\n",
      "gender           60948 non-null category\n",
      "agecat           60948 non-null int64\n",
      "area             60948 non-null category\n",
      "traffic_index    60948 non-null int64\n",
      "veh_value00      60948 non-null float64\n",
      "veh_ageIndex     60948 non-null int64\n",
      "credit_score     60948 non-null int64\n",
      "age              60948 non-null int64\n",
      "claim_ind        60948 non-null category\n",
      "veh_body2        60948 non-null category\n",
      "num_claims       60948 non-null int64\n",
      "claim_amount     60948 non-null float64\n",
      "dtypes: category(4), float64(2), int64(6)\n",
      "memory usage: 4.0 MB\n"
     ]
    }
   ],
   "source": [
    "data.info()"
   ]
  },
  {
   "cell_type": "code",
   "execution_count": 13,
   "metadata": {},
   "outputs": [],
   "source": [
    "data.to_csv('data.csv')"
   ]
  },
  {
   "cell_type": "markdown",
   "metadata": {},
   "source": [
    "**Look for Multicolinearity**"
   ]
  },
  {
   "cell_type": "code",
   "execution_count": 14,
   "metadata": {
    "scrolled": false
   },
   "outputs": [
    {
     "data": {
      "text/plain": [
       "<matplotlib.axes._subplots.AxesSubplot at 0x1c6c281d860>"
      ]
     },
     "execution_count": 14,
     "metadata": {},
     "output_type": "execute_result"
    },
    {
     "data": {
      "image/png": "[encoded data removed]",
      "text/plain": [
       "<Figure size 1080x864 with 2 Axes>"
      ]
     },
     "metadata": {
      "needs_background": "light"
     },
     "output_type": "display_data"
    }
   ],
   "source": [
    "plt.figure(figsize=(15, 12))\n",
    "sns.heatmap(data.corr(), annot=True)"
   ]
  },
  {
   "cell_type": "markdown",
   "metadata": {},
   "source": [
    "**Split data set between categorical and continuous**"
   ]
  },
  {
   "cell_type": "markdown",
   "metadata": {},
   "source": [
    "I will treat ordinal features as numeric data.  Doing this requires the assumption that the numeric space between each category is equal or close to equal.   To ignore the ordering would essentially mean we could delete columns for the drivers age, the traffic index, vehicle age and credit score; that would be too much useful information to lose and an extreme downside.  The downside to treating this data as numeric is that if the spread between bins are not equal, then our results may only be approximate.  I would posit that the approximate results would be more accurate than any model that disregarded them. "
   ]
  },
  {
   "cell_type": "code",
   "execution_count": 15,
   "metadata": {},
   "outputs": [
    {
     "name": "stdout",
     "output_type": "stream",
     "text": [
      "<class 'pandas.core.frame.DataFrame'>\n",
      "RangeIndex: 60948 entries, 0 to 60947\n",
      "Data columns (total 8 columns):\n",
      "agecat           60948 non-null int64\n",
      "traffic_index    60948 non-null int64\n",
      "veh_value00      60948 non-null float64\n",
      "veh_ageIndex     60948 non-null int64\n",
      "credit_score     60948 non-null int64\n",
      "age              60948 non-null int64\n",
      "num_claims       60948 non-null int64\n",
      "claim_amount     60948 non-null float64\n",
      "dtypes: float64(2), int64(6)\n",
      "memory usage: 3.7 MB\n"
     ]
    }
   ],
   "source": [
    "# create continuous sub-DataFrame\n",
    "\n",
    "continuous = data.copy()\n",
    "for i in continuous:\n",
    "    if continuous[i].dtype.name == 'category':\n",
    "        continuous.drop(i, axis=1, inplace = True)\n",
    "continuous.info()"
   ]
  },
  {
   "cell_type": "code",
   "execution_count": 16,
   "metadata": {},
   "outputs": [
    {
     "data": {
      "text/html": [
       "<div>\n",
       "<style scoped>\n",
       "    .dataframe tbody tr th:only-of-type {\n",
       "        vertical-align: middle;\n",
       "    }\n",
       "\n",
       "    .dataframe tbody tr th {\n",
       "        vertical-align: top;\n",
       "    }\n",
       "\n",
       "    .dataframe thead th {\n",
       "        text-align: right;\n",
       "    }\n",
       "</style>\n",
       "<table border=\"1\" class=\"dataframe\">\n",
       "  <thead>\n",
       "    <tr style=\"text-align: right;\">\n",
       "      <th></th>\n",
       "      <th>agecat</th>\n",
       "      <th>traffic_index</th>\n",
       "      <th>veh_value00</th>\n",
       "      <th>veh_ageIndex</th>\n",
       "      <th>credit_score</th>\n",
       "      <th>age</th>\n",
       "      <th>num_claims</th>\n",
       "      <th>claim_amount</th>\n",
       "    </tr>\n",
       "  </thead>\n",
       "  <tbody>\n",
       "    <tr>\n",
       "      <th>0</th>\n",
       "      <td>4</td>\n",
       "      <td>93</td>\n",
       "      <td>2.96</td>\n",
       "      <td>4</td>\n",
       "      <td>52</td>\n",
       "      <td>53</td>\n",
       "      <td>0</td>\n",
       "      <td>0.0</td>\n",
       "    </tr>\n",
       "    <tr>\n",
       "      <th>1</th>\n",
       "      <td>3</td>\n",
       "      <td>108</td>\n",
       "      <td>1.89</td>\n",
       "      <td>4</td>\n",
       "      <td>83</td>\n",
       "      <td>38</td>\n",
       "      <td>0</td>\n",
       "      <td>0.0</td>\n",
       "    </tr>\n",
       "    <tr>\n",
       "      <th>2</th>\n",
       "      <td>5</td>\n",
       "      <td>100</td>\n",
       "      <td>2.75</td>\n",
       "      <td>3</td>\n",
       "      <td>71</td>\n",
       "      <td>56</td>\n",
       "      <td>0</td>\n",
       "      <td>0.0</td>\n",
       "    </tr>\n",
       "    <tr>\n",
       "      <th>3</th>\n",
       "      <td>3</td>\n",
       "      <td>77</td>\n",
       "      <td>2.92</td>\n",
       "      <td>3</td>\n",
       "      <td>81</td>\n",
       "      <td>41</td>\n",
       "      <td>0</td>\n",
       "      <td>0.0</td>\n",
       "    </tr>\n",
       "    <tr>\n",
       "      <th>4</th>\n",
       "      <td>2</td>\n",
       "      <td>100</td>\n",
       "      <td>3.63</td>\n",
       "      <td>4</td>\n",
       "      <td>88</td>\n",
       "      <td>31</td>\n",
       "      <td>0</td>\n",
       "      <td>0.0</td>\n",
       "    </tr>\n",
       "  </tbody>\n",
       "</table>\n",
       "</div>"
      ],
      "text/plain": [
       "   agecat  traffic_index  veh_value00  veh_ageIndex  credit_score  age  \\\n",
       "0       4             93         2.96             4            52   53   \n",
       "1       3            108         1.89             4            83   38   \n",
       "2       5            100         2.75             3            71   56   \n",
       "3       3             77         2.92             3            81   41   \n",
       "4       2            100         3.63             4            88   31   \n",
       "\n",
       "   num_claims  claim_amount  \n",
       "0           0           0.0  \n",
       "1           0           0.0  \n",
       "2           0           0.0  \n",
       "3           0           0.0  \n",
       "4           0           0.0  "
      ]
     },
     "execution_count": 16,
     "metadata": {},
     "output_type": "execute_result"
    }
   ],
   "source": [
    "continuous.head()"
   ]
  },
  {
   "cell_type": "code",
   "execution_count": 17,
   "metadata": {},
   "outputs": [
    {
     "data": {
      "text/plain": [
       "0    56787\n",
       "1     3907\n",
       "2      236\n",
       "3       17\n",
       "4        1\n",
       "Name: num_claims, dtype: int64"
      ]
     },
     "execution_count": 17,
     "metadata": {},
     "output_type": "execute_result"
    }
   ],
   "source": [
    "continuous.num_claims.value_counts()"
   ]
  },
  {
   "cell_type": "code",
   "execution_count": 18,
   "metadata": {},
   "outputs": [
    {
     "data": {
      "text/plain": [
       "array([[<matplotlib.axes._subplots.AxesSubplot object at 0x000001C6C2CB1F98>,\n",
       "        <matplotlib.axes._subplots.AxesSubplot object at 0x000001C6C2F43080>,\n",
       "        <matplotlib.axes._subplots.AxesSubplot object at 0x000001C6C403C2E8>],\n",
       "       [<matplotlib.axes._subplots.AxesSubplot object at 0x000001C6C4065550>,\n",
       "        <matplotlib.axes._subplots.AxesSubplot object at 0x000001C6C40907B8>,\n",
       "        <matplotlib.axes._subplots.AxesSubplot object at 0x000001C6C40B8A20>],\n",
       "       [<matplotlib.axes._subplots.AxesSubplot object at 0x000001C6C40E3F28>,\n",
       "        <matplotlib.axes._subplots.AxesSubplot object at 0x000001C6C4113518>,\n",
       "        <matplotlib.axes._subplots.AxesSubplot object at 0x000001C6C4113550>]],\n",
       "      dtype=object)"
      ]
     },
     "execution_count": 18,
     "metadata": {},
     "output_type": "execute_result"
    },
    {
     "data": {
      "image/png": "[encoded data removed]",
      "text/plain": [
       "<Figure size 720x720 with 9 Axes>"
      ]
     },
     "metadata": {
      "needs_background": "light"
     },
     "output_type": "display_data"
    }
   ],
   "source": [
    "# inspect distributions for continuous data\n",
    "continuous.hist(figsize=(10,10))"
   ]
  },
  {
   "cell_type": "code",
   "execution_count": 19,
   "metadata": {},
   "outputs": [
    {
     "name": "stdout",
     "output_type": "stream",
     "text": [
      "agecat :\n",
      "4    14585\n",
      "3    14177\n",
      "2    11539\n",
      "5     9634\n",
      "6     5853\n",
      "1     5160\n",
      "Name: agecat, dtype: int64 \n",
      "\n",
      "traffic_index :\n",
      "100    12760\n",
      "76       562\n",
      "72       558\n",
      "84       544\n",
      "77       544\n",
      "75       531\n",
      "86       527\n",
      "79       516\n",
      "80       508\n",
      "82       507\n",
      "90       503\n",
      "91       503\n",
      "81       502\n",
      "66       499\n",
      "73       497\n",
      "74       497\n",
      "78       496\n",
      "89       491\n",
      "87       488\n",
      "69       486\n",
      "93       485\n",
      "65       483\n",
      "98       481\n",
      "83       481\n",
      "70       477\n",
      "85       474\n",
      "71       470\n",
      "63       468\n",
      "96       462\n",
      "102      461\n",
      "       ...  \n",
      "5          5\n",
      "4          5\n",
      "205        5\n",
      "0          4\n",
      "208        4\n",
      "217        4\n",
      "9          4\n",
      "204        4\n",
      "13         4\n",
      "206        4\n",
      "212        3\n",
      "8          3\n",
      "203        3\n",
      "224        3\n",
      "2          3\n",
      "220        2\n",
      "216        2\n",
      "1          2\n",
      "215        2\n",
      "6          2\n",
      "3          2\n",
      "241        1\n",
      "230        1\n",
      "235        1\n",
      "11         1\n",
      "232        1\n",
      "218        1\n",
      "221        1\n",
      "222        1\n",
      "223        1\n",
      "Name: traffic_index, Length: 228, dtype: int64 \n",
      "\n",
      "veh_value00 :\n",
      "3.38     7942\n",
      "3.06      436\n",
      "1.59      419\n",
      "2.92      411\n",
      "3.15      403\n",
      "2.84      397\n",
      "3.09      384\n",
      "2.75      358\n",
      "3.92      358\n",
      "2.96      354\n",
      "2.91      349\n",
      "3.25      344\n",
      "3.17      338\n",
      "1.74      326\n",
      "2.88      325\n",
      "0.99      323\n",
      "1.84      315\n",
      "3.96      312\n",
      "1.03      311\n",
      "2.62      310\n",
      "3.63      309\n",
      "3.69      308\n",
      "0.93      305\n",
      "3.00      301\n",
      "3.51      297\n",
      "2.54      296\n",
      "3.54      296\n",
      "2.13      291\n",
      "1.78      289\n",
      "1.64      286\n",
      "         ... \n",
      "23.31       1\n",
      "26.78       1\n",
      "14.73       1\n",
      "46.52       1\n",
      "18.32       1\n",
      "16.32       1\n",
      "17.66       1\n",
      "19.77       1\n",
      "27.90       1\n",
      "11.97       1\n",
      "20.01       1\n",
      "29.01       1\n",
      "27.20       1\n",
      "16.92       1\n",
      "16.53       1\n",
      "8.71        1\n",
      "18.86       1\n",
      "3.57        1\n",
      "38.20       1\n",
      "15.66       1\n",
      "9.55        1\n",
      "38.25       1\n",
      "15.21       1\n",
      "14.38       1\n",
      "30.08       1\n",
      "52.64       1\n",
      "20.45       1\n",
      "14.57       1\n",
      "17.97       1\n",
      "25.29       1\n",
      "Name: veh_value00, Length: 825, dtype: int64 \n",
      "\n",
      "veh_ageIndex :\n",
      "2    22653\n",
      "3    15005\n",
      "4    14148\n",
      "1     9142\n",
      "Name: veh_ageIndex, dtype: int64 \n",
      "\n",
      "credit_score :\n",
      "81    4511\n",
      "87    1786\n",
      "88    1772\n",
      "91    1739\n",
      "85    1714\n",
      "90    1705\n",
      "93    1689\n",
      "92    1666\n",
      "86    1627\n",
      "89    1620\n",
      "94    1600\n",
      "83    1557\n",
      "84    1546\n",
      "95    1512\n",
      "82    1492\n",
      "96    1487\n",
      "97    1368\n",
      "98    1185\n",
      "80    1183\n",
      "78    1167\n",
      "79    1161\n",
      "77    1038\n",
      "76    1030\n",
      "75     961\n",
      "74     959\n",
      "73     951\n",
      "99     888\n",
      "71     839\n",
      "72     836\n",
      "70     759\n",
      "      ... \n",
      "15     281\n",
      "48     274\n",
      "19     262\n",
      "45     252\n",
      "46     236\n",
      "41     229\n",
      "42     219\n",
      "40     193\n",
      "44     193\n",
      "43     187\n",
      "38     169\n",
      "37     151\n",
      "39     146\n",
      "35     132\n",
      "34     132\n",
      "36     128\n",
      "24     115\n",
      "33     114\n",
      "31     112\n",
      "32     105\n",
      "30     104\n",
      "22      99\n",
      "27      91\n",
      "23      91\n",
      "29      91\n",
      "26      87\n",
      "28      85\n",
      "25      80\n",
      "21      80\n",
      "8        1\n",
      "Name: credit_score, Length: 90, dtype: int64 \n",
      "\n",
      "age :\n",
      "49     1506\n",
      "51     1503\n",
      "54     1502\n",
      "53     1498\n",
      "43     1498\n",
      "50     1485\n",
      "48     1471\n",
      "36     1471\n",
      "39     1445\n",
      "47     1431\n",
      "46     1425\n",
      "42     1425\n",
      "37     1417\n",
      "45     1415\n",
      "41     1412\n",
      "40     1405\n",
      "52     1370\n",
      "44     1363\n",
      "38     1333\n",
      "35     1289\n",
      "29     1230\n",
      "55     1182\n",
      "34     1179\n",
      "27     1178\n",
      "28     1158\n",
      "32     1156\n",
      "26     1156\n",
      "31     1114\n",
      "33     1111\n",
      "30     1095\n",
      "       ... \n",
      "83      135\n",
      "80      135\n",
      "88      134\n",
      "85      134\n",
      "105     133\n",
      "96      132\n",
      "86      132\n",
      "95      132\n",
      "74      132\n",
      "91      130\n",
      "102     130\n",
      "97      130\n",
      "69      129\n",
      "70      128\n",
      "98      127\n",
      "99      126\n",
      "101     124\n",
      "100     124\n",
      "78      122\n",
      "68      120\n",
      "81      120\n",
      "106     119\n",
      "94      117\n",
      "67      117\n",
      "76      110\n",
      "93      106\n",
      "75      105\n",
      "84      104\n",
      "109     101\n",
      "110      67\n",
      "Name: age, Length: 96, dtype: int64 \n",
      "\n",
      "num_claims :\n",
      "0    56787\n",
      "1     3907\n",
      "2      236\n",
      "3       17\n",
      "4        1\n",
      "Name: num_claims, dtype: int64 \n",
      "\n",
      "claim_amount :\n",
      "0.00       56787\n",
      "1986.10        3\n",
      "2199.22        2\n",
      "1867.05        2\n",
      "2289.33        2\n",
      "2001.80        2\n",
      "1912.30        2\n",
      "2029.30        2\n",
      "2006.59        2\n",
      "2191.68        2\n",
      "1935.72        2\n",
      "1921.59        2\n",
      "2052.28        2\n",
      "2008.99        2\n",
      "1811.57        2\n",
      "1954.77        2\n",
      "1967.34        2\n",
      "1856.87        2\n",
      "2057.53        2\n",
      "2151.99        2\n",
      "2046.44        2\n",
      "2074.33        2\n",
      "1927.98        2\n",
      "1984.56        2\n",
      "1983.04        2\n",
      "1659.06        2\n",
      "1921.82        2\n",
      "1883.85        2\n",
      "2073.45        2\n",
      "2149.12        2\n",
      "           ...  \n",
      "2210.24        1\n",
      "2028.32        1\n",
      "1986.23        1\n",
      "2203.54        1\n",
      "1813.56        1\n",
      "1952.89        1\n",
      "2006.00        1\n",
      "1917.71        1\n",
      "2151.69        1\n",
      "2018.29        1\n",
      "1928.59        1\n",
      "2213.49        1\n",
      "2151.19        1\n",
      "2027.18        1\n",
      "1900.82        1\n",
      "2152.56        1\n",
      "1955.39        1\n",
      "1877.50        1\n",
      "1968.04        1\n",
      "2136.16        1\n",
      "1790.05        1\n",
      "2049.60        1\n",
      "2315.84        1\n",
      "1942.81        1\n",
      "1971.47        1\n",
      "1828.36        1\n",
      "1877.25        1\n",
      "1918.10        1\n",
      "2008.76        1\n",
      "1898.10        1\n",
      "Name: claim_amount, Length: 4046, dtype: int64 \n",
      "\n"
     ]
    }
   ],
   "source": [
    "def print_value_counts(df):\n",
    "    \n",
    "    for col in df:\n",
    "        print(col,':')\n",
    "        print(df[col].value_counts(),'\\n')\n",
    "print_value_counts(continuous)"
   ]
  },
  {
   "cell_type": "code",
   "execution_count": 20,
   "metadata": {},
   "outputs": [
    {
     "name": "stderr",
     "output_type": "stream",
     "text": [
      "C:\\Users\\mngav\\Anaconda3\\envs\\learn-env\\lib\\site-packages\\ipykernel_launcher.py:2: RuntimeWarning: divide by zero encountered in log\n",
      "  \n"
     ]
    }
   ],
   "source": [
    "# log transform\n",
    "cont_log = np.log(continuous)"
   ]
  },
  {
   "cell_type": "code",
   "execution_count": 21,
   "metadata": {},
   "outputs": [
    {
     "data": {
      "text/plain": [
       "-inf         56787\n",
       " 0.000000     3907\n",
       " 0.693147      236\n",
       " 1.098612       17\n",
       " 1.386294        1\n",
       "Name: num_claims, dtype: int64"
      ]
     },
     "execution_count": 21,
     "metadata": {},
     "output_type": "execute_result"
    }
   ],
   "source": [
    "cont_log.num_claims.value_counts()"
   ]
  },
  {
   "cell_type": "code",
   "execution_count": 22,
   "metadata": {},
   "outputs": [],
   "source": [
    "cont_log.replace(-np.inf, np.nan, inplace=True)\n",
    "cont_log.replace(np.nan, 0, inplace=True)"
   ]
  },
  {
   "cell_type": "code",
   "execution_count": 23,
   "metadata": {},
   "outputs": [
    {
     "data": {
      "text/plain": [
       "0.000000    60694\n",
       "0.693147      236\n",
       "1.098612       17\n",
       "1.386294        1\n",
       "Name: num_claims, dtype: int64"
      ]
     },
     "execution_count": 23,
     "metadata": {},
     "output_type": "execute_result"
    }
   ],
   "source": [
    "cont_log.num_claims.value_counts()"
   ]
  },
  {
   "cell_type": "code",
   "execution_count": 24,
   "metadata": {},
   "outputs": [
    {
     "data": {
      "text/plain": [
       "array([[<matplotlib.axes._subplots.AxesSubplot object at 0x000001C6C455B630>,\n",
       "        <matplotlib.axes._subplots.AxesSubplot object at 0x000001C6C427D7B8>,\n",
       "        <matplotlib.axes._subplots.AxesSubplot object at 0x000001C6C429FD30>],\n",
       "       [<matplotlib.axes._subplots.AxesSubplot object at 0x000001C6C42D12E8>,\n",
       "        <matplotlib.axes._subplots.AxesSubplot object at 0x000001C6C42F7860>,\n",
       "        <matplotlib.axes._subplots.AxesSubplot object at 0x000001C6C4322DD8>],\n",
       "       [<matplotlib.axes._subplots.AxesSubplot object at 0x000001C6C4351358>,\n",
       "        <matplotlib.axes._subplots.AxesSubplot object at 0x000001C6C43797F0>,\n",
       "        <matplotlib.axes._subplots.AxesSubplot object at 0x000001C6C4379828>]],\n",
       "      dtype=object)"
      ]
     },
     "execution_count": 24,
     "metadata": {},
     "output_type": "execute_result"
    },
    {
     "data": {
      "image/png": "[encoded data removed]",
      "text/plain": [
       "<Figure size 720x720 with 9 Axes>"
      ]
     },
     "metadata": {
      "needs_background": "light"
     },
     "output_type": "display_data"
    }
   ],
   "source": [
    "# inspect distributions for continuous data\n",
    "cont_log.hist(figsize=(10,10))"
   ]
  },
  {
   "cell_type": "markdown",
   "metadata": {},
   "source": [
    "veh_value, claim_amount and num_claims are so heavily skewed that it doesnt make sense to keep the columns.  In addition, the multicolinearity presents a problem."
   ]
  },
  {
   "cell_type": "code",
   "execution_count": 25,
   "metadata": {},
   "outputs": [
    {
     "data": {
      "text/html": [
       "<div>\n",
       "<style scoped>\n",
       "    .dataframe tbody tr th:only-of-type {\n",
       "        vertical-align: middle;\n",
       "    }\n",
       "\n",
       "    .dataframe tbody tr th {\n",
       "        vertical-align: top;\n",
       "    }\n",
       "\n",
       "    .dataframe thead th {\n",
       "        text-align: right;\n",
       "    }\n",
       "</style>\n",
       "<table border=\"1\" class=\"dataframe\">\n",
       "  <thead>\n",
       "    <tr style=\"text-align: right;\">\n",
       "      <th></th>\n",
       "      <th>agecat</th>\n",
       "      <th>traffic_index</th>\n",
       "      <th>veh_value00</th>\n",
       "      <th>veh_ageIndex</th>\n",
       "      <th>credit_score</th>\n",
       "      <th>age</th>\n",
       "      <th>num_claims</th>\n",
       "      <th>claim_amount</th>\n",
       "    </tr>\n",
       "  </thead>\n",
       "  <tbody>\n",
       "    <tr>\n",
       "      <th>0</th>\n",
       "      <td>1.386294</td>\n",
       "      <td>4.532599</td>\n",
       "      <td>1.085189</td>\n",
       "      <td>1.386294</td>\n",
       "      <td>3.951244</td>\n",
       "      <td>3.970292</td>\n",
       "      <td>0.0</td>\n",
       "      <td>0.0</td>\n",
       "    </tr>\n",
       "    <tr>\n",
       "      <th>1</th>\n",
       "      <td>1.098612</td>\n",
       "      <td>4.682131</td>\n",
       "      <td>0.636577</td>\n",
       "      <td>1.386294</td>\n",
       "      <td>4.418841</td>\n",
       "      <td>3.637586</td>\n",
       "      <td>0.0</td>\n",
       "      <td>0.0</td>\n",
       "    </tr>\n",
       "    <tr>\n",
       "      <th>2</th>\n",
       "      <td>1.609438</td>\n",
       "      <td>4.605170</td>\n",
       "      <td>1.011601</td>\n",
       "      <td>1.098612</td>\n",
       "      <td>4.262680</td>\n",
       "      <td>4.025352</td>\n",
       "      <td>0.0</td>\n",
       "      <td>0.0</td>\n",
       "    </tr>\n",
       "    <tr>\n",
       "      <th>3</th>\n",
       "      <td>1.098612</td>\n",
       "      <td>4.343805</td>\n",
       "      <td>1.071584</td>\n",
       "      <td>1.098612</td>\n",
       "      <td>4.394449</td>\n",
       "      <td>3.713572</td>\n",
       "      <td>0.0</td>\n",
       "      <td>0.0</td>\n",
       "    </tr>\n",
       "    <tr>\n",
       "      <th>4</th>\n",
       "      <td>0.693147</td>\n",
       "      <td>4.605170</td>\n",
       "      <td>1.289233</td>\n",
       "      <td>1.386294</td>\n",
       "      <td>4.477337</td>\n",
       "      <td>3.433987</td>\n",
       "      <td>0.0</td>\n",
       "      <td>0.0</td>\n",
       "    </tr>\n",
       "  </tbody>\n",
       "</table>\n",
       "</div>"
      ],
      "text/plain": [
       "     agecat  traffic_index  veh_value00  veh_ageIndex  credit_score       age  \\\n",
       "0  1.386294       4.532599     1.085189      1.386294      3.951244  3.970292   \n",
       "1  1.098612       4.682131     0.636577      1.386294      4.418841  3.637586   \n",
       "2  1.609438       4.605170     1.011601      1.098612      4.262680  4.025352   \n",
       "3  1.098612       4.343805     1.071584      1.098612      4.394449  3.713572   \n",
       "4  0.693147       4.605170     1.289233      1.386294      4.477337  3.433987   \n",
       "\n",
       "   num_claims  claim_amount  \n",
       "0         0.0           0.0  \n",
       "1         0.0           0.0  \n",
       "2         0.0           0.0  \n",
       "3         0.0           0.0  \n",
       "4         0.0           0.0  "
      ]
     },
     "execution_count": 25,
     "metadata": {},
     "output_type": "execute_result"
    }
   ],
   "source": [
    "cont_log.head()"
   ]
  },
  {
   "cell_type": "markdown",
   "metadata": {},
   "source": [
    "**remove features causing multicolinearity**"
   ]
  },
  {
   "cell_type": "code",
   "execution_count": 26,
   "metadata": {},
   "outputs": [],
   "source": [
    "cont_log.drop(['num_claims', 'claim_amount', 'veh_value00', 'agecat'],axis=1, inplace=True)"
   ]
  },
  {
   "cell_type": "code",
   "execution_count": 27,
   "metadata": {},
   "outputs": [
    {
     "name": "stdout",
     "output_type": "stream",
     "text": [
      "<class 'pandas.core.frame.DataFrame'>\n",
      "RangeIndex: 60948 entries, 0 to 60947\n",
      "Data columns (total 4 columns):\n",
      "gender       60948 non-null category\n",
      "area         60948 non-null category\n",
      "claim_ind    60948 non-null category\n",
      "veh_body2    60948 non-null category\n",
      "dtypes: category(4)\n",
      "memory usage: 238.9 KB\n"
     ]
    }
   ],
   "source": [
    "# create categorical sub-DataFrame\n",
    "\n",
    "categorical = data.copy()\n",
    "for i in categorical:\n",
    "    if categorical[i].dtype.name != 'category':\n",
    "        categorical.drop(i, axis = 1, inplace=True)\n",
    "categorical.info()"
   ]
  },
  {
   "cell_type": "markdown",
   "metadata": {},
   "source": [
    "**Get Dummies for categorical data**"
   ]
  },
  {
   "cell_type": "code",
   "execution_count": 28,
   "metadata": {},
   "outputs": [
    {
     "data": {
      "text/html": [
       "<div>\n",
       "<style scoped>\n",
       "    .dataframe tbody tr th:only-of-type {\n",
       "        vertical-align: middle;\n",
       "    }\n",
       "\n",
       "    .dataframe tbody tr th {\n",
       "        vertical-align: top;\n",
       "    }\n",
       "\n",
       "    .dataframe thead th {\n",
       "        text-align: right;\n",
       "    }\n",
       "</style>\n",
       "<table border=\"1\" class=\"dataframe\">\n",
       "  <thead>\n",
       "    <tr style=\"text-align: right;\">\n",
       "      <th></th>\n",
       "      <th>gender</th>\n",
       "      <th>area</th>\n",
       "      <th>claim_ind</th>\n",
       "      <th>veh_body2</th>\n",
       "    </tr>\n",
       "  </thead>\n",
       "  <tbody>\n",
       "    <tr>\n",
       "      <th>0</th>\n",
       "      <td>M</td>\n",
       "      <td>C</td>\n",
       "      <td>0</td>\n",
       "      <td>STNWG</td>\n",
       "    </tr>\n",
       "    <tr>\n",
       "      <th>1</th>\n",
       "      <td>M</td>\n",
       "      <td>C</td>\n",
       "      <td>0</td>\n",
       "      <td>SEDAN</td>\n",
       "    </tr>\n",
       "    <tr>\n",
       "      <th>2</th>\n",
       "      <td>M</td>\n",
       "      <td>A</td>\n",
       "      <td>0</td>\n",
       "      <td>SEDAN</td>\n",
       "    </tr>\n",
       "    <tr>\n",
       "      <th>3</th>\n",
       "      <td>M</td>\n",
       "      <td>B</td>\n",
       "      <td>0</td>\n",
       "      <td>UTE</td>\n",
       "    </tr>\n",
       "    <tr>\n",
       "      <th>4</th>\n",
       "      <td>M</td>\n",
       "      <td>D</td>\n",
       "      <td>0</td>\n",
       "      <td>STNWG</td>\n",
       "    </tr>\n",
       "  </tbody>\n",
       "</table>\n",
       "</div>"
      ],
      "text/plain": [
       "  gender area claim_ind veh_body2\n",
       "0      M    C         0     STNWG\n",
       "1      M    C         0     SEDAN\n",
       "2      M    A         0     SEDAN\n",
       "3      M    B         0       UTE\n",
       "4      M    D         0     STNWG"
      ]
     },
     "execution_count": 28,
     "metadata": {},
     "output_type": "execute_result"
    }
   ],
   "source": [
    "categorical.head()"
   ]
  },
  {
   "cell_type": "code",
   "execution_count": 29,
   "metadata": {},
   "outputs": [
    {
     "name": "stdout",
     "output_type": "stream",
     "text": [
      "<class 'pandas.core.frame.DataFrame'>\n",
      "RangeIndex: 60948 entries, 0 to 60947\n",
      "Data columns (total 4 columns):\n",
      "gender       60948 non-null category\n",
      "area         60948 non-null category\n",
      "claim_ind    60948 non-null category\n",
      "veh_body2    60948 non-null category\n",
      "dtypes: category(4)\n",
      "memory usage: 238.9 KB\n"
     ]
    }
   ],
   "source": [
    "categorical.info()"
   ]
  },
  {
   "cell_type": "code",
   "execution_count": 30,
   "metadata": {},
   "outputs": [
    {
     "data": {
      "text/plain": [
       "SEDAN    19981\n",
       "HBACK    16966\n",
       "STNWG    14646\n",
       "UTE       4108\n",
       "TRUCK     1576\n",
       "HDTOP     1506\n",
       "MIBUS      794\n",
       "COUPE      704\n",
       "PANVN      667\n",
       "Name: veh_body2, dtype: int64"
      ]
     },
     "execution_count": 30,
     "metadata": {},
     "output_type": "execute_result"
    }
   ],
   "source": [
    "categorical.veh_body2.value_counts()"
   ]
  },
  {
   "cell_type": "code",
   "execution_count": 31,
   "metadata": {},
   "outputs": [
    {
     "data": {
      "text/html": [
       "<div>\n",
       "<style scoped>\n",
       "    .dataframe tbody tr th:only-of-type {\n",
       "        vertical-align: middle;\n",
       "    }\n",
       "\n",
       "    .dataframe tbody tr th {\n",
       "        vertical-align: top;\n",
       "    }\n",
       "\n",
       "    .dataframe thead th {\n",
       "        text-align: right;\n",
       "    }\n",
       "</style>\n",
       "<table border=\"1\" class=\"dataframe\">\n",
       "  <thead>\n",
       "    <tr style=\"text-align: right;\">\n",
       "      <th></th>\n",
       "      <th>gender_F</th>\n",
       "      <th>gender_M</th>\n",
       "      <th>area_A</th>\n",
       "      <th>area_B</th>\n",
       "      <th>area_C</th>\n",
       "      <th>area_D</th>\n",
       "      <th>area_E</th>\n",
       "      <th>area_F</th>\n",
       "      <th>veh_body2_COUPE</th>\n",
       "      <th>veh_body2_HBACK</th>\n",
       "      <th>veh_body2_HDTOP</th>\n",
       "      <th>veh_body2_MIBUS</th>\n",
       "      <th>veh_body2_PANVN</th>\n",
       "      <th>veh_body2_SEDAN</th>\n",
       "      <th>veh_body2_STNWG</th>\n",
       "      <th>veh_body2_TRUCK</th>\n",
       "      <th>veh_body2_UTE</th>\n",
       "    </tr>\n",
       "  </thead>\n",
       "  <tbody>\n",
       "    <tr>\n",
       "      <th>0</th>\n",
       "      <td>0</td>\n",
       "      <td>1</td>\n",
       "      <td>0</td>\n",
       "      <td>0</td>\n",
       "      <td>1</td>\n",
       "      <td>0</td>\n",
       "      <td>0</td>\n",
       "      <td>0</td>\n",
       "      <td>0</td>\n",
       "      <td>0</td>\n",
       "      <td>0</td>\n",
       "      <td>0</td>\n",
       "      <td>0</td>\n",
       "      <td>0</td>\n",
       "      <td>1</td>\n",
       "      <td>0</td>\n",
       "      <td>0</td>\n",
       "    </tr>\n",
       "    <tr>\n",
       "      <th>1</th>\n",
       "      <td>0</td>\n",
       "      <td>1</td>\n",
       "      <td>0</td>\n",
       "      <td>0</td>\n",
       "      <td>1</td>\n",
       "      <td>0</td>\n",
       "      <td>0</td>\n",
       "      <td>0</td>\n",
       "      <td>0</td>\n",
       "      <td>0</td>\n",
       "      <td>0</td>\n",
       "      <td>0</td>\n",
       "      <td>0</td>\n",
       "      <td>1</td>\n",
       "      <td>0</td>\n",
       "      <td>0</td>\n",
       "      <td>0</td>\n",
       "    </tr>\n",
       "    <tr>\n",
       "      <th>2</th>\n",
       "      <td>0</td>\n",
       "      <td>1</td>\n",
       "      <td>1</td>\n",
       "      <td>0</td>\n",
       "      <td>0</td>\n",
       "      <td>0</td>\n",
       "      <td>0</td>\n",
       "      <td>0</td>\n",
       "      <td>0</td>\n",
       "      <td>0</td>\n",
       "      <td>0</td>\n",
       "      <td>0</td>\n",
       "      <td>0</td>\n",
       "      <td>1</td>\n",
       "      <td>0</td>\n",
       "      <td>0</td>\n",
       "      <td>0</td>\n",
       "    </tr>\n",
       "    <tr>\n",
       "      <th>3</th>\n",
       "      <td>0</td>\n",
       "      <td>1</td>\n",
       "      <td>0</td>\n",
       "      <td>1</td>\n",
       "      <td>0</td>\n",
       "      <td>0</td>\n",
       "      <td>0</td>\n",
       "      <td>0</td>\n",
       "      <td>0</td>\n",
       "      <td>0</td>\n",
       "      <td>0</td>\n",
       "      <td>0</td>\n",
       "      <td>0</td>\n",
       "      <td>0</td>\n",
       "      <td>0</td>\n",
       "      <td>0</td>\n",
       "      <td>1</td>\n",
       "    </tr>\n",
       "    <tr>\n",
       "      <th>4</th>\n",
       "      <td>0</td>\n",
       "      <td>1</td>\n",
       "      <td>0</td>\n",
       "      <td>0</td>\n",
       "      <td>0</td>\n",
       "      <td>1</td>\n",
       "      <td>0</td>\n",
       "      <td>0</td>\n",
       "      <td>0</td>\n",
       "      <td>0</td>\n",
       "      <td>0</td>\n",
       "      <td>0</td>\n",
       "      <td>0</td>\n",
       "      <td>0</td>\n",
       "      <td>1</td>\n",
       "      <td>0</td>\n",
       "      <td>0</td>\n",
       "    </tr>\n",
       "  </tbody>\n",
       "</table>\n",
       "</div>"
      ],
      "text/plain": [
       "   gender_F  gender_M  area_A  area_B  area_C  area_D  area_E  area_F  \\\n",
       "0         0         1       0       0       1       0       0       0   \n",
       "1         0         1       0       0       1       0       0       0   \n",
       "2         0         1       1       0       0       0       0       0   \n",
       "3         0         1       0       1       0       0       0       0   \n",
       "4         0         1       0       0       0       1       0       0   \n",
       "\n",
       "   veh_body2_COUPE  veh_body2_HBACK  veh_body2_HDTOP  veh_body2_MIBUS  \\\n",
       "0                0                0                0                0   \n",
       "1                0                0                0                0   \n",
       "2                0                0                0                0   \n",
       "3                0                0                0                0   \n",
       "4                0                0                0                0   \n",
       "\n",
       "   veh_body2_PANVN  veh_body2_SEDAN  veh_body2_STNWG  veh_body2_TRUCK  \\\n",
       "0                0                0                1                0   \n",
       "1                0                1                0                0   \n",
       "2                0                1                0                0   \n",
       "3                0                0                0                0   \n",
       "4                0                0                1                0   \n",
       "\n",
       "   veh_body2_UTE  \n",
       "0              0  \n",
       "1              0  \n",
       "2              0  \n",
       "3              1  \n",
       "4              0  "
      ]
     },
     "execution_count": 31,
     "metadata": {},
     "output_type": "execute_result"
    }
   ],
   "source": [
    "# one-hot encode categorical data\n",
    "dummies = pd.get_dummies(categorical.drop('claim_ind', axis=1))\n",
    "dummies.head()"
   ]
  },
  {
   "cell_type": "code",
   "execution_count": 32,
   "metadata": {},
   "outputs": [
    {
     "name": "stdout",
     "output_type": "stream",
     "text": [
      "<class 'pandas.core.frame.DataFrame'>\n",
      "RangeIndex: 60948 entries, 0 to 60947\n",
      "Data columns (total 17 columns):\n",
      "gender_F           60948 non-null uint8\n",
      "gender_M           60948 non-null uint8\n",
      "area_A             60948 non-null uint8\n",
      "area_B             60948 non-null uint8\n",
      "area_C             60948 non-null uint8\n",
      "area_D             60948 non-null uint8\n",
      "area_E             60948 non-null uint8\n",
      "area_F             60948 non-null uint8\n",
      "veh_body2_COUPE    60948 non-null uint8\n",
      "veh_body2_HBACK    60948 non-null uint8\n",
      "veh_body2_HDTOP    60948 non-null uint8\n",
      "veh_body2_MIBUS    60948 non-null uint8\n",
      "veh_body2_PANVN    60948 non-null uint8\n",
      "veh_body2_SEDAN    60948 non-null uint8\n",
      "veh_body2_STNWG    60948 non-null uint8\n",
      "veh_body2_TRUCK    60948 non-null uint8\n",
      "veh_body2_UTE      60948 non-null uint8\n",
      "dtypes: uint8(17)\n",
      "memory usage: 1011.9 KB\n"
     ]
    }
   ],
   "source": [
    "dummies.info()"
   ]
  },
  {
   "cell_type": "markdown",
   "metadata": {},
   "source": [
    "**concat the continuous and categorical DataFrames**"
   ]
  },
  {
   "cell_type": "code",
   "execution_count": 33,
   "metadata": {},
   "outputs": [
    {
     "data": {
      "text/html": [
       "<div>\n",
       "<style scoped>\n",
       "    .dataframe tbody tr th:only-of-type {\n",
       "        vertical-align: middle;\n",
       "    }\n",
       "\n",
       "    .dataframe tbody tr th {\n",
       "        vertical-align: top;\n",
       "    }\n",
       "\n",
       "    .dataframe thead th {\n",
       "        text-align: right;\n",
       "    }\n",
       "</style>\n",
       "<table border=\"1\" class=\"dataframe\">\n",
       "  <thead>\n",
       "    <tr style=\"text-align: right;\">\n",
       "      <th></th>\n",
       "      <th>traffic_index</th>\n",
       "      <th>veh_ageIndex</th>\n",
       "      <th>credit_score</th>\n",
       "      <th>age</th>\n",
       "      <th>gender_F</th>\n",
       "      <th>gender_M</th>\n",
       "      <th>area_A</th>\n",
       "      <th>area_B</th>\n",
       "      <th>area_C</th>\n",
       "      <th>area_D</th>\n",
       "      <th>area_E</th>\n",
       "      <th>area_F</th>\n",
       "      <th>veh_body2_COUPE</th>\n",
       "      <th>veh_body2_HBACK</th>\n",
       "      <th>veh_body2_HDTOP</th>\n",
       "      <th>veh_body2_MIBUS</th>\n",
       "      <th>veh_body2_PANVN</th>\n",
       "      <th>veh_body2_SEDAN</th>\n",
       "      <th>veh_body2_STNWG</th>\n",
       "      <th>veh_body2_TRUCK</th>\n",
       "      <th>veh_body2_UTE</th>\n",
       "      <th>claim_ind</th>\n",
       "    </tr>\n",
       "  </thead>\n",
       "  <tbody>\n",
       "    <tr>\n",
       "      <th>0</th>\n",
       "      <td>4.532599</td>\n",
       "      <td>1.386294</td>\n",
       "      <td>3.951244</td>\n",
       "      <td>3.970292</td>\n",
       "      <td>0</td>\n",
       "      <td>1</td>\n",
       "      <td>0</td>\n",
       "      <td>0</td>\n",
       "      <td>1</td>\n",
       "      <td>0</td>\n",
       "      <td>0</td>\n",
       "      <td>0</td>\n",
       "      <td>0</td>\n",
       "      <td>0</td>\n",
       "      <td>0</td>\n",
       "      <td>0</td>\n",
       "      <td>0</td>\n",
       "      <td>0</td>\n",
       "      <td>1</td>\n",
       "      <td>0</td>\n",
       "      <td>0</td>\n",
       "      <td>0</td>\n",
       "    </tr>\n",
       "    <tr>\n",
       "      <th>1</th>\n",
       "      <td>4.682131</td>\n",
       "      <td>1.386294</td>\n",
       "      <td>4.418841</td>\n",
       "      <td>3.637586</td>\n",
       "      <td>0</td>\n",
       "      <td>1</td>\n",
       "      <td>0</td>\n",
       "      <td>0</td>\n",
       "      <td>1</td>\n",
       "      <td>0</td>\n",
       "      <td>0</td>\n",
       "      <td>0</td>\n",
       "      <td>0</td>\n",
       "      <td>0</td>\n",
       "      <td>0</td>\n",
       "      <td>0</td>\n",
       "      <td>0</td>\n",
       "      <td>1</td>\n",
       "      <td>0</td>\n",
       "      <td>0</td>\n",
       "      <td>0</td>\n",
       "      <td>0</td>\n",
       "    </tr>\n",
       "    <tr>\n",
       "      <th>2</th>\n",
       "      <td>4.605170</td>\n",
       "      <td>1.098612</td>\n",
       "      <td>4.262680</td>\n",
       "      <td>4.025352</td>\n",
       "      <td>0</td>\n",
       "      <td>1</td>\n",
       "      <td>1</td>\n",
       "      <td>0</td>\n",
       "      <td>0</td>\n",
       "      <td>0</td>\n",
       "      <td>0</td>\n",
       "      <td>0</td>\n",
       "      <td>0</td>\n",
       "      <td>0</td>\n",
       "      <td>0</td>\n",
       "      <td>0</td>\n",
       "      <td>0</td>\n",
       "      <td>1</td>\n",
       "      <td>0</td>\n",
       "      <td>0</td>\n",
       "      <td>0</td>\n",
       "      <td>0</td>\n",
       "    </tr>\n",
       "    <tr>\n",
       "      <th>3</th>\n",
       "      <td>4.343805</td>\n",
       "      <td>1.098612</td>\n",
       "      <td>4.394449</td>\n",
       "      <td>3.713572</td>\n",
       "      <td>0</td>\n",
       "      <td>1</td>\n",
       "      <td>0</td>\n",
       "      <td>1</td>\n",
       "      <td>0</td>\n",
       "      <td>0</td>\n",
       "      <td>0</td>\n",
       "      <td>0</td>\n",
       "      <td>0</td>\n",
       "      <td>0</td>\n",
       "      <td>0</td>\n",
       "      <td>0</td>\n",
       "      <td>0</td>\n",
       "      <td>0</td>\n",
       "      <td>0</td>\n",
       "      <td>0</td>\n",
       "      <td>1</td>\n",
       "      <td>0</td>\n",
       "    </tr>\n",
       "    <tr>\n",
       "      <th>4</th>\n",
       "      <td>4.605170</td>\n",
       "      <td>1.386294</td>\n",
       "      <td>4.477337</td>\n",
       "      <td>3.433987</td>\n",
       "      <td>0</td>\n",
       "      <td>1</td>\n",
       "      <td>0</td>\n",
       "      <td>0</td>\n",
       "      <td>0</td>\n",
       "      <td>1</td>\n",
       "      <td>0</td>\n",
       "      <td>0</td>\n",
       "      <td>0</td>\n",
       "      <td>0</td>\n",
       "      <td>0</td>\n",
       "      <td>0</td>\n",
       "      <td>0</td>\n",
       "      <td>0</td>\n",
       "      <td>1</td>\n",
       "      <td>0</td>\n",
       "      <td>0</td>\n",
       "      <td>0</td>\n",
       "    </tr>\n",
       "  </tbody>\n",
       "</table>\n",
       "</div>"
      ],
      "text/plain": [
       "   traffic_index  veh_ageIndex  credit_score       age  gender_F  gender_M  \\\n",
       "0       4.532599      1.386294      3.951244  3.970292         0         1   \n",
       "1       4.682131      1.386294      4.418841  3.637586         0         1   \n",
       "2       4.605170      1.098612      4.262680  4.025352         0         1   \n",
       "3       4.343805      1.098612      4.394449  3.713572         0         1   \n",
       "4       4.605170      1.386294      4.477337  3.433987         0         1   \n",
       "\n",
       "   area_A  area_B  area_C  area_D  area_E  area_F  veh_body2_COUPE  \\\n",
       "0       0       0       1       0       0       0                0   \n",
       "1       0       0       1       0       0       0                0   \n",
       "2       1       0       0       0       0       0                0   \n",
       "3       0       1       0       0       0       0                0   \n",
       "4       0       0       0       1       0       0                0   \n",
       "\n",
       "   veh_body2_HBACK  veh_body2_HDTOP  veh_body2_MIBUS  veh_body2_PANVN  \\\n",
       "0                0                0                0                0   \n",
       "1                0                0                0                0   \n",
       "2                0                0                0                0   \n",
       "3                0                0                0                0   \n",
       "4                0                0                0                0   \n",
       "\n",
       "   veh_body2_SEDAN  veh_body2_STNWG  veh_body2_TRUCK  veh_body2_UTE claim_ind  \n",
       "0                0                1                0              0         0  \n",
       "1                1                0                0              0         0  \n",
       "2                1                0                0              0         0  \n",
       "3                0                0                0              1         0  \n",
       "4                0                1                0              0         0  "
      ]
     },
     "execution_count": 33,
     "metadata": {},
     "output_type": "execute_result"
    }
   ],
   "source": [
    "#beginning processed dataframe\n",
    "df = pd.concat([cont_log, dummies, categorical.claim_ind], axis = 1, sort=False)\n",
    "df.head()"
   ]
  },
  {
   "cell_type": "code",
   "execution_count": 34,
   "metadata": {},
   "outputs": [
    {
     "name": "stdout",
     "output_type": "stream",
     "text": [
      "<class 'pandas.core.frame.DataFrame'>\n",
      "RangeIndex: 60948 entries, 0 to 60947\n",
      "Data columns (total 22 columns):\n",
      "traffic_index      60948 non-null float64\n",
      "veh_ageIndex       60948 non-null float64\n",
      "credit_score       60948 non-null float64\n",
      "age                60948 non-null float64\n",
      "gender_F           60948 non-null uint8\n",
      "gender_M           60948 non-null uint8\n",
      "area_A             60948 non-null uint8\n",
      "area_B             60948 non-null uint8\n",
      "area_C             60948 non-null uint8\n",
      "area_D             60948 non-null uint8\n",
      "area_E             60948 non-null uint8\n",
      "area_F             60948 non-null uint8\n",
      "veh_body2_COUPE    60948 non-null uint8\n",
      "veh_body2_HBACK    60948 non-null uint8\n",
      "veh_body2_HDTOP    60948 non-null uint8\n",
      "veh_body2_MIBUS    60948 non-null uint8\n",
      "veh_body2_PANVN    60948 non-null uint8\n",
      "veh_body2_SEDAN    60948 non-null uint8\n",
      "veh_body2_STNWG    60948 non-null uint8\n",
      "veh_body2_TRUCK    60948 non-null uint8\n",
      "veh_body2_UTE      60948 non-null uint8\n",
      "claim_ind          60948 non-null category\n",
      "dtypes: category(1), float64(4), uint8(17)\n",
      "memory usage: 2.9 MB\n"
     ]
    }
   ],
   "source": [
    "df.info()"
   ]
  },
  {
   "cell_type": "markdown",
   "metadata": {},
   "source": [
    "# Logistic Regression Model"
   ]
  },
  {
   "cell_type": "markdown",
   "metadata": {},
   "source": [
    "Lets check for any class imbalance in our target variable"
   ]
  },
  {
   "cell_type": "code",
   "execution_count": 35,
   "metadata": {},
   "outputs": [
    {
     "data": {
      "text/plain": [
       "0    56787\n",
       "1     4161\n",
       "Name: claim_ind, dtype: int64"
      ]
     },
     "execution_count": 35,
     "metadata": {},
     "output_type": "execute_result"
    }
   ],
   "source": [
    "df.claim_ind.value_counts()"
   ]
  },
  {
   "cell_type": "markdown",
   "metadata": {},
   "source": [
    "Roughly 7% of the target data are True while 93% are False so, it looks like we do have class imbalance and will run SMOTE to fix it."
   ]
  },
  {
   "cell_type": "markdown",
   "metadata": {},
   "source": [
    "## Logistic Regression Model #1"
   ]
  },
  {
   "cell_type": "code",
   "execution_count": 36,
   "metadata": {},
   "outputs": [],
   "source": [
    "# define X and y \n",
    "X = df[df.columns[:-1]].copy()\n",
    "y = df.claim_ind.copy()"
   ]
  },
  {
   "cell_type": "code",
   "execution_count": 37,
   "metadata": {},
   "outputs": [],
   "source": [
    "# split the resampled data into train and test sets\n",
    "X_train, X_test, y_train, y_test = train_test_split(X, y, test_size = 0.25, random_state = 42)"
   ]
  },
  {
   "cell_type": "code",
   "execution_count": 38,
   "metadata": {},
   "outputs": [],
   "source": [
    "# concatenate our training data back together\n",
    "training_data = pd.concat([X_train, y_train], axis=1)"
   ]
  },
  {
   "cell_type": "code",
   "execution_count": 39,
   "metadata": {},
   "outputs": [
    {
     "data": {
      "text/plain": [
       "45711"
      ]
     },
     "execution_count": 39,
     "metadata": {},
     "output_type": "execute_result"
    }
   ],
   "source": [
    "len(y_train)"
   ]
  },
  {
   "cell_type": "code",
   "execution_count": 40,
   "metadata": {},
   "outputs": [],
   "source": [
    "# separate minority and majority classes\n",
    "no_claim = training_data[training_data.claim_ind==0]\n",
    "file_claim = training_data[training_data.claim_ind==1]"
   ]
  },
  {
   "cell_type": "code",
   "execution_count": 41,
   "metadata": {},
   "outputs": [
    {
     "name": "stdout",
     "output_type": "stream",
     "text": [
      "42593\n",
      "3118\n"
     ]
    }
   ],
   "source": [
    "print(len(no_claim))\n",
    "print(len(file_claim))"
   ]
  },
  {
   "cell_type": "code",
   "execution_count": 42,
   "metadata": {},
   "outputs": [],
   "source": [
    "# upsample minority\n",
    "file_claim_upsampled = resample(file_claim,\n",
    "                          replace=True, # sample with replacement\n",
    "                          n_samples=len(no_claim), # match number in majority class\n",
    "                          random_state=42) # reproducible results"
   ]
  },
  {
   "cell_type": "code",
   "execution_count": 43,
   "metadata": {},
   "outputs": [
    {
     "data": {
      "text/plain": [
       "42593"
      ]
     },
     "execution_count": 43,
     "metadata": {},
     "output_type": "execute_result"
    }
   ],
   "source": [
    "len(file_claim_upsampled)"
   ]
  },
  {
   "cell_type": "code",
   "execution_count": 44,
   "metadata": {},
   "outputs": [
    {
     "data": {
      "text/html": [
       "<div>\n",
       "<style scoped>\n",
       "    .dataframe tbody tr th:only-of-type {\n",
       "        vertical-align: middle;\n",
       "    }\n",
       "\n",
       "    .dataframe tbody tr th {\n",
       "        vertical-align: top;\n",
       "    }\n",
       "\n",
       "    .dataframe thead th {\n",
       "        text-align: right;\n",
       "    }\n",
       "</style>\n",
       "<table border=\"1\" class=\"dataframe\">\n",
       "  <thead>\n",
       "    <tr style=\"text-align: right;\">\n",
       "      <th></th>\n",
       "      <th>traffic_index</th>\n",
       "      <th>veh_ageIndex</th>\n",
       "      <th>credit_score</th>\n",
       "      <th>age</th>\n",
       "      <th>gender_F</th>\n",
       "      <th>gender_M</th>\n",
       "      <th>area_A</th>\n",
       "      <th>area_B</th>\n",
       "      <th>area_C</th>\n",
       "      <th>area_D</th>\n",
       "      <th>area_E</th>\n",
       "      <th>area_F</th>\n",
       "      <th>veh_body2_COUPE</th>\n",
       "      <th>veh_body2_HBACK</th>\n",
       "      <th>veh_body2_HDTOP</th>\n",
       "      <th>veh_body2_MIBUS</th>\n",
       "      <th>veh_body2_PANVN</th>\n",
       "      <th>veh_body2_SEDAN</th>\n",
       "      <th>veh_body2_STNWG</th>\n",
       "      <th>veh_body2_TRUCK</th>\n",
       "      <th>veh_body2_UTE</th>\n",
       "      <th>claim_ind</th>\n",
       "    </tr>\n",
       "  </thead>\n",
       "  <tbody>\n",
       "    <tr>\n",
       "      <th>2471</th>\n",
       "      <td>4.867534</td>\n",
       "      <td>0.693147</td>\n",
       "      <td>4.574711</td>\n",
       "      <td>4.158883</td>\n",
       "      <td>0</td>\n",
       "      <td>1</td>\n",
       "      <td>0</td>\n",
       "      <td>1</td>\n",
       "      <td>0</td>\n",
       "      <td>0</td>\n",
       "      <td>0</td>\n",
       "      <td>0</td>\n",
       "      <td>0</td>\n",
       "      <td>0</td>\n",
       "      <td>0</td>\n",
       "      <td>0</td>\n",
       "      <td>0</td>\n",
       "      <td>0</td>\n",
       "      <td>0</td>\n",
       "      <td>1</td>\n",
       "      <td>0</td>\n",
       "      <td>1</td>\n",
       "    </tr>\n",
       "    <tr>\n",
       "      <th>41040</th>\n",
       "      <td>4.605170</td>\n",
       "      <td>1.386294</td>\n",
       "      <td>4.418841</td>\n",
       "      <td>4.060443</td>\n",
       "      <td>0</td>\n",
       "      <td>1</td>\n",
       "      <td>0</td>\n",
       "      <td>0</td>\n",
       "      <td>0</td>\n",
       "      <td>0</td>\n",
       "      <td>0</td>\n",
       "      <td>1</td>\n",
       "      <td>0</td>\n",
       "      <td>0</td>\n",
       "      <td>0</td>\n",
       "      <td>0</td>\n",
       "      <td>0</td>\n",
       "      <td>1</td>\n",
       "      <td>0</td>\n",
       "      <td>0</td>\n",
       "      <td>0</td>\n",
       "      <td>1</td>\n",
       "    </tr>\n",
       "    <tr>\n",
       "      <th>485</th>\n",
       "      <td>4.663439</td>\n",
       "      <td>0.693147</td>\n",
       "      <td>4.406719</td>\n",
       "      <td>3.988984</td>\n",
       "      <td>0</td>\n",
       "      <td>1</td>\n",
       "      <td>1</td>\n",
       "      <td>0</td>\n",
       "      <td>0</td>\n",
       "      <td>0</td>\n",
       "      <td>0</td>\n",
       "      <td>0</td>\n",
       "      <td>0</td>\n",
       "      <td>0</td>\n",
       "      <td>0</td>\n",
       "      <td>0</td>\n",
       "      <td>0</td>\n",
       "      <td>0</td>\n",
       "      <td>1</td>\n",
       "      <td>0</td>\n",
       "      <td>0</td>\n",
       "      <td>1</td>\n",
       "    </tr>\n",
       "    <tr>\n",
       "      <th>45774</th>\n",
       "      <td>4.753590</td>\n",
       "      <td>0.693147</td>\n",
       "      <td>4.488636</td>\n",
       "      <td>3.332205</td>\n",
       "      <td>1</td>\n",
       "      <td>0</td>\n",
       "      <td>0</td>\n",
       "      <td>0</td>\n",
       "      <td>0</td>\n",
       "      <td>0</td>\n",
       "      <td>0</td>\n",
       "      <td>1</td>\n",
       "      <td>0</td>\n",
       "      <td>0</td>\n",
       "      <td>0</td>\n",
       "      <td>0</td>\n",
       "      <td>0</td>\n",
       "      <td>1</td>\n",
       "      <td>0</td>\n",
       "      <td>0</td>\n",
       "      <td>0</td>\n",
       "      <td>1</td>\n",
       "    </tr>\n",
       "    <tr>\n",
       "      <th>2557</th>\n",
       "      <td>4.605170</td>\n",
       "      <td>1.386294</td>\n",
       "      <td>4.499810</td>\n",
       "      <td>3.828641</td>\n",
       "      <td>1</td>\n",
       "      <td>0</td>\n",
       "      <td>0</td>\n",
       "      <td>0</td>\n",
       "      <td>0</td>\n",
       "      <td>0</td>\n",
       "      <td>0</td>\n",
       "      <td>1</td>\n",
       "      <td>0</td>\n",
       "      <td>0</td>\n",
       "      <td>0</td>\n",
       "      <td>0</td>\n",
       "      <td>0</td>\n",
       "      <td>0</td>\n",
       "      <td>1</td>\n",
       "      <td>0</td>\n",
       "      <td>0</td>\n",
       "      <td>1</td>\n",
       "    </tr>\n",
       "  </tbody>\n",
       "</table>\n",
       "</div>"
      ],
      "text/plain": [
       "       traffic_index  veh_ageIndex  credit_score       age  gender_F  \\\n",
       "2471        4.867534      0.693147      4.574711  4.158883         0   \n",
       "41040       4.605170      1.386294      4.418841  4.060443         0   \n",
       "485         4.663439      0.693147      4.406719  3.988984         0   \n",
       "45774       4.753590      0.693147      4.488636  3.332205         1   \n",
       "2557        4.605170      1.386294      4.499810  3.828641         1   \n",
       "\n",
       "       gender_M  area_A  area_B  area_C  area_D  area_E  area_F  \\\n",
       "2471          1       0       1       0       0       0       0   \n",
       "41040         1       0       0       0       0       0       1   \n",
       "485           1       1       0       0       0       0       0   \n",
       "45774         0       0       0       0       0       0       1   \n",
       "2557          0       0       0       0       0       0       1   \n",
       "\n",
       "       veh_body2_COUPE  veh_body2_HBACK  veh_body2_HDTOP  veh_body2_MIBUS  \\\n",
       "2471                 0                0                0                0   \n",
       "41040                0                0                0                0   \n",
       "485                  0                0                0                0   \n",
       "45774                0                0                0                0   \n",
       "2557                 0                0                0                0   \n",
       "\n",
       "       veh_body2_PANVN  veh_body2_SEDAN  veh_body2_STNWG  veh_body2_TRUCK  \\\n",
       "2471                 0                0                0                1   \n",
       "41040                0                1                0                0   \n",
       "485                  0                0                1                0   \n",
       "45774                0                1                0                0   \n",
       "2557                 0                0                1                0   \n",
       "\n",
       "       veh_body2_UTE claim_ind  \n",
       "2471               0         1  \n",
       "41040              0         1  \n",
       "485                0         1  \n",
       "45774              0         1  \n",
       "2557               0         1  "
      ]
     },
     "execution_count": 44,
     "metadata": {},
     "output_type": "execute_result"
    }
   ],
   "source": [
    "type(file_claim_upsampled)\n",
    "file_claim_upsampled.head()"
   ]
  },
  {
   "cell_type": "code",
   "execution_count": 45,
   "metadata": {},
   "outputs": [],
   "source": [
    "# combine majority and upsampled minority\n",
    "upsampled = pd.concat([file_claim_upsampled, no_claim])"
   ]
  },
  {
   "cell_type": "code",
   "execution_count": 46,
   "metadata": {},
   "outputs": [
    {
     "data": {
      "text/html": [
       "<div>\n",
       "<style scoped>\n",
       "    .dataframe tbody tr th:only-of-type {\n",
       "        vertical-align: middle;\n",
       "    }\n",
       "\n",
       "    .dataframe tbody tr th {\n",
       "        vertical-align: top;\n",
       "    }\n",
       "\n",
       "    .dataframe thead th {\n",
       "        text-align: right;\n",
       "    }\n",
       "</style>\n",
       "<table border=\"1\" class=\"dataframe\">\n",
       "  <thead>\n",
       "    <tr style=\"text-align: right;\">\n",
       "      <th></th>\n",
       "      <th>traffic_index</th>\n",
       "      <th>veh_ageIndex</th>\n",
       "      <th>credit_score</th>\n",
       "      <th>age</th>\n",
       "      <th>gender_F</th>\n",
       "      <th>gender_M</th>\n",
       "      <th>area_A</th>\n",
       "      <th>area_B</th>\n",
       "      <th>area_C</th>\n",
       "      <th>area_D</th>\n",
       "      <th>area_E</th>\n",
       "      <th>area_F</th>\n",
       "      <th>veh_body2_COUPE</th>\n",
       "      <th>veh_body2_HBACK</th>\n",
       "      <th>veh_body2_HDTOP</th>\n",
       "      <th>veh_body2_MIBUS</th>\n",
       "      <th>veh_body2_PANVN</th>\n",
       "      <th>veh_body2_SEDAN</th>\n",
       "      <th>veh_body2_STNWG</th>\n",
       "      <th>veh_body2_TRUCK</th>\n",
       "      <th>veh_body2_UTE</th>\n",
       "      <th>claim_ind</th>\n",
       "    </tr>\n",
       "  </thead>\n",
       "  <tbody>\n",
       "    <tr>\n",
       "      <th>2471</th>\n",
       "      <td>4.867534</td>\n",
       "      <td>0.693147</td>\n",
       "      <td>4.574711</td>\n",
       "      <td>4.158883</td>\n",
       "      <td>0</td>\n",
       "      <td>1</td>\n",
       "      <td>0</td>\n",
       "      <td>1</td>\n",
       "      <td>0</td>\n",
       "      <td>0</td>\n",
       "      <td>0</td>\n",
       "      <td>0</td>\n",
       "      <td>0</td>\n",
       "      <td>0</td>\n",
       "      <td>0</td>\n",
       "      <td>0</td>\n",
       "      <td>0</td>\n",
       "      <td>0</td>\n",
       "      <td>0</td>\n",
       "      <td>1</td>\n",
       "      <td>0</td>\n",
       "      <td>1</td>\n",
       "    </tr>\n",
       "    <tr>\n",
       "      <th>41040</th>\n",
       "      <td>4.605170</td>\n",
       "      <td>1.386294</td>\n",
       "      <td>4.418841</td>\n",
       "      <td>4.060443</td>\n",
       "      <td>0</td>\n",
       "      <td>1</td>\n",
       "      <td>0</td>\n",
       "      <td>0</td>\n",
       "      <td>0</td>\n",
       "      <td>0</td>\n",
       "      <td>0</td>\n",
       "      <td>1</td>\n",
       "      <td>0</td>\n",
       "      <td>0</td>\n",
       "      <td>0</td>\n",
       "      <td>0</td>\n",
       "      <td>0</td>\n",
       "      <td>1</td>\n",
       "      <td>0</td>\n",
       "      <td>0</td>\n",
       "      <td>0</td>\n",
       "      <td>1</td>\n",
       "    </tr>\n",
       "    <tr>\n",
       "      <th>485</th>\n",
       "      <td>4.663439</td>\n",
       "      <td>0.693147</td>\n",
       "      <td>4.406719</td>\n",
       "      <td>3.988984</td>\n",
       "      <td>0</td>\n",
       "      <td>1</td>\n",
       "      <td>1</td>\n",
       "      <td>0</td>\n",
       "      <td>0</td>\n",
       "      <td>0</td>\n",
       "      <td>0</td>\n",
       "      <td>0</td>\n",
       "      <td>0</td>\n",
       "      <td>0</td>\n",
       "      <td>0</td>\n",
       "      <td>0</td>\n",
       "      <td>0</td>\n",
       "      <td>0</td>\n",
       "      <td>1</td>\n",
       "      <td>0</td>\n",
       "      <td>0</td>\n",
       "      <td>1</td>\n",
       "    </tr>\n",
       "    <tr>\n",
       "      <th>45774</th>\n",
       "      <td>4.753590</td>\n",
       "      <td>0.693147</td>\n",
       "      <td>4.488636</td>\n",
       "      <td>3.332205</td>\n",
       "      <td>1</td>\n",
       "      <td>0</td>\n",
       "      <td>0</td>\n",
       "      <td>0</td>\n",
       "      <td>0</td>\n",
       "      <td>0</td>\n",
       "      <td>0</td>\n",
       "      <td>1</td>\n",
       "      <td>0</td>\n",
       "      <td>0</td>\n",
       "      <td>0</td>\n",
       "      <td>0</td>\n",
       "      <td>0</td>\n",
       "      <td>1</td>\n",
       "      <td>0</td>\n",
       "      <td>0</td>\n",
       "      <td>0</td>\n",
       "      <td>1</td>\n",
       "    </tr>\n",
       "    <tr>\n",
       "      <th>2557</th>\n",
       "      <td>4.605170</td>\n",
       "      <td>1.386294</td>\n",
       "      <td>4.499810</td>\n",
       "      <td>3.828641</td>\n",
       "      <td>1</td>\n",
       "      <td>0</td>\n",
       "      <td>0</td>\n",
       "      <td>0</td>\n",
       "      <td>0</td>\n",
       "      <td>0</td>\n",
       "      <td>0</td>\n",
       "      <td>1</td>\n",
       "      <td>0</td>\n",
       "      <td>0</td>\n",
       "      <td>0</td>\n",
       "      <td>0</td>\n",
       "      <td>0</td>\n",
       "      <td>0</td>\n",
       "      <td>1</td>\n",
       "      <td>0</td>\n",
       "      <td>0</td>\n",
       "      <td>1</td>\n",
       "    </tr>\n",
       "  </tbody>\n",
       "</table>\n",
       "</div>"
      ],
      "text/plain": [
       "       traffic_index  veh_ageIndex  credit_score       age  gender_F  \\\n",
       "2471        4.867534      0.693147      4.574711  4.158883         0   \n",
       "41040       4.605170      1.386294      4.418841  4.060443         0   \n",
       "485         4.663439      0.693147      4.406719  3.988984         0   \n",
       "45774       4.753590      0.693147      4.488636  3.332205         1   \n",
       "2557        4.605170      1.386294      4.499810  3.828641         1   \n",
       "\n",
       "       gender_M  area_A  area_B  area_C  area_D  area_E  area_F  \\\n",
       "2471          1       0       1       0       0       0       0   \n",
       "41040         1       0       0       0       0       0       1   \n",
       "485           1       1       0       0       0       0       0   \n",
       "45774         0       0       0       0       0       0       1   \n",
       "2557          0       0       0       0       0       0       1   \n",
       "\n",
       "       veh_body2_COUPE  veh_body2_HBACK  veh_body2_HDTOP  veh_body2_MIBUS  \\\n",
       "2471                 0                0                0                0   \n",
       "41040                0                0                0                0   \n",
       "485                  0                0                0                0   \n",
       "45774                0                0                0                0   \n",
       "2557                 0                0                0                0   \n",
       "\n",
       "       veh_body2_PANVN  veh_body2_SEDAN  veh_body2_STNWG  veh_body2_TRUCK  \\\n",
       "2471                 0                0                0                1   \n",
       "41040                0                1                0                0   \n",
       "485                  0                0                1                0   \n",
       "45774                0                1                0                0   \n",
       "2557                 0                0                1                0   \n",
       "\n",
       "       veh_body2_UTE claim_ind  \n",
       "2471               0         1  \n",
       "41040              0         1  \n",
       "485                0         1  \n",
       "45774              0         1  \n",
       "2557               0         1  "
      ]
     },
     "execution_count": 46,
     "metadata": {},
     "output_type": "execute_result"
    }
   ],
   "source": [
    "upsampled.head()"
   ]
  },
  {
   "cell_type": "code",
   "execution_count": 47,
   "metadata": {},
   "outputs": [
    {
     "data": {
      "text/plain": [
       "1    42593\n",
       "0    42593\n",
       "Name: claim_ind, dtype: int64"
      ]
     },
     "execution_count": 47,
     "metadata": {},
     "output_type": "execute_result"
    }
   ],
   "source": [
    "upsampled.claim_ind.value_counts()"
   ]
  },
  {
   "cell_type": "code",
   "execution_count": 48,
   "metadata": {},
   "outputs": [
    {
     "data": {
      "text/plain": [
       "85186"
      ]
     },
     "execution_count": 48,
     "metadata": {},
     "output_type": "execute_result"
    }
   ],
   "source": [
    "len(upsampled)"
   ]
  },
  {
   "cell_type": "code",
   "execution_count": 49,
   "metadata": {},
   "outputs": [],
   "source": [
    "X_train_up = upsampled.drop(['claim_ind'], axis = 1) \n",
    "y_train_up = upsampled.claim_ind"
   ]
  },
  {
   "cell_type": "code",
   "execution_count": 50,
   "metadata": {},
   "outputs": [
    {
     "data": {
      "text/plain": [
       "45711"
      ]
     },
     "execution_count": 50,
     "metadata": {},
     "output_type": "execute_result"
    }
   ],
   "source": [
    "len(X_train)"
   ]
  },
  {
   "cell_type": "markdown",
   "metadata": {},
   "source": [
    "**fit a model**"
   ]
  },
  {
   "cell_type": "code",
   "execution_count": 51,
   "metadata": {},
   "outputs": [
    {
     "name": "stderr",
     "output_type": "stream",
     "text": [
      "C:\\Users\\mngav\\Anaconda3\\envs\\learn-env\\lib\\site-packages\\sklearn\\linear_model\\logistic.py:433: FutureWarning: Default solver will be changed to 'lbfgs' in 0.22. Specify a solver to silence this warning.\n",
      "  FutureWarning)\n"
     ]
    },
    {
     "name": "stdout",
     "output_type": "stream",
     "text": [
      "LogisticRegression(C=1.0, class_weight=None, dual=False, fit_intercept=True,\n",
      "          intercept_scaling=1, max_iter=100, multi_class='warn',\n",
      "          n_jobs=None, penalty='l2', random_state=None, solver='warn',\n",
      "          tol=0.0001, verbose=0, warm_start=False)\n"
     ]
    }
   ],
   "source": [
    "# create a Logistic Regression Object\n",
    "logreg_classifier = LogisticRegression()\n",
    "\n",
    "# fit a logistic regression model with default parameters\n",
    "logreg_model = logreg_classifier.fit(X_train_up, y_train_up)\n",
    "print(logreg_model)"
   ]
  },
  {
   "cell_type": "code",
   "execution_count": 52,
   "metadata": {},
   "outputs": [],
   "source": [
    "# using model to generate predictions off training data\n",
    "y_hat_train = logreg_model.predict(X_train_up)\n",
    "# using model to generate predictions off test data\n",
    "y_hat_test = logreg_model.predict(X_test)"
   ]
  },
  {
   "cell_type": "code",
   "execution_count": 53,
   "metadata": {},
   "outputs": [
    {
     "name": "stdout",
     "output_type": "stream",
     "text": [
      " Accuracy score on training data: 0.52\n",
      " Accuracy score on test data: 0.52\n"
     ]
    }
   ],
   "source": [
    "print(f\" Accuracy score on training data: {round(accuracy_score(y_train_up, y_hat_train),2)}\")\n",
    "print(f\" Accuracy score on test data: {round(accuracy_score(y_test, y_hat_test),2)}\")"
   ]
  },
  {
   "cell_type": "code",
   "execution_count": 54,
   "metadata": {},
   "outputs": [
    {
     "name": "stdout",
     "output_type": "stream",
     "text": [
      "              precision    recall  f1-score   support\n",
      "\n",
      "           0       0.94      0.52      0.67     14194\n",
      "           1       0.08      0.53      0.13      1043\n",
      "\n",
      "   micro avg       0.52      0.52      0.52     15237\n",
      "   macro avg       0.51      0.53      0.40     15237\n",
      "weighted avg       0.88      0.52      0.63     15237\n",
      "\n"
     ]
    }
   ],
   "source": [
    "print(classification_report(y_test,y_hat_test))"
   ]
  },
  {
   "cell_type": "code",
   "execution_count": 55,
   "metadata": {},
   "outputs": [
    {
     "data": {
      "image/png": "[encoded data removed]",
      "text/plain": [
       "<Figure size 432x288 with 2 Axes>"
      ]
     },
     "metadata": {
      "needs_background": "light"
     },
     "output_type": "display_data"
    }
   ],
   "source": [
    "# Confusion Matrix\n",
    "\n",
    "def show_cf(y_true, y_pred, class_names=None, model_name=None):\n",
    "    cf = confusion_matrix(y_true, y_pred)\n",
    "    plt.imshow(cf, cmap=plt.cm.Blues)\n",
    "    \n",
    "    if model_name:\n",
    "        plt.title(\"Confusion Matrix: {}\".format(model_name))\n",
    "    else:\n",
    "        plt.title(\"Confusion Matrix\")\n",
    "    plt.ylabel('True Label')\n",
    "    plt.xlabel('Predicted Label')\n",
    "    \n",
    "    class_names = set(y_true)\n",
    "    tick_marks = np.arange(len(class_names))\n",
    "    if class_names:\n",
    "        plt.xticks(tick_marks, class_names)\n",
    "        plt.yticks(tick_marks, class_names)\n",
    "    \n",
    "    thresh = cf.max() / 2.\n",
    "    \n",
    "    for i, j in itertools.product(range(cf.shape[0]), range(cf.shape[1])):\n",
    "        plt.text(j, i, cf[i, j], horizontalalignment='center', color='white' if cf[i, j] > thresh else 'black')\n",
    "\n",
    "    plt.colorbar()\n",
    "\n",
    "show_cf(y_test, y_hat_test)"
   ]
  },
  {
   "cell_type": "code",
   "execution_count": 56,
   "metadata": {},
   "outputs": [
    {
     "name": "stdout",
     "output_type": "stream",
     "text": [
      "AUC: 0.545508574443903\n"
     ]
    },
    {
     "data": {
      "image/png": "[encoded data removed]",
      "text/plain": [
       "<Figure size 720x576 with 1 Axes>"
      ]
     },
     "metadata": {},
     "output_type": "display_data"
    }
   ],
   "source": [
    "# calculate and plot ROC curve\n",
    "\n",
    "y_score = logreg_model.decision_function(X_test)\n",
    "\n",
    "fpr, tpr, thresholds = roc_curve(y_test, y_score)\n",
    "\n",
    "#Seaborns Beautiful Styling\n",
    "sns.set_style(\"darkgrid\", {\"axes.facecolor\": \".9\"})\n",
    "\n",
    "print('AUC: {}'.format(auc(fpr, tpr)))\n",
    "plt.figure(figsize=(10,8))\n",
    "lw = 2\n",
    "plt.plot(fpr, tpr, color='darkorange',\n",
    "         lw=lw, label='ROC curve')\n",
    "plt.plot([0, 1], [0, 1], color='navy', lw=lw, linestyle='--')\n",
    "plt.xlim([0.0, 1.0])\n",
    "plt.ylim([0.0, 1.05])\n",
    "plt.yticks([i/20.0 for i in range(21)])\n",
    "plt.xticks([i/20.0 for i in range(21)])\n",
    "plt.xlabel('False Positive Rate')\n",
    "plt.ylabel('True Positive Rate')\n",
    "plt.title('Receiver operating characteristic (ROC) Curve')\n",
    "plt.legend(loc=\"lower right\")\n",
    "plt.show()"
   ]
  },
  {
   "cell_type": "markdown",
   "metadata": {},
   "source": [
    "# Random Forest Models"
   ]
  },
  {
   "cell_type": "markdown",
   "metadata": {},
   "source": [
    "## RF Model #1"
   ]
  },
  {
   "cell_type": "code",
   "execution_count": 57,
   "metadata": {},
   "outputs": [],
   "source": [
    "RF_X_train = X_train_up.copy()\n",
    "RF_y_train = y_train_up.copy()\n",
    "\n",
    "RF_X_test = X_test.copy()\n",
    "RF_y_test = y_test.copy()"
   ]
  },
  {
   "cell_type": "code",
   "execution_count": 58,
   "metadata": {
    "scrolled": true
   },
   "outputs": [
    {
     "data": {
      "text/plain": [
       "RandomForestClassifier(bootstrap=True, class_weight=None, criterion='gini',\n",
       "            max_depth=5, max_features='auto', max_leaf_nodes=None,\n",
       "            min_impurity_decrease=0.0, min_impurity_split=None,\n",
       "            min_samples_leaf=1, min_samples_split=2,\n",
       "            min_weight_fraction_leaf=0.0, n_estimators=100, n_jobs=None,\n",
       "            oob_score=False, random_state=None, verbose=0,\n",
       "            warm_start=False)"
      ]
     },
     "execution_count": 58,
     "metadata": {},
     "output_type": "execute_result"
    }
   ],
   "source": [
    "RForest = RandomForestClassifier(n_estimators=100, max_depth= 5)\n",
    "RForest.fit(RF_X_train, RF_y_train)"
   ]
  },
  {
   "cell_type": "code",
   "execution_count": 59,
   "metadata": {},
   "outputs": [
    {
     "name": "stdout",
     "output_type": "stream",
     "text": [
      "0.41681433353022246\n",
      "[[5676 8518]\n",
      " [ 368  675]]\n",
      "              precision    recall  f1-score   support\n",
      "\n",
      "           0       0.94      0.40      0.56     14194\n",
      "           1       0.07      0.65      0.13      1043\n",
      "\n",
      "   micro avg       0.42      0.42      0.42     15237\n",
      "   macro avg       0.51      0.52      0.35     15237\n",
      "weighted avg       0.88      0.42      0.53     15237\n",
      "\n"
     ]
    }
   ],
   "source": [
    "RF_pred = RForest.predict(RF_X_test)\n",
    "\n",
    "print(accuracy_score(RF_y_test, RF_pred))\n",
    "print(confusion_matrix(RF_y_test, RF_pred))\n",
    "print(classification_report(RF_y_test, RF_pred))"
   ]
  },
  {
   "cell_type": "code",
   "execution_count": 60,
   "metadata": {},
   "outputs": [
    {
     "data": {
      "image/png": "[encoded data removed]",
      "text/plain": [
       "<Figure size 576x576 with 1 Axes>"
      ]
     },
     "metadata": {},
     "output_type": "display_data"
    }
   ],
   "source": [
    "def plot_feature_importances(model,training_feature_data):\n",
    "    n_features = training_feature_data.shape[1]\n",
    "    plt.figure(figsize=(8,8))\n",
    "    plt.barh(range(n_features), model.feature_importances_, align='center') \n",
    "    plt.yticks(np.arange(n_features), training_feature_data.columns.values) \n",
    "    plt.xlabel(\"Feature importance\")\n",
    "    plt.ylabel(\"Feature\")\n",
    "plot_feature_importances(RForest, RF_X_train)"
   ]
  },
  {
   "cell_type": "code",
   "execution_count": 61,
   "metadata": {},
   "outputs": [
    {
     "name": "stdout",
     "output_type": "stream",
     "text": [
      "traffic_index = 17.0'%'\n",
      "veh_ageIndex = 5.0'%'\n",
      "credit_score = 16.0'%'\n",
      "age = 34.0'%'\n",
      "gender_F = 1.0'%'\n",
      "gender_M = 2.0'%'\n",
      "area_A = 1.0'%'\n",
      "area_B = 2.0'%'\n",
      "area_C = 2.0'%'\n",
      "area_D = 3.0'%'\n",
      "area_E = 2.0'%'\n",
      "area_F = 3.0'%'\n",
      "veh_body2_COUPE = 1.0'%'\n",
      "veh_body2_HBACK = 1.0'%'\n",
      "veh_body2_HDTOP = 1.0'%'\n",
      "veh_body2_MIBUS = 1.0'%'\n",
      "veh_body2_PANVN = 0.0'%'\n",
      "veh_body2_SEDAN = 1.0'%'\n",
      "veh_body2_STNWG = 2.0'%'\n",
      "veh_body2_TRUCK = 1.0'%'\n",
      "veh_body2_UTE = 5.0'%'\n"
     ]
    }
   ],
   "source": [
    "for name, importance in zip(RF_X_train.columns, RForest.feature_importances_):\n",
    "    print(name, \"=\", f\"{round(importance*100)}'%'\")"
   ]
  },
  {
   "cell_type": "markdown",
   "metadata": {},
   "source": [
    "### lets drop any feature scoring less than 5% and run the model again."
   ]
  },
  {
   "cell_type": "markdown",
   "metadata": {},
   "source": [
    "## RF Model #2"
   ]
  },
  {
   "cell_type": "markdown",
   "metadata": {},
   "source": [
    "- keep features with importance > 0.05"
   ]
  },
  {
   "cell_type": "code",
   "execution_count": 65,
   "metadata": {},
   "outputs": [
    {
     "name": "stdout",
     "output_type": "stream",
     "text": [
      "<class 'pandas.core.frame.DataFrame'>\n",
      "Int64Index: 85186 entries, 2471 to 56422\n",
      "Data columns (total 21 columns):\n",
      "traffic_index      85186 non-null float64\n",
      "veh_ageIndex       85186 non-null float64\n",
      "credit_score       85186 non-null float64\n",
      "age                85186 non-null float64\n",
      "gender_F           85186 non-null uint8\n",
      "gender_M           85186 non-null uint8\n",
      "area_A             85186 non-null uint8\n",
      "area_B             85186 non-null uint8\n",
      "area_C             85186 non-null uint8\n",
      "area_D             85186 non-null uint8\n",
      "area_E             85186 non-null uint8\n",
      "area_F             85186 non-null uint8\n",
      "veh_body2_COUPE    85186 non-null uint8\n",
      "veh_body2_HBACK    85186 non-null uint8\n",
      "veh_body2_HDTOP    85186 non-null uint8\n",
      "veh_body2_MIBUS    85186 non-null uint8\n",
      "veh_body2_PANVN    85186 non-null uint8\n",
      "veh_body2_SEDAN    85186 non-null uint8\n",
      "veh_body2_STNWG    85186 non-null uint8\n",
      "veh_body2_TRUCK    85186 non-null uint8\n",
      "veh_body2_UTE      85186 non-null uint8\n",
      "dtypes: float64(4), uint8(17)\n",
      "memory usage: 7.1 MB\n"
     ]
    }
   ],
   "source": [
    "X_train_up.info()"
   ]
  },
  {
   "cell_type": "code",
   "execution_count": 67,
   "metadata": {},
   "outputs": [],
   "source": [
    "RF_X_train_2 = X_train_up[['age', 'credit_score', 'veh_ageIndex', 'traffic_index']]\n",
    "RF_y_train_2 = y_train_up\n",
    "\n",
    "RF_X_test_2 = X_test[['age', 'credit_score', 'veh_ageIndex', 'traffic_index']]\n",
    "RF_y_test_2 = y_test"
   ]
  },
  {
   "cell_type": "code",
   "execution_count": 70,
   "metadata": {},
   "outputs": [],
   "source": [
    "# create a random forest classifier object\n",
    "RForest_2 = RandomForestClassifier(n_estimators=100, max_depth= 5)\n",
    "\n",
    "# fit the model\n",
    "RForest_2.fit(RF_X_train_2, RF_y_train_2)\n",
    "\n",
    "# generate predictions\n",
    "pred_2 = RForest_2.predict(RF_X_test_2)"
   ]
  },
  {
   "cell_type": "code",
   "execution_count": 71,
   "metadata": {},
   "outputs": [
    {
     "name": "stdout",
     "output_type": "stream",
     "text": [
      " Accuracy RF model #2: 0.4631489138281814\n",
      "[[6436 7758]\n",
      " [ 422  621]]\n",
      "              precision    recall  f1-score   support\n",
      "\n",
      "           0       0.94      0.45      0.61     14194\n",
      "           1       0.07      0.60      0.13      1043\n",
      "\n",
      "   micro avg       0.46      0.46      0.46     15237\n",
      "   macro avg       0.51      0.52      0.37     15237\n",
      "weighted avg       0.88      0.46      0.58     15237\n",
      "\n"
     ]
    }
   ],
   "source": [
    "print(f\" Accuracy RF model #2: {accuracy_score(RF_y_test_2, pred_2 )}\")\n",
    "print(confusion_matrix(RF_y_test_2, pred_2))\n",
    "print(classification_report(RF_y_test_2, pred_2))"
   ]
  },
  {
   "cell_type": "code",
   "execution_count": 72,
   "metadata": {},
   "outputs": [
    {
     "data": {
      "image/png": "[encoded data removed]",
      "text/plain": [
       "<Figure size 576x576 with 1 Axes>"
      ]
     },
     "metadata": {},
     "output_type": "display_data"
    }
   ],
   "source": [
    "def plot_feature_importances(model,training_feature_data):\n",
    "    n_features = training_feature_data.shape[1]\n",
    "    plt.figure(figsize=(8,8))\n",
    "    plt.barh(range(n_features), model.feature_importances_, align='center') \n",
    "    plt.yticks(np.arange(n_features), training_feature_data.columns.values) \n",
    "    plt.xlabel(\"Feature importance\")\n",
    "    plt.ylabel(\"Feature\")\n",
    "\n",
    "plot_feature_importances(RForest_2, RF_X_train_2)"
   ]
  },
  {
   "cell_type": "code",
   "execution_count": 73,
   "metadata": {},
   "outputs": [
    {
     "data": {
      "image/png": "[encoded data removed]",
      "text/plain": [
       "<Figure size 432x288 with 2 Axes>"
      ]
     },
     "metadata": {},
     "output_type": "display_data"
    }
   ],
   "source": [
    "show_cf(RF_y_test_2, pred_2)"
   ]
  },
  {
   "cell_type": "markdown",
   "metadata": {},
   "source": [
    "# XGBoost"
   ]
  },
  {
   "cell_type": "markdown",
   "metadata": {},
   "source": [
    "## XGBoost Model #1"
   ]
  },
  {
   "cell_type": "code",
   "execution_count": 84,
   "metadata": {},
   "outputs": [],
   "source": [
    "X_train_boost = X_train_up\n",
    "y_train_boost = y_train_up\n",
    "\n",
    "X_test_boost = X_test\n",
    "y_test_boost = y_test"
   ]
  },
  {
   "cell_type": "code",
   "execution_count": 85,
   "metadata": {},
   "outputs": [
    {
     "name": "stdout",
     "output_type": "stream",
     "text": [
      "<class 'pandas.core.frame.DataFrame'>\n",
      "Int64Index: 15237 entries, 39967 to 8904\n",
      "Data columns (total 21 columns):\n",
      "traffic_index      15237 non-null float64\n",
      "veh_ageIndex       15237 non-null float64\n",
      "credit_score       15237 non-null float64\n",
      "age                15237 non-null float64\n",
      "gender_F           15237 non-null uint8\n",
      "gender_M           15237 non-null uint8\n",
      "area_A             15237 non-null uint8\n",
      "area_B             15237 non-null uint8\n",
      "area_C             15237 non-null uint8\n",
      "area_D             15237 non-null uint8\n",
      "area_E             15237 non-null uint8\n",
      "area_F             15237 non-null uint8\n",
      "veh_body2_COUPE    15237 non-null uint8\n",
      "veh_body2_HBACK    15237 non-null uint8\n",
      "veh_body2_HDTOP    15237 non-null uint8\n",
      "veh_body2_MIBUS    15237 non-null uint8\n",
      "veh_body2_PANVN    15237 non-null uint8\n",
      "veh_body2_SEDAN    15237 non-null uint8\n",
      "veh_body2_STNWG    15237 non-null uint8\n",
      "veh_body2_TRUCK    15237 non-null uint8\n",
      "veh_body2_UTE      15237 non-null uint8\n",
      "dtypes: float64(4), uint8(17)\n",
      "memory usage: 848.2 KB\n"
     ]
    }
   ],
   "source": [
    "X_test_boost.info()"
   ]
  },
  {
   "cell_type": "code",
   "execution_count": 86,
   "metadata": {},
   "outputs": [],
   "source": [
    "# create an XGBoost classifier object\n",
    "clf = xgb.XGBClassifier()\n",
    "\n",
    "# use XGBoost to fit our x and y training data\n",
    "clf.fit(X_train_boost, y_train_boost)\n",
    "\n",
    "# generate predictions using training features\n",
    "boost_training_preds = clf.predict(X_train_boost)\n",
    "\n",
    "# generate predictions using test features\n",
    "boost_test_preds = clf.predict(X_test_boost)\n",
    "\n"
   ]
  },
  {
   "cell_type": "code",
   "execution_count": 87,
   "metadata": {},
   "outputs": [
    {
     "name": "stdout",
     "output_type": "stream",
     "text": [
      "Test accuracy: 53.15%\n"
     ]
    }
   ],
   "source": [
    "training_accuracy = accuracy_score(y_train_boost, boost_training_preds)\n",
    "test_accuracy = accuracy_score(y_test_boost, boost_test_preds)\n",
    "\n",
    "#print(\"Training Accuracy: {:.4}%\".format(training_accuracy * 100))\n",
    "print(\"Test accuracy: {:.4}%\".format(test_accuracy * 100))"
   ]
  },
  {
   "cell_type": "code",
   "execution_count": 88,
   "metadata": {},
   "outputs": [
    {
     "name": "stdout",
     "output_type": "stream",
     "text": [
      "[[7569 6625]\n",
      " [ 513  530]]\n",
      "              precision    recall  f1-score   support\n",
      "\n",
      "           0       0.94      0.53      0.68     14194\n",
      "           1       0.07      0.51      0.13      1043\n",
      "\n",
      "   micro avg       0.53      0.53      0.53     15237\n",
      "   macro avg       0.51      0.52      0.40     15237\n",
      "weighted avg       0.88      0.53      0.64     15237\n",
      "\n"
     ]
    }
   ],
   "source": [
    "print(confusion_matrix(y_test_boost, boost_test_preds))\n",
    "print(classification_report(y_test_boost, boost_test_preds))"
   ]
  },
  {
   "cell_type": "code",
   "execution_count": 89,
   "metadata": {},
   "outputs": [
    {
     "data": {
      "image/png": "[encoded data removed]",
      "text/plain": [
       "<Figure size 432x288 with 2 Axes>"
      ]
     },
     "metadata": {},
     "output_type": "display_data"
    }
   ],
   "source": [
    "show_cf(y_test_boost, boost_test_preds)"
   ]
  },
  {
   "cell_type": "code",
   "execution_count": 90,
   "metadata": {
    "scrolled": false
   },
   "outputs": [
    {
     "data": {
      "image/png": "[encoded data removed]",
      "text/plain": [
       "<Figure size 576x576 with 1 Axes>"
      ]
     },
     "metadata": {},
     "output_type": "display_data"
    }
   ],
   "source": [
    "def plot_feature_importances(model,training_feature_data):\n",
    "    n_features = training_feature_data.shape[1]\n",
    "    plt.figure(figsize=(8,8))\n",
    "    plt.barh(range(n_features), model.feature_importances_, align='center') \n",
    "    plt.yticks(np.arange(n_features), training_feature_data.columns.values) \n",
    "    plt.xlabel(\"Feature importance\")\n",
    "    plt.ylabel(\"Feature\")\n",
    "\n",
    "plot_feature_importances(clf, X_train_boost) # training data param here is just to get column headers for graph"
   ]
  },
  {
   "cell_type": "markdown",
   "metadata": {},
   "source": [
    "the XGBoost is performing the best.  Lets further optimize with Grid Search"
   ]
  },
  {
   "cell_type": "markdown",
   "metadata": {},
   "source": [
    "## XGBoost Model #2\n",
    " - before removing variables based on feature importance"
   ]
  },
  {
   "cell_type": "code",
   "execution_count": 74,
   "metadata": {},
   "outputs": [],
   "source": [
    "import xgboost as xgb"
   ]
  },
  {
   "cell_type": "code",
   "execution_count": 75,
   "metadata": {},
   "outputs": [],
   "source": [
    "X_train_boost = X_train_up[['age', 'credit_score', 'veh_ageIndex', 'traffic_index']]\n",
    "y_train_boost = y_train_up\n",
    "\n",
    "X_test_boost = X_test[['age', 'credit_score', 'veh_ageIndex', 'traffic_index']]\n",
    "y_test_boost = y_test"
   ]
  },
  {
   "cell_type": "code",
   "execution_count": null,
   "metadata": {},
   "outputs": [],
   "source": [
    "X_test_boost.info()"
   ]
  },
  {
   "cell_type": "code",
   "execution_count": 76,
   "metadata": {},
   "outputs": [],
   "source": [
    "# create an XGBoost classifier object\n",
    "clf = xgb.XGBClassifier()\n",
    "\n",
    "# use XGBoost to fit our x and y training data\n",
    "clf.fit(X_train_boost, y_train_boost)\n",
    "\n",
    "# generate predictions using training features\n",
    "boost_training_preds = clf.predict(X_train_boost)\n",
    "\n",
    "# generate predictions using test features\n",
    "boost_test_preds = clf.predict(X_test_boost)\n",
    "\n"
   ]
  },
  {
   "cell_type": "code",
   "execution_count": 80,
   "metadata": {},
   "outputs": [
    {
     "name": "stdout",
     "output_type": "stream",
     "text": [
      "Test accuracy: 51.96%\n"
     ]
    }
   ],
   "source": [
    "training_accuracy = accuracy_score(y_train_boost, boost_training_preds)\n",
    "test_accuracy = accuracy_score(y_test_boost, boost_test_preds)\n",
    "\n",
    "#print(\"Training Accuracy: {:.4}%\".format(training_accuracy * 100))\n",
    "print(\"Test accuracy: {:.4}%\".format(test_accuracy * 100))"
   ]
  },
  {
   "cell_type": "code",
   "execution_count": 81,
   "metadata": {},
   "outputs": [
    {
     "name": "stdout",
     "output_type": "stream",
     "text": [
      "[[7406 6788]\n",
      " [ 532  511]]\n",
      "              precision    recall  f1-score   support\n",
      "\n",
      "           0       0.93      0.52      0.67     14194\n",
      "           1       0.07      0.49      0.12      1043\n",
      "\n",
      "   micro avg       0.52      0.52      0.52     15237\n",
      "   macro avg       0.50      0.51      0.40     15237\n",
      "weighted avg       0.87      0.52      0.63     15237\n",
      "\n"
     ]
    }
   ],
   "source": [
    "print(confusion_matrix(y_test_boost, boost_test_preds))\n",
    "print(classification_report(y_test_boost, boost_test_preds))"
   ]
  },
  {
   "cell_type": "code",
   "execution_count": 82,
   "metadata": {},
   "outputs": [
    {
     "data": {
      "image/png": "[encoded data removed]",
      "text/plain": [
       "<Figure size 432x288 with 2 Axes>"
      ]
     },
     "metadata": {},
     "output_type": "display_data"
    }
   ],
   "source": [
    "show_cf(y_test_boost, boost_test_preds)"
   ]
  },
  {
   "cell_type": "code",
   "execution_count": 83,
   "metadata": {
    "scrolled": false
   },
   "outputs": [
    {
     "data": {
      "image/png": "[encoded data removed]",
      "text/plain": [
       "<Figure size 576x576 with 1 Axes>"
      ]
     },
     "metadata": {},
     "output_type": "display_data"
    }
   ],
   "source": [
    "def plot_feature_importances(model,training_feature_data):\n",
    "    n_features = training_feature_data.shape[1]\n",
    "    plt.figure(figsize=(8,8))\n",
    "    plt.barh(range(n_features), model.feature_importances_, align='center') \n",
    "    plt.yticks(np.arange(n_features), training_feature_data.columns.values) \n",
    "    plt.xlabel(\"Feature importance\")\n",
    "    plt.ylabel(\"Feature\")\n",
    "\n",
    "plot_feature_importances(clf, X_train_boost) # training data param here is just to get column headers for graph"
   ]
  },
  {
   "cell_type": "markdown",
   "metadata": {},
   "source": [
    "the XGBoost is performing the best.  Lets further optimize with Grid Search"
   ]
  },
  {
   "cell_type": "code",
   "execution_count": 91,
   "metadata": {},
   "outputs": [],
   "source": [
    "param_grid = {\n",
    "    \"learning_rate\": [0.1],\n",
    "    'max_depth': [7],\n",
    "    'min_child_weight': [9],\n",
    "    'subsample': [ 0.7],\n",
    "    'n_estimators': [5, 30, 100, 250, 500],\n",
    "    \n",
    "}"
   ]
  },
  {
   "cell_type": "code",
   "execution_count": 93,
   "metadata": {},
   "outputs": [
    {
     "name": "stderr",
     "output_type": "stream",
     "text": [
      "C:\\Users\\mngav\\Anaconda3\\envs\\learn-env\\lib\\site-packages\\sklearn\\model_selection\\_split.py:2053: FutureWarning: You should specify a value for 'cv' instead of relying on the default value. The default value will change from 3 to 5 in version 0.22.\n",
      "  warnings.warn(CV_WARNING, FutureWarning)\n"
     ]
    },
    {
     "name": "stdout",
     "output_type": "stream",
     "text": [
      "Grid Search found the following optimal parameters: \n",
      "learning_rate: 0.1\n",
      "max_depth: 7\n",
      "min_child_weight: 9\n",
      "n_estimators: 500\n",
      "subsample: 0.7\n",
      "\n",
      "Training Accuracy: 93.2%\n",
      "Validation accuracy: 80.36%\n",
      "301.6062867641449\n"
     ]
    }
   ],
   "source": [
    "import time\n",
    "start = time.time()\n",
    "\n",
    "grid_clf = GridSearchCV(clf, param_grid, scoring='accuracy', cv=None, n_jobs=1)\n",
    "grid_clf.fit(X_train_boost, y_train_boost)\n",
    "\n",
    "best_parameters = grid_clf.best_params_\n",
    "\n",
    "print(\"Grid Search found the following optimal parameters: \")\n",
    "for param_name in sorted(best_parameters.keys()):\n",
    "    print(\"%s: %r\" % (param_name, best_parameters[param_name]))\n",
    "\n",
    "training_preds = grid_clf.predict(X_train_boost)\n",
    "test_preds = grid_clf.predict(X_test_boost)\n",
    "training_accuracy = accuracy_score(y_train_boost, training_preds)\n",
    "test_accuracy = accuracy_score(y_test_boost, test_preds)\n",
    "\n",
    "print(\"\")\n",
    "print(\"Training Accuracy: {:.4}%\".format(training_accuracy * 100))\n",
    "print(\"Validation accuracy: {:.4}%\".format(test_accuracy * 100))\n",
    "\n",
    "end = time.time()\n",
    "print(end - start)"
   ]
  },
  {
   "cell_type": "markdown",
   "metadata": {},
   "source": [
    "## XGBoost Model #2 \n",
    " - after removing variables based on feature importance"
   ]
  },
  {
   "cell_type": "code",
   "execution_count": null,
   "metadata": {},
   "outputs": [],
   "source": [
    "# define X and y\n",
    "XG_data_2 = copy.deepcopy(RF_X[['veh_body2_SEDAN', 'veh_body2_HBACK', 'area_E', 'area_C', 'area_B', 'area_A',\n",
    "                               'credit_score', 'veh_ageIndex', 'traffic_index', 'agecat']])\n",
    "XG_y_2 = RF_y.copy()\n",
    "\n",
    "# train-test split\n",
    "X_train_boost_2, X_test_boost_2, y_train_boost_2, y_test_boost_2 = train_test_split(XG_data_2, XG_y_2,  test_size = 0.3, \n",
    "                                                                                        random_state=42)\n",
    "\n",
    "# upsample with SMOTE\n",
    "X_train_boost_SMOTE_2, y_train_boost_SMOTE_2 = SMOTE().fit_sample(X_train_boost_2, y_train_boost_2)\n",
    "\n",
    "X_train_boost_SMOTE_2_df =  pd.DataFrame(X_train_boost_SMOTE_2, columns = X_train_boost_2.columns)\n",
    "\n",
    "# create an XGBoost classifier object\n",
    "boost_clf_2 = xgb.XGBClassifier()\n",
    "\n",
    "# use XGBoost to fit our x and y training data\n",
    "boost_clf_2.fit(X_train_boost_SMOTE_2_df, y_train_boost_SMOTE_2)\n",
    "\n",
    "# generate predictions using training features\n",
    "boost_training_preds_2 = boost_clf_2.predict(X_train_boost_SMOTE_2_df)\n",
    "\n",
    "# generate predictions using test features\n",
    "boost_test_preds_2 = boost_clf_2.predict(X_test_boost_2)"
   ]
  },
  {
   "cell_type": "code",
   "execution_count": null,
   "metadata": {},
   "outputs": [],
   "source": [
    "training_accuracy_2 = accuracy_score(y_train_boost_SMOTE_2, boost_training_preds_2)\n",
    "test_accuracy_2 = accuracy_score(y_test_boost_2, boost_test_preds_2)\n",
    "\n",
    "print(f\" Training Accuracy: {training_accuracy_2*100}\")\n",
    "print(f\" Validation Accuracy: {test_accuracy_2*100}\")\n",
    "\n",
    "\n",
    "show_cf(y_test_boost_2, boost_test_preds_2)\n",
    "\n",
    "\n",
    "print(classification_report(y_test_boost, boost_test_preds))\n",
    "\n",
    "def plot_feature_importances(model,training_feature_data):\n",
    "    n_features = training_feature_data.shape[1]\n",
    "    plt.figure(figsize=(8,8))\n",
    "    plt.barh(range(n_features), model.feature_importances_, align='center') \n",
    "    plt.yticks(np.arange(n_features), training_feature_data.columns.values) \n",
    "    plt.xlabel(\"Feature importance\")\n",
    "    plt.ylabel(\"Feature\")\n",
    "\n",
    "plot_feature_importances(boost_clf_2, X_train_boost_2) # training data param here is just to get column headers for graph"
   ]
  },
  {
   "cell_type": "code",
   "execution_count": null,
   "metadata": {},
   "outputs": [],
   "source": []
  },
  {
   "cell_type": "code",
   "execution_count": null,
   "metadata": {},
   "outputs": [],
   "source": []
  }
 ],
 "metadata": {
  "kernelspec": {
   "display_name": "learn-env",
   "language": "python",
   "name": "learn-env"
  },
  "language_info": {
   "codemirror_mode": {
    "name": "ipython",
    "version": 3
   },
   "file_extension": ".py",
   "mimetype": "text/x-python",
   "name": "python",
   "nbconvert_exporter": "python",
   "pygments_lexer": "ipython3",
   "version": "3.6.6"
  },
  "toc": {
   "base_numbering": 1,
   "nav_menu": {},
   "number_sections": true,
   "sideBar": true,
   "skip_h1_title": false,
   "title_cell": "Table of Contents",
   "title_sidebar": "Contents",
   "toc_cell": false,
   "toc_position": {},
   "toc_section_display": true,
   "toc_window_display": false
  },
  "varInspector": {
   "cols": {
    "lenName": 16,
    "lenType": 16,
    "lenVar": 40
   },
   "kernels_config": {
    "python": {
     "delete_cmd_postfix": "",
     "delete_cmd_prefix": "del ",
     "library": "var_list.py",
     "varRefreshCmd": "print(var_dic_list())"
    },
    "r": {
     "delete_cmd_postfix": ") ",
     "delete_cmd_prefix": "rm(",
     "library": "var_list.r",
     "varRefreshCmd": "cat(var_dic_list()) "
    }
   },
   "position": {
    "height": "801.771px",
    "left": "1142px",
    "right": "20px",
    "top": "120px",
    "width": "485.99px"
   },
   "types_to_exclude": [
    "module",
    "function",
    "builtin_function_or_method",
    "instance",
    "_Feature"
   ],
   "window_display": false
  }
 },
 "nbformat": 4,
 "nbformat_minor": 2
}
