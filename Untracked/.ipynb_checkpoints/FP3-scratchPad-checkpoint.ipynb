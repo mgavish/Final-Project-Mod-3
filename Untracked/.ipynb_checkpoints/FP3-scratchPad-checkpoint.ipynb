{
 "cells": [
  {
   "cell_type": "code",
   "execution_count": 9,
   "metadata": {},
   "outputs": [],
   "source": [
    "import pandas as pd"
   ]
  },
  {
   "cell_type": "code",
   "execution_count": null,
   "metadata": {},
   "outputs": [],
   "source": [
    "# Create logistic regression object\n",
    "regr = LogisticRegression(C=1e5)\n",
    "# Train the model using the training sets\n",
    "regr.fit(age, income_bin)\n",
    "\n",
    "# store the coefficients\n",
    "coef = regr.coef_\n",
    "interc = regr.intercept_\n",
    "# create the linear predictor\n",
    "lin_pred= (age * coef + interc)\n",
    "# perform the log transformation\n",
    "mod_income = 1 / (1 + np.exp(-lin_pred))\n",
    "#sort the numbers to make sure plot looks right\n",
    "age_ordered, mod_income_ordered = zip(*sorted(zip(age ,mod_income.ravel()),key=lambda x: x[0]))"
   ]
  },
  {
   "cell_type": "code",
   "execution_count": null,
   "metadata": {},
   "outputs": [],
   "source": [
    "# using scikit\n",
    "logreg = LogisticRegression(fit_intercept = False, C = 1e15)\n",
    "model_log = logreg.fit(X, y.iloc[:,1])\n",
    "model_log"
   ]
  },
  {
   "cell_type": "code",
   "execution_count": null,
   "metadata": {},
   "outputs": [],
   "source": [
    "model_log.coef_"
   ]
  },
  {
   "cell_type": "code",
   "execution_count": 12,
   "metadata": {},
   "outputs": [
    {
     "data": {
      "text/plain": [
       "array([[2, 0],\n",
       "       [1, 3]], dtype=int64)"
      ]
     },
     "execution_count": 12,
     "metadata": {},
     "output_type": "execute_result"
    }
   ],
   "source": [
    "from sklearn.metrics import confusion_matrix\n",
    "\n",
    "y_true = pd.Series([1, 0, 1, 1, 0, 1], name='y_true')\n",
    "y_pred = pd.Series([0, 0, 1, 1, 0, 1], name = 'y_pred')\n",
    "confusion_matrix(y_true, y_pred)\n"
   ]
  },
  {
   "cell_type": "code",
   "execution_count": 13,
   "metadata": {},
   "outputs": [
    {
     "data": {
      "text/html": [
       "<div>\n",
       "<style scoped>\n",
       "    .dataframe tbody tr th:only-of-type {\n",
       "        vertical-align: middle;\n",
       "    }\n",
       "\n",
       "    .dataframe tbody tr th {\n",
       "        vertical-align: top;\n",
       "    }\n",
       "\n",
       "    .dataframe thead th {\n",
       "        text-align: right;\n",
       "    }\n",
       "</style>\n",
       "<table border=\"1\" class=\"dataframe\">\n",
       "  <thead>\n",
       "    <tr style=\"text-align: right;\">\n",
       "      <th></th>\n",
       "      <th>0</th>\n",
       "      <th>1</th>\n",
       "      <th>2</th>\n",
       "      <th>3</th>\n",
       "      <th>4</th>\n",
       "      <th>5</th>\n",
       "    </tr>\n",
       "  </thead>\n",
       "  <tbody>\n",
       "    <tr>\n",
       "      <th>y_true</th>\n",
       "      <td>1</td>\n",
       "      <td>0</td>\n",
       "      <td>1</td>\n",
       "      <td>1</td>\n",
       "      <td>0</td>\n",
       "      <td>1</td>\n",
       "    </tr>\n",
       "    <tr>\n",
       "      <th>y_pred</th>\n",
       "      <td>0</td>\n",
       "      <td>0</td>\n",
       "      <td>1</td>\n",
       "      <td>1</td>\n",
       "      <td>0</td>\n",
       "      <td>1</td>\n",
       "    </tr>\n",
       "  </tbody>\n",
       "</table>\n",
       "</div>"
      ],
      "text/plain": [
       "        0  1  2  3  4  5\n",
       "y_true  1  0  1  1  0  1\n",
       "y_pred  0  0  1  1  0  1"
      ]
     },
     "execution_count": 13,
     "metadata": {},
     "output_type": "execute_result"
    }
   ],
   "source": [
    "import pandas as pd\n",
    "df = pd.DataFrame([y_true, y_pred])\n",
    "\n",
    "df.head()"
   ]
  },
  {
   "cell_type": "code",
   "execution_count": 14,
   "metadata": {},
   "outputs": [],
   "source": [
    "df2 =  pd.DataFrame( { 'a' : [5,3,1],\n",
    "                     'b' : [4,6,2],\n",
    "                     'c' : [2,4,9] } )"
   ]
  },
  {
   "cell_type": "code",
   "execution_count": 15,
   "metadata": {},
   "outputs": [
    {
     "data": {
      "text/html": [
       "<div>\n",
       "<style scoped>\n",
       "    .dataframe tbody tr th:only-of-type {\n",
       "        vertical-align: middle;\n",
       "    }\n",
       "\n",
       "    .dataframe tbody tr th {\n",
       "        vertical-align: top;\n",
       "    }\n",
       "\n",
       "    .dataframe thead th {\n",
       "        text-align: right;\n",
       "    }\n",
       "</style>\n",
       "<table border=\"1\" class=\"dataframe\">\n",
       "  <thead>\n",
       "    <tr style=\"text-align: right;\">\n",
       "      <th></th>\n",
       "      <th>a</th>\n",
       "      <th>b</th>\n",
       "      <th>c</th>\n",
       "    </tr>\n",
       "  </thead>\n",
       "  <tbody>\n",
       "    <tr>\n",
       "      <th>0</th>\n",
       "      <td>5</td>\n",
       "      <td>4</td>\n",
       "      <td>2</td>\n",
       "    </tr>\n",
       "    <tr>\n",
       "      <th>1</th>\n",
       "      <td>3</td>\n",
       "      <td>6</td>\n",
       "      <td>4</td>\n",
       "    </tr>\n",
       "    <tr>\n",
       "      <th>2</th>\n",
       "      <td>1</td>\n",
       "      <td>2</td>\n",
       "      <td>9</td>\n",
       "    </tr>\n",
       "  </tbody>\n",
       "</table>\n",
       "</div>"
      ],
      "text/plain": [
       "   a  b  c\n",
       "0  5  4  2\n",
       "1  3  6  4\n",
       "2  1  2  9"
      ]
     },
     "execution_count": 15,
     "metadata": {},
     "output_type": "execute_result"
    }
   ],
   "source": [
    "df2.head()"
   ]
  },
  {
   "cell_type": "code",
   "execution_count": 30,
   "metadata": {},
   "outputs": [
    {
     "data": {
      "text/html": [
       "<div>\n",
       "<style scoped>\n",
       "    .dataframe tbody tr th:only-of-type {\n",
       "        vertical-align: middle;\n",
       "    }\n",
       "\n",
       "    .dataframe tbody tr th {\n",
       "        vertical-align: top;\n",
       "    }\n",
       "\n",
       "    .dataframe thead th {\n",
       "        text-align: right;\n",
       "    }\n",
       "</style>\n",
       "<table border=\"1\" class=\"dataframe\">\n",
       "  <thead>\n",
       "    <tr style=\"text-align: right;\">\n",
       "      <th></th>\n",
       "      <th>a</th>\n",
       "      <th>b</th>\n",
       "      <th>c</th>\n",
       "    </tr>\n",
       "  </thead>\n",
       "  <tbody>\n",
       "    <tr>\n",
       "      <th>0</th>\n",
       "      <td>5</td>\n",
       "      <td>4</td>\n",
       "      <td>2</td>\n",
       "    </tr>\n",
       "    <tr>\n",
       "      <th>1</th>\n",
       "      <td>3</td>\n",
       "      <td>6</td>\n",
       "      <td>4</td>\n",
       "    </tr>\n",
       "    <tr>\n",
       "      <th>2</th>\n",
       "      <td>1</td>\n",
       "      <td>2</td>\n",
       "      <td>9</td>\n",
       "    </tr>\n",
       "  </tbody>\n",
       "</table>\n",
       "</div>"
      ],
      "text/plain": [
       "   a  b  c\n",
       "0  5  4  2\n",
       "1  3  6  4\n",
       "2  1  2  9"
      ]
     },
     "execution_count": 30,
     "metadata": {},
     "output_type": "execute_result"
    }
   ],
   "source": [
    "df2.iloc[0:3]"
   ]
  },
  {
   "cell_type": "markdown",
   "metadata": {},
   "source": [
    "# Logistic Regression in SciKit Learn"
   ]
  },
  {
   "cell_type": "code",
   "execution_count": null,
   "metadata": {},
   "outputs": [],
   "source": [
    "# import data\n",
    "\n",
    "# Preprocessing\n",
    "    #dropping columns\n",
    "    #fixing data types\n",
    "    # check for multicolinearity\n",
    "    \n",
    "    # Split the data sets between categorical and continuous for EDA\n",
    "        # check distributions in histogram (continuous data)\n",
    "            # are data on very different scales? do you need to complete any standardization/feature scaling? \n",
    "                # sklearn will strip headers and prob turn DF into numpy array; \n",
    "                new_df = pd.DataFrame(scaled_df, columns = df_before_scaling.columns)\n",
    "        # get dummies\n",
    "    # concatenate continuous, one-hot encoded and target\n",
    "                \n",
    "# Logisctic Regression\n",
    "    \n",
    "    # Define X and y\n",
    "    # check for class imbalance in target\n",
    "        # resample with SMOTE if imbalance exists\n",
    "        \n",
    "\n",
    "    # Normalize ?\n",
    "    # Train Test Split\n",
    "    X_train, X_test, y_train, y_test = train_test_split(X, y, random_state=0)\n",
    "    \n",
    "    # SMOTE on train sample only and complete AFTER train-test split\n",
    "    X_train_3_SMOTE, y_train_3_SMOTE = SMOTE().fit_sample(X_train, y_train)\n",
    "\n",
    "    # create logistic regression object\n",
    "    logreg = LogisticRegression(fit_intercept = False, C = 1e12)\n",
    "    # Fit a model\n",
    "    model_log = logreg.fit(X_train, y_train)\n",
    "    model_log\n",
    "\n",
    "    # generate Predicttions\n",
    "    y_hat_test = logreg.predict(X_test)\n",
    "    y_hat_train = logreg.predict(X_train)\n",
    "\n",
    "    # check high-level performance\n",
    "    residuals_train_set = y_train - y_hat_train\n",
    "    residuals_test_set = y_test - y_hat_test\n",
    "    \n",
    "    #check more detailed report\n",
    "    from sklearn.metrics import classification_report\n",
    "    print(classification_report(y_test,y_hat_test))\n",
    "\n",
    "    # check confusion matrix\n",
    "    # run ROC and AUC"
   ]
  },
  {
   "cell_type": "markdown",
   "metadata": {},
   "source": [
    "# Random Forest"
   ]
  },
  {
   "cell_type": "code",
   "execution_count": null,
   "metadata": {},
   "outputs": [],
   "source": [
    "# store target in a separate variable and drop it from the data set\n",
    "# "
   ]
  },
  {
   "cell_type": "code",
   "execution_count": 60,
   "metadata": {},
   "outputs": [],
   "source": [
    "# pull in data\n",
    "RF_data = df_2.copy()\n",
    "\n",
    "# define X and y \n",
    "RF_X = RF_data.drop(['claim_ind'], axis=1)\n",
    "RF_y = RF_data.claim_ind\n",
    "\n",
    "# train test split\n",
    "RF_data_train, RF_data_test, RF_target_train, RF_target_test = train_test_split(RF_X, RF_y, test_size = 0.3, random_state=42) \n",
    "\n",
    "# check for class imbalance\n",
    "RF_target_test.value_counts()\n",
    "\n",
    "# complete SMOTE on train sample only and after train-test split\n",
    "RF_X_train_SMOTE, RF_y_train_SMOTE = SMOTE().fit_sample(X_3, y_3)\n",
    "\n",
    "pd.Series(RF_y_train_SMOTE).value_counts()\n",
    "\n",
    "# create the radome forest classifier object\n",
    "forest = RandomForestClassifier(n_estimators=100, max_depth= 5)\n",
    "# fit the SMOTE training data\n",
    "forest.fit(RF_X_train_SMOTE, RF_y_train_SMOTE)\n",
    "\n",
    "# generate predictions for target using feature test set\n",
    "RF_pred_1 = forest.predict(RF_data_test)\n",
    "\n"
   ]
  },
  {
   "cell_type": "code",
   "execution_count": null,
   "metadata": {},
   "outputs": [],
   "source": []
  },
  {
   "cell_type": "code",
   "execution_count": null,
   "metadata": {},
   "outputs": [],
   "source": []
  },
  {
   "cell_type": "code",
   "execution_count": null,
   "metadata": {},
   "outputs": [],
   "source": [
    "\n",
    "print(confusion_matrix(RF_target_test, RF_pred_1))\n",
    "print(classification_report(RF_target_test, RF_pred_1))"
   ]
  }
 ],
 "metadata": {
  "kernelspec": {
   "display_name": "learn-env",
   "language": "python",
   "name": "learn-env"
  },
  "language_info": {
   "codemirror_mode": {
    "name": "ipython",
    "version": 3
   },
   "file_extension": ".py",
   "mimetype": "text/x-python",
   "name": "python",
   "nbconvert_exporter": "python",
   "pygments_lexer": "ipython3",
   "version": "3.6.6"
  },
  "toc": {
   "base_numbering": 1,
   "nav_menu": {},
   "number_sections": true,
   "sideBar": true,
   "skip_h1_title": false,
   "title_cell": "Table of Contents",
   "title_sidebar": "Contents",
   "toc_cell": false,
   "toc_position": {},
   "toc_section_display": true,
   "toc_window_display": false
  },
  "varInspector": {
   "cols": {
    "lenName": 16,
    "lenType": 16,
    "lenVar": 40
   },
   "kernels_config": {
    "python": {
     "delete_cmd_postfix": "",
     "delete_cmd_prefix": "del ",
     "library": "var_list.py",
     "varRefreshCmd": "print(var_dic_list())"
    },
    "r": {
     "delete_cmd_postfix": ") ",
     "delete_cmd_prefix": "rm(",
     "library": "var_list.r",
     "varRefreshCmd": "cat(var_dic_list()) "
    }
   },
   "types_to_exclude": [
    "module",
    "function",
    "builtin_function_or_method",
    "instance",
    "_Feature"
   ],
   "window_display": false
  }
 },
 "nbformat": 4,
 "nbformat_minor": 2
}
