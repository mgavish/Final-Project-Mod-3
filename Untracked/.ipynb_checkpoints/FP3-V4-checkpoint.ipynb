{
 "cells": [
  {
   "cell_type": "markdown",
   "metadata": {},
   "source": [
    "#### Import Dependencies"
   ]
  },
  {
   "cell_type": "code",
   "execution_count": 1,
   "metadata": {},
   "outputs": [],
   "source": [
    "import pandas as pd\n",
    "pd.set_option('display.max_columns', None)\n",
    "import numpy as np\n",
    "\n",
    "import itertools\n",
    "\n",
    "from sklearn import preprocessing\n",
    "from sklearn.preprocessing import OneHotEncoder\n",
    "from sklearn.preprocessing import StandardScaler\n",
    "from imblearn.over_sampling import SMOTE, ADASYN\n",
    "\n",
    "from sklearn.linear_model import LogisticRegression\n",
    "from sklearn.model_selection import train_test_split\n",
    "from sklearn.model_selection import GridSearchCV\n",
    "from sklearn.ensemble import BaggingClassifier\n",
    "from sklearn.ensemble import RandomForestClassifier\n",
    "\n",
    "from sklearn.metrics import accuracy_score\n",
    "from sklearn.metrics import confusion_matrix\n",
    "from sklearn.metrics import classification_report\n",
    "from sklearn.metrics import roc_curve, auc\n",
    "from sklearn.metrics import roc_auc_score\n",
    "\n",
    "import matplotlib\n",
    "import matplotlib.pyplot as plt\n",
    "%matplotlib inline\n",
    "import seaborn as sns\n"
   ]
  },
  {
   "cell_type": "markdown",
   "metadata": {
    "heading_collapsed": true
   },
   "source": [
    "#### Data Dictionary"
   ]
  },
  {
   "cell_type": "markdown",
   "metadata": {
    "hidden": true
   },
   "source": [
    "**Data Dictionary**\n",
    "\n",
    "- pol_eff_dt - auto insurance policy effective date\n",
    "- gender - gender of driver: F, M\n",
    "- agecat - driver's age category: 1 (youngest), 2, 3, 4, 5, 6\n",
    "- credit_score - driver’s credit score(integer): 1-100, 1=poor, 100=excellent\n",
    "- area - driver's area of residence: A, B, C, D, E, F\n",
    "- traffic_index - traffic index of driver’s area of residence(integer): 100=country average, >100 means worse traffic conditions than average\n",
    "- veh_age - age of vehicle(categorical): 1 (youngest), 2, 3, 4\n",
    "- veh_body - vehicle body, coded as:\n",
    "    - BUS\n",
    "    - CONVT = convertible  \n",
    "    - COUPE   \n",
    "    - HBACK = hatchback                  \n",
    "    - HDTOP = hardtop\n",
    "    - MCARA = motorized caravan\n",
    "    - MIBUS = minibus\n",
    "    - PANVN = panel van\n",
    "    - RDSTR = roadster\n",
    "    - SEDAN    \n",
    "    - STNWG = station wagon\n",
    "    - TRUCK           \n",
    "    - UTE = utility\n",
    "- veh_value - vehicle value, in \\\\$10,000s\n",
    "- claim_office - office location of claim handling agent: A, B, C, D\n",
    "- traffic2 - traffic index of driver’s area of residence(integer): 100=country average, >100 means worse traffic conditions than average.  Null values have imputed mean of full dataset\n",
    "- veh_value2 - vehicle value, in \\\\$10,000s. Null values have been replaces with the mean of the full dataset\n",
    "- veh_value3 - vehicle value, in \\\\$10,000s. Null values have been replaces with the median of the full dataset\n",
    "- veh_age2 - age of vehicle(categorical): 1 (youngest), 2, 3, 4.  Null values have been replaces with the most frequent category, which is 2\n",
    "- credit2 - driver’s credit score(integer): 1-100, 1=poor, 100=excellent. Null values have been replaces with the mean of the full dataset\n",
    "- credit3 - driver’s credit score(integer): 1-100, 1=poor, 100=excellent. Null values have been replaces with the median of the full dataset\n",
    "- dob - driver's date of birth\n",
    "- age - Driver's age at policy effective date\n",
    "- claim_ind - Indicates if the policy had a claim (=1) or not\n",
    "- veh_body2 - vehicle body, with a collapsed type coding, as described below.  Original coding on left, new coding on right:\n",
    "    - 'BUS' = 'MIBUS',\n",
    "    - 'CONVT' = 'HDTOP'\n",
    "    - 'COUPE' = 'COUPE'\n",
    "    - 'HBACK' = 'HBACK'\n",
    "    - 'HDTOP' = 'HDTOP'\n",
    "    - 'MCARA' = 'MIBUS'\n",
    "    - 'MIBUS' = 'MIBUS'\n",
    "    - 'PANVN' = 'PANVN'\n",
    "    - 'RDSTR' = 'HDTOP'\n",
    "    - 'SEDAN' = 'SEDAN'\n",
    "    - STNWG' = 'STNWG'\n",
    "    - 'TRUCK' = 'TRUCK'\n",
    "    - 'UTE' = 'UTE'\n",
    "\n",
    "- numclaims - number of claims(integer): 0 if no claim\n",
    "- claimcst0 - claim amount: 0 if no claim.  This is the total one year claim amount (ultimate loss) for the policy. \n"
   ]
  },
  {
   "cell_type": "markdown",
   "metadata": {
    "heading_collapsed": true
   },
   "source": [
    "#### DataFrame Dictionary"
   ]
  },
  {
   "cell_type": "markdown",
   "metadata": {
    "hidden": true
   },
   "source": []
  },
  {
   "cell_type": "markdown",
   "metadata": {
    "heading_collapsed": true
   },
   "source": [
    "# Obtaining the Data"
   ]
  },
  {
   "cell_type": "code",
   "execution_count": 2,
   "metadata": {
    "hidden": true
   },
   "outputs": [
    {
     "data": {
      "text/html": [
       "<div>\n",
       "<style scoped>\n",
       "    .dataframe tbody tr th:only-of-type {\n",
       "        vertical-align: middle;\n",
       "    }\n",
       "\n",
       "    .dataframe tbody tr th {\n",
       "        vertical-align: top;\n",
       "    }\n",
       "\n",
       "    .dataframe thead th {\n",
       "        text-align: right;\n",
       "    }\n",
       "</style>\n",
       "<table border=\"1\" class=\"dataframe\">\n",
       "  <thead>\n",
       "    <tr style=\"text-align: right;\">\n",
       "      <th></th>\n",
       "      <th>pol_number</th>\n",
       "      <th>pol_eff_dt</th>\n",
       "      <th>gender</th>\n",
       "      <th>agecat</th>\n",
       "      <th>credit_score</th>\n",
       "      <th>area</th>\n",
       "      <th>traffic_index</th>\n",
       "      <th>veh_age</th>\n",
       "      <th>veh_body</th>\n",
       "      <th>veh_value</th>\n",
       "      <th>claim_office</th>\n",
       "      <th>traffic2</th>\n",
       "      <th>veh_value2</th>\n",
       "      <th>veh_value3</th>\n",
       "      <th>veh_age2</th>\n",
       "      <th>credit2</th>\n",
       "      <th>credit3</th>\n",
       "      <th>dob</th>\n",
       "      <th>age</th>\n",
       "      <th>claim_ind</th>\n",
       "      <th>veh_body2</th>\n",
       "      <th>numclaims</th>\n",
       "      <th>claimcst0</th>\n",
       "    </tr>\n",
       "  </thead>\n",
       "  <tbody>\n",
       "    <tr>\n",
       "      <th>0</th>\n",
       "      <td>80750205</td>\n",
       "      <td>7/1/2015</td>\n",
       "      <td>M</td>\n",
       "      <td>4</td>\n",
       "      <td>52.0</td>\n",
       "      <td>C</td>\n",
       "      <td>93.0</td>\n",
       "      <td>4.0</td>\n",
       "      <td>STNWG</td>\n",
       "      <td>2.96</td>\n",
       "      <td>NaN</td>\n",
       "      <td>93</td>\n",
       "      <td>2.96</td>\n",
       "      <td>2.96</td>\n",
       "      <td>4</td>\n",
       "      <td>52.000000</td>\n",
       "      <td>52</td>\n",
       "      <td>2/18/1963</td>\n",
       "      <td>53</td>\n",
       "      <td>0</td>\n",
       "      <td>STNWG</td>\n",
       "      <td>0</td>\n",
       "      <td>0.0</td>\n",
       "    </tr>\n",
       "    <tr>\n",
       "      <th>1</th>\n",
       "      <td>90994433</td>\n",
       "      <td>8/1/2015</td>\n",
       "      <td>M</td>\n",
       "      <td>3</td>\n",
       "      <td>83.0</td>\n",
       "      <td>C</td>\n",
       "      <td>108.0</td>\n",
       "      <td>4.0</td>\n",
       "      <td>SEDAN</td>\n",
       "      <td>1.89</td>\n",
       "      <td>NaN</td>\n",
       "      <td>108</td>\n",
       "      <td>1.89</td>\n",
       "      <td>1.89</td>\n",
       "      <td>4</td>\n",
       "      <td>83.000000</td>\n",
       "      <td>83</td>\n",
       "      <td>2/18/1978</td>\n",
       "      <td>38</td>\n",
       "      <td>0</td>\n",
       "      <td>SEDAN</td>\n",
       "      <td>0</td>\n",
       "      <td>0.0</td>\n",
       "    </tr>\n",
       "    <tr>\n",
       "      <th>2</th>\n",
       "      <td>59239520</td>\n",
       "      <td>7/1/2015</td>\n",
       "      <td>M</td>\n",
       "      <td>5</td>\n",
       "      <td>71.0</td>\n",
       "      <td>A</td>\n",
       "      <td>NaN</td>\n",
       "      <td>3.0</td>\n",
       "      <td>SEDAN</td>\n",
       "      <td>2.75</td>\n",
       "      <td>NaN</td>\n",
       "      <td>100</td>\n",
       "      <td>2.75</td>\n",
       "      <td>2.75</td>\n",
       "      <td>3</td>\n",
       "      <td>71.000000</td>\n",
       "      <td>71</td>\n",
       "      <td>4/14/1960</td>\n",
       "      <td>56</td>\n",
       "      <td>0</td>\n",
       "      <td>SEDAN</td>\n",
       "      <td>0</td>\n",
       "      <td>0.0</td>\n",
       "    </tr>\n",
       "    <tr>\n",
       "      <th>3</th>\n",
       "      <td>67030771</td>\n",
       "      <td>11/1/2015</td>\n",
       "      <td>M</td>\n",
       "      <td>3</td>\n",
       "      <td>NaN</td>\n",
       "      <td>B</td>\n",
       "      <td>77.0</td>\n",
       "      <td>3.0</td>\n",
       "      <td>UTE</td>\n",
       "      <td>2.92</td>\n",
       "      <td>NaN</td>\n",
       "      <td>77</td>\n",
       "      <td>2.92</td>\n",
       "      <td>2.92</td>\n",
       "      <td>3</td>\n",
       "      <td>74.730883</td>\n",
       "      <td>81</td>\n",
       "      <td>12/23/1974</td>\n",
       "      <td>41</td>\n",
       "      <td>0</td>\n",
       "      <td>UTE</td>\n",
       "      <td>0</td>\n",
       "      <td>0.0</td>\n",
       "    </tr>\n",
       "    <tr>\n",
       "      <th>4</th>\n",
       "      <td>91422215</td>\n",
       "      <td>8/1/2015</td>\n",
       "      <td>M</td>\n",
       "      <td>2</td>\n",
       "      <td>88.0</td>\n",
       "      <td>D</td>\n",
       "      <td>NaN</td>\n",
       "      <td>4.0</td>\n",
       "      <td>STNWG</td>\n",
       "      <td>3.63</td>\n",
       "      <td>NaN</td>\n",
       "      <td>100</td>\n",
       "      <td>3.63</td>\n",
       "      <td>3.63</td>\n",
       "      <td>4</td>\n",
       "      <td>88.000000</td>\n",
       "      <td>88</td>\n",
       "      <td>12/25/1984</td>\n",
       "      <td>31</td>\n",
       "      <td>0</td>\n",
       "      <td>STNWG</td>\n",
       "      <td>0</td>\n",
       "      <td>0.0</td>\n",
       "    </tr>\n",
       "  </tbody>\n",
       "</table>\n",
       "</div>"
      ],
      "text/plain": [
       "   pol_number pol_eff_dt gender  agecat  credit_score area  traffic_index  \\\n",
       "0    80750205   7/1/2015      M       4          52.0    C           93.0   \n",
       "1    90994433   8/1/2015      M       3          83.0    C          108.0   \n",
       "2    59239520   7/1/2015      M       5          71.0    A            NaN   \n",
       "3    67030771  11/1/2015      M       3           NaN    B           77.0   \n",
       "4    91422215   8/1/2015      M       2          88.0    D            NaN   \n",
       "\n",
       "   veh_age veh_body  veh_value claim_office  traffic2  veh_value2  veh_value3  \\\n",
       "0      4.0    STNWG       2.96          NaN        93        2.96        2.96   \n",
       "1      4.0    SEDAN       1.89          NaN       108        1.89        1.89   \n",
       "2      3.0    SEDAN       2.75          NaN       100        2.75        2.75   \n",
       "3      3.0      UTE       2.92          NaN        77        2.92        2.92   \n",
       "4      4.0    STNWG       3.63          NaN       100        3.63        3.63   \n",
       "\n",
       "   veh_age2    credit2  credit3         dob  age  claim_ind veh_body2  \\\n",
       "0         4  52.000000       52   2/18/1963   53          0     STNWG   \n",
       "1         4  83.000000       83   2/18/1978   38          0     SEDAN   \n",
       "2         3  71.000000       71   4/14/1960   56          0     SEDAN   \n",
       "3         3  74.730883       81  12/23/1974   41          0       UTE   \n",
       "4         4  88.000000       88  12/25/1984   31          0     STNWG   \n",
       "\n",
       "   numclaims  claimcst0  \n",
       "0          0        0.0  \n",
       "1          0        0.0  \n",
       "2          0        0.0  \n",
       "3          0        0.0  \n",
       "4          0        0.0  "
      ]
     },
     "execution_count": 2,
     "metadata": {},
     "output_type": "execute_result"
    }
   ],
   "source": [
    "data = pd.read_csv('autoinsurance_claims.csv')\n",
    "data.head()"
   ]
  },
  {
   "cell_type": "code",
   "execution_count": 3,
   "metadata": {
    "hidden": true
   },
   "outputs": [
    {
     "data": {
      "text/plain": [
       "(60948, 23)"
      ]
     },
     "execution_count": 3,
     "metadata": {},
     "output_type": "execute_result"
    }
   ],
   "source": [
    "data.shape"
   ]
  },
  {
   "cell_type": "markdown",
   "metadata": {},
   "source": [
    "# Preprocessing"
   ]
  },
  {
   "cell_type": "code",
   "execution_count": 4,
   "metadata": {},
   "outputs": [
    {
     "data": {
      "text/plain": [
       "pol_number           0\n",
       "pol_eff_dt           0\n",
       "gender               0\n",
       "agecat               0\n",
       "credit_score      3014\n",
       "area                 0\n",
       "traffic_index    12250\n",
       "veh_age          10476\n",
       "veh_body             0\n",
       "veh_value         7562\n",
       "claim_office     56787\n",
       "traffic2             0\n",
       "veh_value2           0\n",
       "veh_value3           0\n",
       "veh_age2             0\n",
       "credit2              0\n",
       "credit3              0\n",
       "dob                  0\n",
       "age                  0\n",
       "claim_ind            0\n",
       "veh_body2            0\n",
       "numclaims            0\n",
       "claimcst0            0\n",
       "dtype: int64"
      ]
     },
     "execution_count": 4,
     "metadata": {},
     "output_type": "execute_result"
    }
   ],
   "source": [
    "# looking for null values\n",
    "data.isnull().sum()"
   ]
  },
  {
   "cell_type": "markdown",
   "metadata": {},
   "source": [
    "__Dropping Columns__"
   ]
  },
  {
   "cell_type": "code",
   "execution_count": 5,
   "metadata": {},
   "outputs": [],
   "source": [
    "# claim office is mostly empty; lets drop the feature\n",
    "# we don't need the policy number either\n",
    "# veh_body and veh_body2 are redundant, keep veh_body2 as it is updated\n",
    "# the dateTime columns create a complexity we could do without.  pol_eff_dt is proprietary info we don't need and dob is\n",
    "  # redundant since we have age. \n",
    "data.drop(['claim_office', 'pol_number', 'veh_body', 'pol_eff_dt', 'dob'], axis = 1, inplace = True)\n",
    "\n",
    "\n"
   ]
  },
  {
   "cell_type": "markdown",
   "metadata": {},
   "source": [
    "there are duplicate columns for credit_score, traffic_index, vehicle_value, containing null values, where either the mean, median or both were used to impute missing values.  Lets keep only columns with median imputation"
   ]
  },
  {
   "cell_type": "code",
   "execution_count": 6,
   "metadata": {},
   "outputs": [],
   "source": [
    "# drop credit_score and credit2 columns\n",
    "data.drop(['credit_score', 'credit2', 'traffic_index', 'veh_value', 'veh_value2'], axis = 1, inplace = True)"
   ]
  },
  {
   "cell_type": "markdown",
   "metadata": {},
   "source": [
    "vehicle age also has a duplicate column, where the mode was used for null values.  This is an ordinal value so keeping the mode for imputation makes sense"
   ]
  },
  {
   "cell_type": "code",
   "execution_count": 7,
   "metadata": {},
   "outputs": [],
   "source": [
    "# drop veh_age column\n",
    "data.drop('veh_age', axis =1, inplace=True)"
   ]
  },
  {
   "cell_type": "code",
   "execution_count": 8,
   "metadata": {},
   "outputs": [
    {
     "data": {
      "text/plain": [
       "gender        0\n",
       "agecat        0\n",
       "area          0\n",
       "traffic2      0\n",
       "veh_value3    0\n",
       "veh_age2      0\n",
       "credit3       0\n",
       "age           0\n",
       "claim_ind     0\n",
       "veh_body2     0\n",
       "numclaims     0\n",
       "claimcst0     0\n",
       "dtype: int64"
      ]
     },
     "execution_count": 8,
     "metadata": {},
     "output_type": "execute_result"
    }
   ],
   "source": [
    "# confirm we have no other null values\n",
    "data.isnull().sum()"
   ]
  },
  {
   "cell_type": "markdown",
   "metadata": {},
   "source": [
    "**Fix Data Types**"
   ]
  },
  {
   "cell_type": "code",
   "execution_count": 9,
   "metadata": {},
   "outputs": [
    {
     "name": "stdout",
     "output_type": "stream",
     "text": [
      "<class 'pandas.core.frame.DataFrame'>\n",
      "RangeIndex: 60948 entries, 0 to 60947\n",
      "Data columns (total 12 columns):\n",
      "gender        60948 non-null object\n",
      "agecat        60948 non-null int64\n",
      "area          60948 non-null object\n",
      "traffic2      60948 non-null int64\n",
      "veh_value3    60948 non-null float64\n",
      "veh_age2      60948 non-null int64\n",
      "credit3       60948 non-null int64\n",
      "age           60948 non-null int64\n",
      "claim_ind     60948 non-null int64\n",
      "veh_body2     60948 non-null object\n",
      "numclaims     60948 non-null int64\n",
      "claimcst0     60948 non-null float64\n",
      "dtypes: float64(2), int64(7), object(3)\n",
      "memory usage: 5.6+ MB\n"
     ]
    }
   ],
   "source": [
    "data.info()"
   ]
  },
  {
   "cell_type": "markdown",
   "metadata": {},
   "source": [
    "\n",
    "\n",
    "| Feature | Change Type to: |\n",
    "|------------|---------------------|\n",
    "| pol_eff_dt | change to date time |\n",
    "| gender | change to category |\n",
    "| agecat | change to category |\n",
    "| area | change to category |\n",
    "| veh_age2 | change to category |\n",
    "| dob | change to DateTime |\n",
    "| claim_ind | change to category |\n",
    "| veh_body2 | change to category |\n"
   ]
  },
  {
   "cell_type": "code",
   "execution_count": 10,
   "metadata": {},
   "outputs": [],
   "source": [
    "data = data.astype({'gender':'category', 'area':'category', \n",
    "             'claim_ind':'category', 'veh_body2':'category'}, inplace = True)"
   ]
  },
  {
   "cell_type": "code",
   "execution_count": 11,
   "metadata": {},
   "outputs": [
    {
     "name": "stdout",
     "output_type": "stream",
     "text": [
      "<class 'pandas.core.frame.DataFrame'>\n",
      "RangeIndex: 60948 entries, 0 to 60947\n",
      "Data columns (total 12 columns):\n",
      "gender        60948 non-null category\n",
      "agecat        60948 non-null int64\n",
      "area          60948 non-null category\n",
      "traffic2      60948 non-null int64\n",
      "veh_value3    60948 non-null float64\n",
      "veh_age2      60948 non-null int64\n",
      "credit3       60948 non-null int64\n",
      "age           60948 non-null int64\n",
      "claim_ind     60948 non-null category\n",
      "veh_body2     60948 non-null category\n",
      "numclaims     60948 non-null int64\n",
      "claimcst0     60948 non-null float64\n",
      "dtypes: category(4), float64(2), int64(6)\n",
      "memory usage: 4.0 MB\n"
     ]
    }
   ],
   "source": [
    "# double check the work\n",
    "data.info()"
   ]
  },
  {
   "cell_type": "markdown",
   "metadata": {},
   "source": [
    "**Edit Column Names**\n",
    "\n",
    "Lets change a few of the column names for ease of use as we move forward and work with the data"
   ]
  },
  {
   "cell_type": "code",
   "execution_count": 12,
   "metadata": {},
   "outputs": [],
   "source": [
    "data.rename(columns={'traffic2':'traffic_index', 'veh_value3':'veh_value', 'credit3':'credit_score', 'numclaims':'num_claims', \n",
    "             'claimcst0':'claim_amount', 'veh_age2':'veh_ageIndex'}, inplace=True)"
   ]
  },
  {
   "cell_type": "markdown",
   "metadata": {},
   "source": [
    "**Look for Multicolinearity**"
   ]
  },
  {
   "cell_type": "code",
   "execution_count": 13,
   "metadata": {},
   "outputs": [
    {
     "data": {
      "text/plain": [
       "<matplotlib.axes._subplots.AxesSubplot at 0x278f5328be0>"
      ]
     },
     "execution_count": 13,
     "metadata": {},
     "output_type": "execute_result"
    },
    {
     "data": {
      "image/png": "[encoded data removed]",
      "text/plain": [
       "<Figure size 1080x864 with 2 Axes>"
      ]
     },
     "metadata": {
      "needs_background": "light"
     },
     "output_type": "display_data"
    }
   ],
   "source": [
    "plt.figure(figsize=(15, 12))\n",
    "sns.heatmap(data.corr(), annot=True)"
   ]
  },
  {
   "cell_type": "markdown",
   "metadata": {},
   "source": [
    "we see some highly correlated independent variables.  Lets get through the vanilla model and then decided what features to drop."
   ]
  },
  {
   "cell_type": "markdown",
   "metadata": {},
   "source": [
    "**Split data set between categorical and continuous**"
   ]
  },
  {
   "cell_type": "markdown",
   "metadata": {},
   "source": [
    "I will treat ordinal features as numeric data.  Doing this requires the assumption that the numeric space between each category is equal or close to equal.   To ignore the ordering would essentially mean we could delete columns for the drivers age, the traffic index, vehicle age and credit score; that would be too much useful information to lose and an extreme downside.  The downside to treating this data as numeric is that if the spread between bins are not equal, then our results may only be approximate.  I would posit that the approximate results would be more accurate than any model that disregarded them. "
   ]
  },
  {
   "cell_type": "code",
   "execution_count": 14,
   "metadata": {},
   "outputs": [
    {
     "name": "stdout",
     "output_type": "stream",
     "text": [
      "<class 'pandas.core.frame.DataFrame'>\n",
      "RangeIndex: 60948 entries, 0 to 60947\n",
      "Data columns (total 8 columns):\n",
      "agecat           60948 non-null int64\n",
      "traffic_index    60948 non-null int64\n",
      "veh_value        60948 non-null float64\n",
      "veh_ageIndex     60948 non-null int64\n",
      "credit_score     60948 non-null int64\n",
      "age              60948 non-null int64\n",
      "num_claims       60948 non-null int64\n",
      "claim_amount     60948 non-null float64\n",
      "dtypes: float64(2), int64(6)\n",
      "memory usage: 3.7 MB\n"
     ]
    }
   ],
   "source": [
    "# create continuous sub-DataFrame\n",
    "\n",
    "continuous = data.copy()\n",
    "for i in continuous:\n",
    "    if continuous[i].dtype.name == 'category':\n",
    "        continuous.drop(i, axis=1, inplace = True)\n",
    "continuous.info()"
   ]
  },
  {
   "cell_type": "code",
   "execution_count": 15,
   "metadata": {},
   "outputs": [
    {
     "name": "stdout",
     "output_type": "stream",
     "text": [
      "<class 'numpy.ndarray'>\n"
     ]
    },
    {
     "name": "stderr",
     "output_type": "stream",
     "text": [
      "C:\\Users\\mngav\\Anaconda3\\envs\\learn-env\\lib\\site-packages\\sklearn\\preprocessing\\data.py:625: DataConversionWarning: Data with input dtype int64, float64 were all converted to float64 by StandardScaler.\n",
      "  return self.partial_fit(X, y)\n",
      "C:\\Users\\mngav\\Anaconda3\\envs\\learn-env\\lib\\site-packages\\sklearn\\base.py:462: DataConversionWarning: Data with input dtype int64, float64 were all converted to float64 by StandardScaler.\n",
      "  return self.fit(X, **fit_params).transform(X)\n"
     ]
    }
   ],
   "source": [
    "# feature scaling -- Normalize the continuous data\n",
    "\n",
    "scalar = StandardScaler()\n",
    "cont_scaled = scalar.fit_transform(continuous)\n",
    "print(type(cont_scaled))"
   ]
  },
  {
   "cell_type": "markdown",
   "metadata": {},
   "source": [
    "scikit turned the Pandas DataFrame into a Numpy array and also stripped the column headers.  \n",
    "Lets coerce into Pandas and put the headers back on.  "
   ]
  },
  {
   "cell_type": "code",
   "execution_count": 16,
   "metadata": {},
   "outputs": [
    {
     "data": {
      "text/html": [
       "<div>\n",
       "<style scoped>\n",
       "    .dataframe tbody tr th:only-of-type {\n",
       "        vertical-align: middle;\n",
       "    }\n",
       "\n",
       "    .dataframe tbody tr th {\n",
       "        vertical-align: top;\n",
       "    }\n",
       "\n",
       "    .dataframe thead th {\n",
       "        text-align: right;\n",
       "    }\n",
       "</style>\n",
       "<table border=\"1\" class=\"dataframe\">\n",
       "  <thead>\n",
       "    <tr style=\"text-align: right;\">\n",
       "      <th></th>\n",
       "      <th>agecat</th>\n",
       "      <th>traffic_index</th>\n",
       "      <th>veh_value</th>\n",
       "      <th>veh_ageIndex</th>\n",
       "      <th>credit_score</th>\n",
       "      <th>age</th>\n",
       "      <th>num_claims</th>\n",
       "      <th>claim_amount</th>\n",
       "    </tr>\n",
       "  </thead>\n",
       "  <tbody>\n",
       "    <tr>\n",
       "      <th>0</th>\n",
       "      <td>0.361650</td>\n",
       "      <td>-0.183470</td>\n",
       "      <td>-0.377060</td>\n",
       "      <td>1.431967</td>\n",
       "      <td>-1.123803</td>\n",
       "      <td>0.351709</td>\n",
       "      <td>-0.262051</td>\n",
       "      <td>-0.261071</td>\n",
       "    </tr>\n",
       "    <tr>\n",
       "      <th>1</th>\n",
       "      <td>-0.340432</td>\n",
       "      <td>0.289758</td>\n",
       "      <td>-0.794601</td>\n",
       "      <td>1.431967</td>\n",
       "      <td>0.388199</td>\n",
       "      <td>-0.464101</td>\n",
       "      <td>-0.262051</td>\n",
       "      <td>-0.261071</td>\n",
       "    </tr>\n",
       "    <tr>\n",
       "      <th>2</th>\n",
       "      <td>1.063732</td>\n",
       "      <td>0.037370</td>\n",
       "      <td>-0.459008</td>\n",
       "      <td>0.437227</td>\n",
       "      <td>-0.197092</td>\n",
       "      <td>0.514871</td>\n",
       "      <td>-0.262051</td>\n",
       "      <td>-0.261071</td>\n",
       "    </tr>\n",
       "    <tr>\n",
       "      <th>3</th>\n",
       "      <td>-0.340432</td>\n",
       "      <td>-0.688247</td>\n",
       "      <td>-0.392669</td>\n",
       "      <td>0.437227</td>\n",
       "      <td>0.290651</td>\n",
       "      <td>-0.300939</td>\n",
       "      <td>-0.262051</td>\n",
       "      <td>-0.261071</td>\n",
       "    </tr>\n",
       "    <tr>\n",
       "      <th>4</th>\n",
       "      <td>-1.042514</td>\n",
       "      <td>0.037370</td>\n",
       "      <td>-0.115610</td>\n",
       "      <td>1.431967</td>\n",
       "      <td>0.632070</td>\n",
       "      <td>-0.844813</td>\n",
       "      <td>-0.262051</td>\n",
       "      <td>-0.261071</td>\n",
       "    </tr>\n",
       "  </tbody>\n",
       "</table>\n",
       "</div>"
      ],
      "text/plain": [
       "     agecat  traffic_index  veh_value  veh_ageIndex  credit_score       age  \\\n",
       "0  0.361650      -0.183470  -0.377060      1.431967     -1.123803  0.351709   \n",
       "1 -0.340432       0.289758  -0.794601      1.431967      0.388199 -0.464101   \n",
       "2  1.063732       0.037370  -0.459008      0.437227     -0.197092  0.514871   \n",
       "3 -0.340432      -0.688247  -0.392669      0.437227      0.290651 -0.300939   \n",
       "4 -1.042514       0.037370  -0.115610      1.431967      0.632070 -0.844813   \n",
       "\n",
       "   num_claims  claim_amount  \n",
       "0   -0.262051     -0.261071  \n",
       "1   -0.262051     -0.261071  \n",
       "2   -0.262051     -0.261071  \n",
       "3   -0.262051     -0.261071  \n",
       "4   -0.262051     -0.261071  "
      ]
     },
     "execution_count": 16,
     "metadata": {},
     "output_type": "execute_result"
    }
   ],
   "source": [
    "cont_scaled_df = pd.DataFrame(cont_scaled, columns = continuous.columns)\n",
    "cont_scaled_df.head()"
   ]
  },
  {
   "cell_type": "code",
   "execution_count": 17,
   "metadata": {},
   "outputs": [
    {
     "name": "stdout",
     "output_type": "stream",
     "text": [
      "<class 'pandas.core.frame.DataFrame'>\n",
      "RangeIndex: 60948 entries, 0 to 60947\n",
      "Data columns (total 4 columns):\n",
      "gender       60948 non-null category\n",
      "area         60948 non-null category\n",
      "claim_ind    60948 non-null category\n",
      "veh_body2    60948 non-null category\n",
      "dtypes: category(4)\n",
      "memory usage: 238.9 KB\n"
     ]
    }
   ],
   "source": [
    "# create categorical sub-DataFrame\n",
    "\n",
    "categorical = data.copy()\n",
    "for i in categorical:\n",
    "    if categorical[i].dtype.name != 'category':\n",
    "        categorical.drop(i, axis = 1, inplace=True)\n",
    "categorical.info()"
   ]
  },
  {
   "cell_type": "code",
   "execution_count": 18,
   "metadata": {},
   "outputs": [
    {
     "data": {
      "text/plain": [
       "array([[<matplotlib.axes._subplots.AxesSubplot object at 0x00000278F5EA3BA8>,\n",
       "        <matplotlib.axes._subplots.AxesSubplot object at 0x00000278F5E51B00>,\n",
       "        <matplotlib.axes._subplots.AxesSubplot object at 0x00000278F5EBAD68>],\n",
       "       [<matplotlib.axes._subplots.AxesSubplot object at 0x00000278F5EE5FD0>,\n",
       "        <matplotlib.axes._subplots.AxesSubplot object at 0x00000278F5F15278>,\n",
       "        <matplotlib.axes._subplots.AxesSubplot object at 0x00000278F5F3F518>],\n",
       "       [<matplotlib.axes._subplots.AxesSubplot object at 0x00000278F5F69A20>,\n",
       "        <matplotlib.axes._subplots.AxesSubplot object at 0x00000278F5F91F60>,\n",
       "        <matplotlib.axes._subplots.AxesSubplot object at 0x00000278F5F91F98>]],\n",
       "      dtype=object)"
      ]
     },
     "execution_count": 18,
     "metadata": {},
     "output_type": "execute_result"
    },
    {
     "data": {
      "image/png": "[encoded data removed]",
      "text/plain": [
       "<Figure size 720x720 with 9 Axes>"
      ]
     },
     "metadata": {
      "needs_background": "light"
     },
     "output_type": "display_data"
    }
   ],
   "source": [
    "# inspect distributions for continuous data\n",
    "cont_scaled_df.hist(figsize=(10,10))"
   ]
  },
  {
   "cell_type": "markdown",
   "metadata": {},
   "source": [
    "**Get Dummies for categorical data**"
   ]
  },
  {
   "cell_type": "code",
   "execution_count": 19,
   "metadata": {},
   "outputs": [
    {
     "data": {
      "text/html": [
       "<div>\n",
       "<style scoped>\n",
       "    .dataframe tbody tr th:only-of-type {\n",
       "        vertical-align: middle;\n",
       "    }\n",
       "\n",
       "    .dataframe tbody tr th {\n",
       "        vertical-align: top;\n",
       "    }\n",
       "\n",
       "    .dataframe thead th {\n",
       "        text-align: right;\n",
       "    }\n",
       "</style>\n",
       "<table border=\"1\" class=\"dataframe\">\n",
       "  <thead>\n",
       "    <tr style=\"text-align: right;\">\n",
       "      <th></th>\n",
       "      <th>gender</th>\n",
       "      <th>area</th>\n",
       "      <th>claim_ind</th>\n",
       "      <th>veh_body2</th>\n",
       "    </tr>\n",
       "  </thead>\n",
       "  <tbody>\n",
       "    <tr>\n",
       "      <th>0</th>\n",
       "      <td>M</td>\n",
       "      <td>C</td>\n",
       "      <td>0</td>\n",
       "      <td>STNWG</td>\n",
       "    </tr>\n",
       "    <tr>\n",
       "      <th>1</th>\n",
       "      <td>M</td>\n",
       "      <td>C</td>\n",
       "      <td>0</td>\n",
       "      <td>SEDAN</td>\n",
       "    </tr>\n",
       "    <tr>\n",
       "      <th>2</th>\n",
       "      <td>M</td>\n",
       "      <td>A</td>\n",
       "      <td>0</td>\n",
       "      <td>SEDAN</td>\n",
       "    </tr>\n",
       "    <tr>\n",
       "      <th>3</th>\n",
       "      <td>M</td>\n",
       "      <td>B</td>\n",
       "      <td>0</td>\n",
       "      <td>UTE</td>\n",
       "    </tr>\n",
       "    <tr>\n",
       "      <th>4</th>\n",
       "      <td>M</td>\n",
       "      <td>D</td>\n",
       "      <td>0</td>\n",
       "      <td>STNWG</td>\n",
       "    </tr>\n",
       "  </tbody>\n",
       "</table>\n",
       "</div>"
      ],
      "text/plain": [
       "  gender area claim_ind veh_body2\n",
       "0      M    C         0     STNWG\n",
       "1      M    C         0     SEDAN\n",
       "2      M    A         0     SEDAN\n",
       "3      M    B         0       UTE\n",
       "4      M    D         0     STNWG"
      ]
     },
     "execution_count": 19,
     "metadata": {},
     "output_type": "execute_result"
    }
   ],
   "source": [
    "categorical.head()"
   ]
  },
  {
   "cell_type": "code",
   "execution_count": 20,
   "metadata": {},
   "outputs": [
    {
     "name": "stdout",
     "output_type": "stream",
     "text": [
      "<class 'pandas.core.frame.DataFrame'>\n",
      "RangeIndex: 60948 entries, 0 to 60947\n",
      "Data columns (total 4 columns):\n",
      "gender       60948 non-null category\n",
      "area         60948 non-null category\n",
      "claim_ind    60948 non-null category\n",
      "veh_body2    60948 non-null category\n",
      "dtypes: category(4)\n",
      "memory usage: 238.9 KB\n"
     ]
    }
   ],
   "source": [
    "categorical.info()"
   ]
  },
  {
   "cell_type": "code",
   "execution_count": 21,
   "metadata": {},
   "outputs": [
    {
     "data": {
      "text/plain": [
       "SEDAN    19981\n",
       "HBACK    16966\n",
       "STNWG    14646\n",
       "UTE       4108\n",
       "TRUCK     1576\n",
       "HDTOP     1506\n",
       "MIBUS      794\n",
       "COUPE      704\n",
       "PANVN      667\n",
       "Name: veh_body2, dtype: int64"
      ]
     },
     "execution_count": 21,
     "metadata": {},
     "output_type": "execute_result"
    }
   ],
   "source": [
    "categorical.veh_body2.value_counts()"
   ]
  },
  {
   "cell_type": "code",
   "execution_count": 22,
   "metadata": {},
   "outputs": [
    {
     "data": {
      "text/html": [
       "<div>\n",
       "<style scoped>\n",
       "    .dataframe tbody tr th:only-of-type {\n",
       "        vertical-align: middle;\n",
       "    }\n",
       "\n",
       "    .dataframe tbody tr th {\n",
       "        vertical-align: top;\n",
       "    }\n",
       "\n",
       "    .dataframe thead th {\n",
       "        text-align: right;\n",
       "    }\n",
       "</style>\n",
       "<table border=\"1\" class=\"dataframe\">\n",
       "  <thead>\n",
       "    <tr style=\"text-align: right;\">\n",
       "      <th></th>\n",
       "      <th>gender_F</th>\n",
       "      <th>gender_M</th>\n",
       "      <th>area_A</th>\n",
       "      <th>area_B</th>\n",
       "      <th>area_C</th>\n",
       "      <th>area_D</th>\n",
       "      <th>area_E</th>\n",
       "      <th>area_F</th>\n",
       "      <th>veh_body2_COUPE</th>\n",
       "      <th>veh_body2_HBACK</th>\n",
       "      <th>veh_body2_HDTOP</th>\n",
       "      <th>veh_body2_MIBUS</th>\n",
       "      <th>veh_body2_PANVN</th>\n",
       "      <th>veh_body2_SEDAN</th>\n",
       "      <th>veh_body2_STNWG</th>\n",
       "      <th>veh_body2_TRUCK</th>\n",
       "      <th>veh_body2_UTE</th>\n",
       "    </tr>\n",
       "  </thead>\n",
       "  <tbody>\n",
       "    <tr>\n",
       "      <th>0</th>\n",
       "      <td>0</td>\n",
       "      <td>1</td>\n",
       "      <td>0</td>\n",
       "      <td>0</td>\n",
       "      <td>1</td>\n",
       "      <td>0</td>\n",
       "      <td>0</td>\n",
       "      <td>0</td>\n",
       "      <td>0</td>\n",
       "      <td>0</td>\n",
       "      <td>0</td>\n",
       "      <td>0</td>\n",
       "      <td>0</td>\n",
       "      <td>0</td>\n",
       "      <td>1</td>\n",
       "      <td>0</td>\n",
       "      <td>0</td>\n",
       "    </tr>\n",
       "    <tr>\n",
       "      <th>1</th>\n",
       "      <td>0</td>\n",
       "      <td>1</td>\n",
       "      <td>0</td>\n",
       "      <td>0</td>\n",
       "      <td>1</td>\n",
       "      <td>0</td>\n",
       "      <td>0</td>\n",
       "      <td>0</td>\n",
       "      <td>0</td>\n",
       "      <td>0</td>\n",
       "      <td>0</td>\n",
       "      <td>0</td>\n",
       "      <td>0</td>\n",
       "      <td>1</td>\n",
       "      <td>0</td>\n",
       "      <td>0</td>\n",
       "      <td>0</td>\n",
       "    </tr>\n",
       "    <tr>\n",
       "      <th>2</th>\n",
       "      <td>0</td>\n",
       "      <td>1</td>\n",
       "      <td>1</td>\n",
       "      <td>0</td>\n",
       "      <td>0</td>\n",
       "      <td>0</td>\n",
       "      <td>0</td>\n",
       "      <td>0</td>\n",
       "      <td>0</td>\n",
       "      <td>0</td>\n",
       "      <td>0</td>\n",
       "      <td>0</td>\n",
       "      <td>0</td>\n",
       "      <td>1</td>\n",
       "      <td>0</td>\n",
       "      <td>0</td>\n",
       "      <td>0</td>\n",
       "    </tr>\n",
       "    <tr>\n",
       "      <th>3</th>\n",
       "      <td>0</td>\n",
       "      <td>1</td>\n",
       "      <td>0</td>\n",
       "      <td>1</td>\n",
       "      <td>0</td>\n",
       "      <td>0</td>\n",
       "      <td>0</td>\n",
       "      <td>0</td>\n",
       "      <td>0</td>\n",
       "      <td>0</td>\n",
       "      <td>0</td>\n",
       "      <td>0</td>\n",
       "      <td>0</td>\n",
       "      <td>0</td>\n",
       "      <td>0</td>\n",
       "      <td>0</td>\n",
       "      <td>1</td>\n",
       "    </tr>\n",
       "    <tr>\n",
       "      <th>4</th>\n",
       "      <td>0</td>\n",
       "      <td>1</td>\n",
       "      <td>0</td>\n",
       "      <td>0</td>\n",
       "      <td>0</td>\n",
       "      <td>1</td>\n",
       "      <td>0</td>\n",
       "      <td>0</td>\n",
       "      <td>0</td>\n",
       "      <td>0</td>\n",
       "      <td>0</td>\n",
       "      <td>0</td>\n",
       "      <td>0</td>\n",
       "      <td>0</td>\n",
       "      <td>1</td>\n",
       "      <td>0</td>\n",
       "      <td>0</td>\n",
       "    </tr>\n",
       "  </tbody>\n",
       "</table>\n",
       "</div>"
      ],
      "text/plain": [
       "   gender_F  gender_M  area_A  area_B  area_C  area_D  area_E  area_F  \\\n",
       "0         0         1       0       0       1       0       0       0   \n",
       "1         0         1       0       0       1       0       0       0   \n",
       "2         0         1       1       0       0       0       0       0   \n",
       "3         0         1       0       1       0       0       0       0   \n",
       "4         0         1       0       0       0       1       0       0   \n",
       "\n",
       "   veh_body2_COUPE  veh_body2_HBACK  veh_body2_HDTOP  veh_body2_MIBUS  \\\n",
       "0                0                0                0                0   \n",
       "1                0                0                0                0   \n",
       "2                0                0                0                0   \n",
       "3                0                0                0                0   \n",
       "4                0                0                0                0   \n",
       "\n",
       "   veh_body2_PANVN  veh_body2_SEDAN  veh_body2_STNWG  veh_body2_TRUCK  \\\n",
       "0                0                0                1                0   \n",
       "1                0                1                0                0   \n",
       "2                0                1                0                0   \n",
       "3                0                0                0                0   \n",
       "4                0                0                1                0   \n",
       "\n",
       "   veh_body2_UTE  \n",
       "0              0  \n",
       "1              0  \n",
       "2              0  \n",
       "3              1  \n",
       "4              0  "
      ]
     },
     "execution_count": 22,
     "metadata": {},
     "output_type": "execute_result"
    }
   ],
   "source": [
    "# one-hot encode categorical data\n",
    "dummies = pd.get_dummies(categorical.drop('claim_ind', axis=1))\n",
    "dummies.head()"
   ]
  },
  {
   "cell_type": "markdown",
   "metadata": {},
   "source": [
    "**concat the continuous and categorical DataFrames**"
   ]
  },
  {
   "cell_type": "code",
   "execution_count": 23,
   "metadata": {},
   "outputs": [
    {
     "data": {
      "text/html": [
       "<div>\n",
       "<style scoped>\n",
       "    .dataframe tbody tr th:only-of-type {\n",
       "        vertical-align: middle;\n",
       "    }\n",
       "\n",
       "    .dataframe tbody tr th {\n",
       "        vertical-align: top;\n",
       "    }\n",
       "\n",
       "    .dataframe thead th {\n",
       "        text-align: right;\n",
       "    }\n",
       "</style>\n",
       "<table border=\"1\" class=\"dataframe\">\n",
       "  <thead>\n",
       "    <tr style=\"text-align: right;\">\n",
       "      <th></th>\n",
       "      <th>agecat</th>\n",
       "      <th>traffic_index</th>\n",
       "      <th>veh_value</th>\n",
       "      <th>veh_ageIndex</th>\n",
       "      <th>credit_score</th>\n",
       "      <th>age</th>\n",
       "      <th>num_claims</th>\n",
       "      <th>claim_amount</th>\n",
       "      <th>gender_F</th>\n",
       "      <th>gender_M</th>\n",
       "      <th>area_A</th>\n",
       "      <th>area_B</th>\n",
       "      <th>area_C</th>\n",
       "      <th>area_D</th>\n",
       "      <th>area_E</th>\n",
       "      <th>area_F</th>\n",
       "      <th>veh_body2_COUPE</th>\n",
       "      <th>veh_body2_HBACK</th>\n",
       "      <th>veh_body2_HDTOP</th>\n",
       "      <th>veh_body2_MIBUS</th>\n",
       "      <th>veh_body2_PANVN</th>\n",
       "      <th>veh_body2_SEDAN</th>\n",
       "      <th>veh_body2_STNWG</th>\n",
       "      <th>veh_body2_TRUCK</th>\n",
       "      <th>veh_body2_UTE</th>\n",
       "      <th>claim_ind</th>\n",
       "    </tr>\n",
       "  </thead>\n",
       "  <tbody>\n",
       "    <tr>\n",
       "      <th>0</th>\n",
       "      <td>0.361650</td>\n",
       "      <td>-0.183470</td>\n",
       "      <td>-0.377060</td>\n",
       "      <td>1.431967</td>\n",
       "      <td>-1.123803</td>\n",
       "      <td>0.351709</td>\n",
       "      <td>-0.262051</td>\n",
       "      <td>-0.261071</td>\n",
       "      <td>0</td>\n",
       "      <td>1</td>\n",
       "      <td>0</td>\n",
       "      <td>0</td>\n",
       "      <td>1</td>\n",
       "      <td>0</td>\n",
       "      <td>0</td>\n",
       "      <td>0</td>\n",
       "      <td>0</td>\n",
       "      <td>0</td>\n",
       "      <td>0</td>\n",
       "      <td>0</td>\n",
       "      <td>0</td>\n",
       "      <td>0</td>\n",
       "      <td>1</td>\n",
       "      <td>0</td>\n",
       "      <td>0</td>\n",
       "      <td>0</td>\n",
       "    </tr>\n",
       "    <tr>\n",
       "      <th>1</th>\n",
       "      <td>-0.340432</td>\n",
       "      <td>0.289758</td>\n",
       "      <td>-0.794601</td>\n",
       "      <td>1.431967</td>\n",
       "      <td>0.388199</td>\n",
       "      <td>-0.464101</td>\n",
       "      <td>-0.262051</td>\n",
       "      <td>-0.261071</td>\n",
       "      <td>0</td>\n",
       "      <td>1</td>\n",
       "      <td>0</td>\n",
       "      <td>0</td>\n",
       "      <td>1</td>\n",
       "      <td>0</td>\n",
       "      <td>0</td>\n",
       "      <td>0</td>\n",
       "      <td>0</td>\n",
       "      <td>0</td>\n",
       "      <td>0</td>\n",
       "      <td>0</td>\n",
       "      <td>0</td>\n",
       "      <td>1</td>\n",
       "      <td>0</td>\n",
       "      <td>0</td>\n",
       "      <td>0</td>\n",
       "      <td>0</td>\n",
       "    </tr>\n",
       "    <tr>\n",
       "      <th>2</th>\n",
       "      <td>1.063732</td>\n",
       "      <td>0.037370</td>\n",
       "      <td>-0.459008</td>\n",
       "      <td>0.437227</td>\n",
       "      <td>-0.197092</td>\n",
       "      <td>0.514871</td>\n",
       "      <td>-0.262051</td>\n",
       "      <td>-0.261071</td>\n",
       "      <td>0</td>\n",
       "      <td>1</td>\n",
       "      <td>1</td>\n",
       "      <td>0</td>\n",
       "      <td>0</td>\n",
       "      <td>0</td>\n",
       "      <td>0</td>\n",
       "      <td>0</td>\n",
       "      <td>0</td>\n",
       "      <td>0</td>\n",
       "      <td>0</td>\n",
       "      <td>0</td>\n",
       "      <td>0</td>\n",
       "      <td>1</td>\n",
       "      <td>0</td>\n",
       "      <td>0</td>\n",
       "      <td>0</td>\n",
       "      <td>0</td>\n",
       "    </tr>\n",
       "    <tr>\n",
       "      <th>3</th>\n",
       "      <td>-0.340432</td>\n",
       "      <td>-0.688247</td>\n",
       "      <td>-0.392669</td>\n",
       "      <td>0.437227</td>\n",
       "      <td>0.290651</td>\n",
       "      <td>-0.300939</td>\n",
       "      <td>-0.262051</td>\n",
       "      <td>-0.261071</td>\n",
       "      <td>0</td>\n",
       "      <td>1</td>\n",
       "      <td>0</td>\n",
       "      <td>1</td>\n",
       "      <td>0</td>\n",
       "      <td>0</td>\n",
       "      <td>0</td>\n",
       "      <td>0</td>\n",
       "      <td>0</td>\n",
       "      <td>0</td>\n",
       "      <td>0</td>\n",
       "      <td>0</td>\n",
       "      <td>0</td>\n",
       "      <td>0</td>\n",
       "      <td>0</td>\n",
       "      <td>0</td>\n",
       "      <td>1</td>\n",
       "      <td>0</td>\n",
       "    </tr>\n",
       "    <tr>\n",
       "      <th>4</th>\n",
       "      <td>-1.042514</td>\n",
       "      <td>0.037370</td>\n",
       "      <td>-0.115610</td>\n",
       "      <td>1.431967</td>\n",
       "      <td>0.632070</td>\n",
       "      <td>-0.844813</td>\n",
       "      <td>-0.262051</td>\n",
       "      <td>-0.261071</td>\n",
       "      <td>0</td>\n",
       "      <td>1</td>\n",
       "      <td>0</td>\n",
       "      <td>0</td>\n",
       "      <td>0</td>\n",
       "      <td>1</td>\n",
       "      <td>0</td>\n",
       "      <td>0</td>\n",
       "      <td>0</td>\n",
       "      <td>0</td>\n",
       "      <td>0</td>\n",
       "      <td>0</td>\n",
       "      <td>0</td>\n",
       "      <td>0</td>\n",
       "      <td>1</td>\n",
       "      <td>0</td>\n",
       "      <td>0</td>\n",
       "      <td>0</td>\n",
       "    </tr>\n",
       "  </tbody>\n",
       "</table>\n",
       "</div>"
      ],
      "text/plain": [
       "     agecat  traffic_index  veh_value  veh_ageIndex  credit_score       age  \\\n",
       "0  0.361650      -0.183470  -0.377060      1.431967     -1.123803  0.351709   \n",
       "1 -0.340432       0.289758  -0.794601      1.431967      0.388199 -0.464101   \n",
       "2  1.063732       0.037370  -0.459008      0.437227     -0.197092  0.514871   \n",
       "3 -0.340432      -0.688247  -0.392669      0.437227      0.290651 -0.300939   \n",
       "4 -1.042514       0.037370  -0.115610      1.431967      0.632070 -0.844813   \n",
       "\n",
       "   num_claims  claim_amount  gender_F  gender_M  area_A  area_B  area_C  \\\n",
       "0   -0.262051     -0.261071         0         1       0       0       1   \n",
       "1   -0.262051     -0.261071         0         1       0       0       1   \n",
       "2   -0.262051     -0.261071         0         1       1       0       0   \n",
       "3   -0.262051     -0.261071         0         1       0       1       0   \n",
       "4   -0.262051     -0.261071         0         1       0       0       0   \n",
       "\n",
       "   area_D  area_E  area_F  veh_body2_COUPE  veh_body2_HBACK  veh_body2_HDTOP  \\\n",
       "0       0       0       0                0                0                0   \n",
       "1       0       0       0                0                0                0   \n",
       "2       0       0       0                0                0                0   \n",
       "3       0       0       0                0                0                0   \n",
       "4       1       0       0                0                0                0   \n",
       "\n",
       "   veh_body2_MIBUS  veh_body2_PANVN  veh_body2_SEDAN  veh_body2_STNWG  \\\n",
       "0                0                0                0                1   \n",
       "1                0                0                1                0   \n",
       "2                0                0                1                0   \n",
       "3                0                0                0                0   \n",
       "4                0                0                0                1   \n",
       "\n",
       "   veh_body2_TRUCK  veh_body2_UTE claim_ind  \n",
       "0                0              0         0  \n",
       "1                0              0         0  \n",
       "2                0              0         0  \n",
       "3                0              1         0  \n",
       "4                0              0         0  "
      ]
     },
     "execution_count": 23,
     "metadata": {},
     "output_type": "execute_result"
    }
   ],
   "source": [
    "df = pd.concat([cont_scaled_df, dummies, categorical.claim_ind], axis = 1, sort=False)\n",
    "df.head()"
   ]
  },
  {
   "cell_type": "markdown",
   "metadata": {},
   "source": [
    "# Logistic Regression Models"
   ]
  },
  {
   "cell_type": "markdown",
   "metadata": {},
   "source": [
    "Lets check for any class imbalance in our target variable"
   ]
  },
  {
   "cell_type": "code",
   "execution_count": 24,
   "metadata": {},
   "outputs": [
    {
     "data": {
      "text/plain": [
       "0    56787\n",
       "1     4161\n",
       "Name: claim_ind, dtype: int64"
      ]
     },
     "execution_count": 24,
     "metadata": {},
     "output_type": "execute_result"
    }
   ],
   "source": [
    "df.claim_ind.value_counts()"
   ]
  },
  {
   "cell_type": "markdown",
   "metadata": {},
   "source": [
    "Roughly 7% of the target data are True while 93% are False so, it looks like we do have class imbalance and will run SMOTE to fix it."
   ]
  },
  {
   "cell_type": "markdown",
   "metadata": {},
   "source": [
    "## Logistic Regression Model #1"
   ]
  },
  {
   "cell_type": "markdown",
   "metadata": {},
   "source": [
    "this model:\n",
    "> - SMOTE completed before train-test split\n",
    "> - with multicolinearity"
   ]
  },
  {
   "cell_type": "code",
   "execution_count": 25,
   "metadata": {},
   "outputs": [
    {
     "name": "stdout",
     "output_type": "stream",
     "text": [
      "1    56787\n",
      "0    56787\n",
      "dtype: int64\n"
     ]
    }
   ],
   "source": [
    "# define X and y \n",
    "X = df[df.columns[:-1]]\n",
    "y = df.claim_ind\n",
    "\n",
    "# resample X and y with SMOTE \n",
    "X_resampled, y_resampled = SMOTE().fit_sample(X, y)\n",
    "\n",
    "# preview synthtic sample claim_ind distribution\n",
    "print(pd.Series(y_resampled).value_counts())"
   ]
  },
  {
   "cell_type": "code",
   "execution_count": 26,
   "metadata": {},
   "outputs": [],
   "source": [
    "# split the resampled data into train and test sets\n",
    "X_train, X_test, y_train, y_test = train_test_split(X_resampled, y_resampled, test_size = 0.3, random_state = 42)"
   ]
  },
  {
   "cell_type": "code",
   "execution_count": 27,
   "metadata": {},
   "outputs": [
    {
     "name": "stderr",
     "output_type": "stream",
     "text": [
      "C:\\Users\\mngav\\Anaconda3\\envs\\learn-env\\lib\\site-packages\\sklearn\\linear_model\\logistic.py:433: FutureWarning: Default solver will be changed to 'lbfgs' in 0.22. Specify a solver to silence this warning.\n",
      "  FutureWarning)\n"
     ]
    },
    {
     "name": "stdout",
     "output_type": "stream",
     "text": [
      "LogisticRegression(C=1.0, class_weight=None, dual=False, fit_intercept=True,\n",
      "          intercept_scaling=1, max_iter=100, multi_class='warn',\n",
      "          n_jobs=None, penalty='l2', random_state=None, solver='warn',\n",
      "          tol=0.0001, verbose=0, warm_start=False)\n"
     ]
    }
   ],
   "source": [
    "# create a Logistic Regression Object\n",
    "logreg_classifier = LogisticRegression()\n",
    "\n",
    "# fit a logistic regression model with default parameters\n",
    "logreg_model = logreg_classifier.fit(X_train, y_train)\n",
    "print(logreg_model)"
   ]
  },
  {
   "cell_type": "code",
   "execution_count": 28,
   "metadata": {},
   "outputs": [],
   "source": [
    "# generating predictions\n",
    "\n",
    "# using model to generate predictions off training data\n",
    "y_hat_train = logreg_model.predict(X_train)\n",
    "# using model to generate predictions off test data\n",
    "y_hat_test = logreg_model.predict(X_test)"
   ]
  },
  {
   "cell_type": "code",
   "execution_count": 29,
   "metadata": {},
   "outputs": [
    {
     "data": {
      "text/plain": [
       "array([0, 1], dtype=int64)"
      ]
     },
     "execution_count": 29,
     "metadata": {},
     "output_type": "execute_result"
    }
   ],
   "source": [
    "np.unique(y_hat_test)"
   ]
  },
  {
   "cell_type": "code",
   "execution_count": 30,
   "metadata": {},
   "outputs": [
    {
     "data": {
      "text/plain": [
       "1.0"
      ]
     },
     "execution_count": 30,
     "metadata": {},
     "output_type": "execute_result"
    }
   ],
   "source": [
    "accuracy_score(y_test, y_hat_test)"
   ]
  },
  {
   "cell_type": "code",
   "execution_count": 31,
   "metadata": {},
   "outputs": [
    {
     "name": "stdout",
     "output_type": "stream",
     "text": [
      "              precision    recall  f1-score   support\n",
      "\n",
      "           0       1.00      1.00      1.00     17248\n",
      "           1       1.00      1.00      1.00     16825\n",
      "\n",
      "   micro avg       1.00      1.00      1.00     34073\n",
      "   macro avg       1.00      1.00      1.00     34073\n",
      "weighted avg       1.00      1.00      1.00     34073\n",
      "\n"
     ]
    }
   ],
   "source": [
    "print(classification_report(y_test,y_hat_test))"
   ]
  },
  {
   "cell_type": "code",
   "execution_count": 32,
   "metadata": {},
   "outputs": [
    {
     "data": {
      "image/png": "[encoded data removed]",
      "text/plain": [
       "<Figure size 432x288 with 2 Axes>"
      ]
     },
     "metadata": {
      "needs_background": "light"
     },
     "output_type": "display_data"
    }
   ],
   "source": [
    "# Confusion Matrix\n",
    "\n",
    "def show_cf(y_true, y_pred, class_names=None, model_name=None):\n",
    "    cf = confusion_matrix(y_true, y_pred)\n",
    "    plt.imshow(cf, cmap=plt.cm.Blues)\n",
    "    \n",
    "    if model_name:\n",
    "        plt.title(\"Confusion Matrix: {}\".format(model_name))\n",
    "    else:\n",
    "        plt.title(\"Confusion Matrix\")\n",
    "    plt.ylabel('True Label')\n",
    "    plt.xlabel('Predicted Label')\n",
    "    \n",
    "    class_names = set(y_true)\n",
    "    tick_marks = np.arange(len(class_names))\n",
    "    if class_names:\n",
    "        plt.xticks(tick_marks, class_names)\n",
    "        plt.yticks(tick_marks, class_names)\n",
    "    \n",
    "    thresh = cf.max() / 2.\n",
    "    \n",
    "    for i, j in itertools.product(range(cf.shape[0]), range(cf.shape[1])):\n",
    "        plt.text(j, i, cf[i, j], horizontalalignment='center', color='white' if cf[i, j] > thresh else 'black')\n",
    "\n",
    "    plt.colorbar()\n",
    "\n",
    "show_cf(y_test, y_hat_test)"
   ]
  },
  {
   "cell_type": "code",
   "execution_count": 33,
   "metadata": {},
   "outputs": [
    {
     "name": "stderr",
     "output_type": "stream",
     "text": [
      "C:\\Users\\mngav\\Anaconda3\\envs\\learn-env\\lib\\site-packages\\sklearn\\linear_model\\logistic.py:433: FutureWarning: Default solver will be changed to 'lbfgs' in 0.22. Specify a solver to silence this warning.\n",
      "  FutureWarning)\n"
     ]
    },
    {
     "name": "stdout",
     "output_type": "stream",
     "text": [
      "AUC: 1.0\n"
     ]
    },
    {
     "data": {
      "image/png": "[encoded data removed]",
      "text/plain": [
       "<Figure size 720x576 with 1 Axes>"
      ]
     },
     "metadata": {},
     "output_type": "display_data"
    }
   ],
   "source": [
    "# calculate and plot ROC curve\n",
    "\n",
    "y_score = logreg_model.fit(X_train, y_train).decision_function(X_test)\n",
    "\n",
    "fpr, tpr, thresholds = roc_curve(y_test, y_score)\n",
    "\n",
    "#Seaborns Beautiful Styling\n",
    "sns.set_style(\"darkgrid\", {\"axes.facecolor\": \".9\"})\n",
    "\n",
    "print('AUC: {}'.format(auc(fpr, tpr)))\n",
    "plt.figure(figsize=(10,8))\n",
    "lw = 2\n",
    "plt.plot(fpr, tpr, color='darkorange',\n",
    "         lw=lw, label='ROC curve')\n",
    "plt.plot([0, 1], [0, 1], color='navy', lw=lw, linestyle='--')\n",
    "plt.xlim([0.0, 1.0])\n",
    "plt.ylim([0.0, 1.05])\n",
    "plt.yticks([i/20.0 for i in range(21)])\n",
    "plt.xticks([i/20.0 for i in range(21)])\n",
    "plt.xlabel('False Positive Rate')\n",
    "plt.ylabel('True Positive Rate')\n",
    "plt.title('Receiver operating characteristic (ROC) Curve')\n",
    "plt.legend(loc=\"lower right\")\n",
    "plt.show()"
   ]
  },
  {
   "cell_type": "markdown",
   "metadata": {},
   "source": [
    "The logistic classification model is performing perfectly for both the training and test sets.  Lets fix multicolinearity and see if we can get some realistic results"
   ]
  },
  {
   "cell_type": "markdown",
   "metadata": {},
   "source": [
    "## Logistic Regression Model #2"
   ]
  },
  {
   "cell_type": "markdown",
   "metadata": {},
   "source": [
    "LR model #1 did not remove multicolinearity.  \n",
    "Correlated features included: age with age_cat, and claim_amount with num_claims.  \n",
    "This LR model #2 will be completed after removing age and claim_amount.  \n",
    "SMOTE is also completed before train-test split"
   ]
  },
  {
   "cell_type": "code",
   "execution_count": 34,
   "metadata": {},
   "outputs": [
    {
     "data": {
      "text/plain": [
       "<matplotlib.axes._subplots.AxesSubplot at 0x278f72ba2e8>"
      ]
     },
     "execution_count": 34,
     "metadata": {},
     "output_type": "execute_result"
    },
    {
     "data": {
      "image/png": "[encoded data removed]",
      "text/plain": [
       "<Figure size 1080x864 with 2 Axes>"
      ]
     },
     "metadata": {},
     "output_type": "display_data"
    }
   ],
   "source": [
    "# view heatmap again\n",
    "plt.figure(figsize=(15, 12))\n",
    "sns.heatmap(cont_scaled_df.corr(), annot=True)"
   ]
  },
  {
   "cell_type": "markdown",
   "metadata": {},
   "source": [
    "We clearly need to drop a couple more columns.  \n",
    "Between age and age cat, lets keep age cat since the insurance company has already binned groups.  \n",
    "And between num_claims and claim_amount, lets keep num_claims since it adds more context than dollar amount, ie, with dollar amount, we lose insight on if it represents one or multiple claims"
   ]
  },
  {
   "cell_type": "code",
   "execution_count": 35,
   "metadata": {},
   "outputs": [],
   "source": [
    "# dropping 'age' and 'claim_amount'\n",
    "cont_scaled_df_2 = cont_scaled_df.copy()\n",
    "cont_scaled_df_2.drop(['age', 'claim_amount'], axis = 1, inplace = True)"
   ]
  },
  {
   "cell_type": "code",
   "execution_count": 36,
   "metadata": {},
   "outputs": [
    {
     "data": {
      "text/plain": [
       "<matplotlib.axes._subplots.AxesSubplot at 0x278f739e0b8>"
      ]
     },
     "execution_count": 36,
     "metadata": {},
     "output_type": "execute_result"
    },
    {
     "data": {
      "image/png": "[encoded data removed]",
      "text/plain": [
       "<Figure size 1080x864 with 2 Axes>"
      ]
     },
     "metadata": {},
     "output_type": "display_data"
    }
   ],
   "source": [
    "# correlation heatmap after removed of correlated features\n",
    "plt.figure(figsize=(15, 12))\n",
    "sns.heatmap(cont_scaled_df_2.corr(), annot=True)"
   ]
  },
  {
   "cell_type": "code",
   "execution_count": 37,
   "metadata": {},
   "outputs": [
    {
     "data": {
      "text/html": [
       "<div>\n",
       "<style scoped>\n",
       "    .dataframe tbody tr th:only-of-type {\n",
       "        vertical-align: middle;\n",
       "    }\n",
       "\n",
       "    .dataframe tbody tr th {\n",
       "        vertical-align: top;\n",
       "    }\n",
       "\n",
       "    .dataframe thead th {\n",
       "        text-align: right;\n",
       "    }\n",
       "</style>\n",
       "<table border=\"1\" class=\"dataframe\">\n",
       "  <thead>\n",
       "    <tr style=\"text-align: right;\">\n",
       "      <th></th>\n",
       "      <th>agecat</th>\n",
       "      <th>traffic_index</th>\n",
       "      <th>veh_value</th>\n",
       "      <th>veh_ageIndex</th>\n",
       "      <th>credit_score</th>\n",
       "      <th>num_claims</th>\n",
       "      <th>gender_F</th>\n",
       "      <th>gender_M</th>\n",
       "      <th>area_A</th>\n",
       "      <th>area_B</th>\n",
       "      <th>area_C</th>\n",
       "      <th>area_D</th>\n",
       "      <th>area_E</th>\n",
       "      <th>area_F</th>\n",
       "      <th>veh_body2_COUPE</th>\n",
       "      <th>veh_body2_HBACK</th>\n",
       "      <th>veh_body2_HDTOP</th>\n",
       "      <th>veh_body2_MIBUS</th>\n",
       "      <th>veh_body2_PANVN</th>\n",
       "      <th>veh_body2_SEDAN</th>\n",
       "      <th>veh_body2_STNWG</th>\n",
       "      <th>veh_body2_TRUCK</th>\n",
       "      <th>veh_body2_UTE</th>\n",
       "      <th>claim_ind</th>\n",
       "    </tr>\n",
       "  </thead>\n",
       "  <tbody>\n",
       "    <tr>\n",
       "      <th>0</th>\n",
       "      <td>0.361650</td>\n",
       "      <td>-0.183470</td>\n",
       "      <td>-0.377060</td>\n",
       "      <td>1.431967</td>\n",
       "      <td>-1.123803</td>\n",
       "      <td>-0.262051</td>\n",
       "      <td>0</td>\n",
       "      <td>1</td>\n",
       "      <td>0</td>\n",
       "      <td>0</td>\n",
       "      <td>1</td>\n",
       "      <td>0</td>\n",
       "      <td>0</td>\n",
       "      <td>0</td>\n",
       "      <td>0</td>\n",
       "      <td>0</td>\n",
       "      <td>0</td>\n",
       "      <td>0</td>\n",
       "      <td>0</td>\n",
       "      <td>0</td>\n",
       "      <td>1</td>\n",
       "      <td>0</td>\n",
       "      <td>0</td>\n",
       "      <td>0</td>\n",
       "    </tr>\n",
       "    <tr>\n",
       "      <th>1</th>\n",
       "      <td>-0.340432</td>\n",
       "      <td>0.289758</td>\n",
       "      <td>-0.794601</td>\n",
       "      <td>1.431967</td>\n",
       "      <td>0.388199</td>\n",
       "      <td>-0.262051</td>\n",
       "      <td>0</td>\n",
       "      <td>1</td>\n",
       "      <td>0</td>\n",
       "      <td>0</td>\n",
       "      <td>1</td>\n",
       "      <td>0</td>\n",
       "      <td>0</td>\n",
       "      <td>0</td>\n",
       "      <td>0</td>\n",
       "      <td>0</td>\n",
       "      <td>0</td>\n",
       "      <td>0</td>\n",
       "      <td>0</td>\n",
       "      <td>1</td>\n",
       "      <td>0</td>\n",
       "      <td>0</td>\n",
       "      <td>0</td>\n",
       "      <td>0</td>\n",
       "    </tr>\n",
       "    <tr>\n",
       "      <th>2</th>\n",
       "      <td>1.063732</td>\n",
       "      <td>0.037370</td>\n",
       "      <td>-0.459008</td>\n",
       "      <td>0.437227</td>\n",
       "      <td>-0.197092</td>\n",
       "      <td>-0.262051</td>\n",
       "      <td>0</td>\n",
       "      <td>1</td>\n",
       "      <td>1</td>\n",
       "      <td>0</td>\n",
       "      <td>0</td>\n",
       "      <td>0</td>\n",
       "      <td>0</td>\n",
       "      <td>0</td>\n",
       "      <td>0</td>\n",
       "      <td>0</td>\n",
       "      <td>0</td>\n",
       "      <td>0</td>\n",
       "      <td>0</td>\n",
       "      <td>1</td>\n",
       "      <td>0</td>\n",
       "      <td>0</td>\n",
       "      <td>0</td>\n",
       "      <td>0</td>\n",
       "    </tr>\n",
       "    <tr>\n",
       "      <th>3</th>\n",
       "      <td>-0.340432</td>\n",
       "      <td>-0.688247</td>\n",
       "      <td>-0.392669</td>\n",
       "      <td>0.437227</td>\n",
       "      <td>0.290651</td>\n",
       "      <td>-0.262051</td>\n",
       "      <td>0</td>\n",
       "      <td>1</td>\n",
       "      <td>0</td>\n",
       "      <td>1</td>\n",
       "      <td>0</td>\n",
       "      <td>0</td>\n",
       "      <td>0</td>\n",
       "      <td>0</td>\n",
       "      <td>0</td>\n",
       "      <td>0</td>\n",
       "      <td>0</td>\n",
       "      <td>0</td>\n",
       "      <td>0</td>\n",
       "      <td>0</td>\n",
       "      <td>0</td>\n",
       "      <td>0</td>\n",
       "      <td>1</td>\n",
       "      <td>0</td>\n",
       "    </tr>\n",
       "    <tr>\n",
       "      <th>4</th>\n",
       "      <td>-1.042514</td>\n",
       "      <td>0.037370</td>\n",
       "      <td>-0.115610</td>\n",
       "      <td>1.431967</td>\n",
       "      <td>0.632070</td>\n",
       "      <td>-0.262051</td>\n",
       "      <td>0</td>\n",
       "      <td>1</td>\n",
       "      <td>0</td>\n",
       "      <td>0</td>\n",
       "      <td>0</td>\n",
       "      <td>1</td>\n",
       "      <td>0</td>\n",
       "      <td>0</td>\n",
       "      <td>0</td>\n",
       "      <td>0</td>\n",
       "      <td>0</td>\n",
       "      <td>0</td>\n",
       "      <td>0</td>\n",
       "      <td>0</td>\n",
       "      <td>1</td>\n",
       "      <td>0</td>\n",
       "      <td>0</td>\n",
       "      <td>0</td>\n",
       "    </tr>\n",
       "  </tbody>\n",
       "</table>\n",
       "</div>"
      ],
      "text/plain": [
       "     agecat  traffic_index  veh_value  veh_ageIndex  credit_score  num_claims  \\\n",
       "0  0.361650      -0.183470  -0.377060      1.431967     -1.123803   -0.262051   \n",
       "1 -0.340432       0.289758  -0.794601      1.431967      0.388199   -0.262051   \n",
       "2  1.063732       0.037370  -0.459008      0.437227     -0.197092   -0.262051   \n",
       "3 -0.340432      -0.688247  -0.392669      0.437227      0.290651   -0.262051   \n",
       "4 -1.042514       0.037370  -0.115610      1.431967      0.632070   -0.262051   \n",
       "\n",
       "   gender_F  gender_M  area_A  area_B  area_C  area_D  area_E  area_F  \\\n",
       "0         0         1       0       0       1       0       0       0   \n",
       "1         0         1       0       0       1       0       0       0   \n",
       "2         0         1       1       0       0       0       0       0   \n",
       "3         0         1       0       1       0       0       0       0   \n",
       "4         0         1       0       0       0       1       0       0   \n",
       "\n",
       "   veh_body2_COUPE  veh_body2_HBACK  veh_body2_HDTOP  veh_body2_MIBUS  \\\n",
       "0                0                0                0                0   \n",
       "1                0                0                0                0   \n",
       "2                0                0                0                0   \n",
       "3                0                0                0                0   \n",
       "4                0                0                0                0   \n",
       "\n",
       "   veh_body2_PANVN  veh_body2_SEDAN  veh_body2_STNWG  veh_body2_TRUCK  \\\n",
       "0                0                0                1                0   \n",
       "1                0                1                0                0   \n",
       "2                0                1                0                0   \n",
       "3                0                0                0                0   \n",
       "4                0                0                1                0   \n",
       "\n",
       "   veh_body2_UTE claim_ind  \n",
       "0              0         0  \n",
       "1              0         0  \n",
       "2              0         0  \n",
       "3              1         0  \n",
       "4              0         0  "
      ]
     },
     "execution_count": 37,
     "metadata": {},
     "output_type": "execute_result"
    }
   ],
   "source": [
    "df_2 = pd.concat([cont_scaled_df_2, dummies, categorical.claim_ind], axis = 1, sort=False)\n",
    "df_2.head()"
   ]
  },
  {
   "cell_type": "code",
   "execution_count": 38,
   "metadata": {},
   "outputs": [],
   "source": [
    "# define X and y \n",
    "X2 = df_2[df_2.columns[:-1]]\n",
    "y2 = df_2.claim_ind\n",
    "\n",
    "# resample X and y with SMOTE \n",
    "X_resampled_2, y_resampled_2 = SMOTE().fit_sample(X2, y2)\n",
    "\n",
    "# split the resampled data into train and test sets\n",
    "X_train_2, X_test_2, y_train_2, y_test_2 = train_test_split(X_resampled_2, y_resampled_2, test_size = 0.3, random_state = 42)"
   ]
  },
  {
   "cell_type": "code",
   "execution_count": 39,
   "metadata": {},
   "outputs": [
    {
     "name": "stderr",
     "output_type": "stream",
     "text": [
      "C:\\Users\\mngav\\Anaconda3\\envs\\learn-env\\lib\\site-packages\\sklearn\\linear_model\\logistic.py:433: FutureWarning: Default solver will be changed to 'lbfgs' in 0.22. Specify a solver to silence this warning.\n",
      "  FutureWarning)\n"
     ]
    },
    {
     "name": "stdout",
     "output_type": "stream",
     "text": [
      "LogisticRegression(C=1.0, class_weight=None, dual=False, fit_intercept=True,\n",
      "          intercept_scaling=1, max_iter=100, multi_class='warn',\n",
      "          n_jobs=None, penalty='l2', random_state=None, solver='warn',\n",
      "          tol=0.0001, verbose=0, warm_start=False)\n"
     ]
    }
   ],
   "source": [
    "# fit a logistic regression model with default parameters\n",
    "logreg_model_2 = logreg_classifier.fit(X_train_2, y_train_2)\n",
    "print(logreg_model_2)"
   ]
  },
  {
   "cell_type": "code",
   "execution_count": 40,
   "metadata": {},
   "outputs": [],
   "source": [
    "# generating predictions\n",
    "y_hat_train_2 = logreg_model.predict(X_train_2)\n",
    "y_hat_test_2 = logreg_model_2.predict(X_test_2)"
   ]
  },
  {
   "cell_type": "code",
   "execution_count": 41,
   "metadata": {},
   "outputs": [
    {
     "data": {
      "text/plain": [
       "1.0"
      ]
     },
     "execution_count": 41,
     "metadata": {},
     "output_type": "execute_result"
    }
   ],
   "source": [
    "accuracy_score(y_test_2, y_hat_test_2)"
   ]
  },
  {
   "cell_type": "code",
   "execution_count": 42,
   "metadata": {},
   "outputs": [
    {
     "name": "stdout",
     "output_type": "stream",
     "text": [
      "              precision    recall  f1-score   support\n",
      "\n",
      "           0       1.00      1.00      1.00     17248\n",
      "           1       1.00      1.00      1.00     16825\n",
      "\n",
      "   micro avg       1.00      1.00      1.00     34073\n",
      "   macro avg       1.00      1.00      1.00     34073\n",
      "weighted avg       1.00      1.00      1.00     34073\n",
      "\n"
     ]
    }
   ],
   "source": [
    "from sklearn.metrics import classification_report\n",
    "print(classification_report(y_test_2,y_hat_test_2))"
   ]
  },
  {
   "cell_type": "code",
   "execution_count": 43,
   "metadata": {},
   "outputs": [
    {
     "data": {
      "image/png": "[encoded data removed]",
      "text/plain": [
       "<Figure size 432x288 with 2 Axes>"
      ]
     },
     "metadata": {},
     "output_type": "display_data"
    }
   ],
   "source": [
    "show_cf(y_test_2, y_hat_test_2)"
   ]
  },
  {
   "cell_type": "code",
   "execution_count": 44,
   "metadata": {},
   "outputs": [
    {
     "name": "stderr",
     "output_type": "stream",
     "text": [
      "C:\\Users\\mngav\\Anaconda3\\envs\\learn-env\\lib\\site-packages\\sklearn\\linear_model\\logistic.py:433: FutureWarning: Default solver will be changed to 'lbfgs' in 0.22. Specify a solver to silence this warning.\n",
      "  FutureWarning)\n"
     ]
    },
    {
     "name": "stdout",
     "output_type": "stream",
     "text": [
      "AUC: 1.0\n"
     ]
    },
    {
     "data": {
      "image/png": "[encoded data removed]",
      "text/plain": [
       "<Figure size 720x576 with 1 Axes>"
      ]
     },
     "metadata": {},
     "output_type": "display_data"
    }
   ],
   "source": [
    "y_score_2 = logreg_model_2.fit(X_train_2, y_train_2).decision_function(X_test_2)\n",
    "\n",
    "fpr_2, tpr_2, thresholds_2 = roc_curve(y_test_2, y_score_2)\n",
    "\n",
    "#Seaborns Beautiful Styling\n",
    "sns.set_style(\"darkgrid\", {\"axes.facecolor\": \".9\"})\n",
    "\n",
    "print('AUC: {}'.format(auc(fpr_2, tpr_2)))\n",
    "plt.figure(figsize=(10,8))\n",
    "lw = 2\n",
    "plt.plot(fpr_2, tpr_2, color='darkorange',\n",
    "         lw=lw, label='ROC curve')\n",
    "plt.plot([0, 1], [0, 1], color='navy', lw=lw, linestyle='--')\n",
    "plt.xlim([0.0, 1.0])\n",
    "plt.ylim([0.0, 1.05])\n",
    "plt.yticks([i/20.0 for i in range(21)])\n",
    "plt.xticks([i/20.0 for i in range(21)])\n",
    "plt.xlabel('False Positive Rate')\n",
    "plt.ylabel('True Positive Rate')\n",
    "plt.title('Receiver operating characteristic (ROC) Curve')\n",
    "plt.legend(loc=\"lower right\")\n",
    "plt.show()"
   ]
  },
  {
   "cell_type": "markdown",
   "metadata": {},
   "source": [
    "Removing multicolinearity had no effecto on model results which are still perfect and unrealistic.  Lets move on to Random Forests for (hopefully) more insight which might tell us that Logistic Regression is simply not sensitive enough for thid data."
   ]
  },
  {
   "cell_type": "markdown",
   "metadata": {},
   "source": [
    "## Logistic Regression Model #3 "
   ]
  },
  {
   "cell_type": "markdown",
   "metadata": {},
   "source": [
    "Running a Random Forest model showed 98% importance being attributed to num_claims.  This was highly correlation with claim_amount, which was removed before LR Model #2.  Lets drop num_claims and run another LR model to see if we can get some realistic results.   \n",
    "Also, **implementing SMOTE after train-test split for this iteration**"
   ]
  },
  {
   "cell_type": "code",
   "execution_count": 45,
   "metadata": {},
   "outputs": [
    {
     "data": {
      "text/html": [
       "<div>\n",
       "<style scoped>\n",
       "    .dataframe tbody tr th:only-of-type {\n",
       "        vertical-align: middle;\n",
       "    }\n",
       "\n",
       "    .dataframe tbody tr th {\n",
       "        vertical-align: top;\n",
       "    }\n",
       "\n",
       "    .dataframe thead th {\n",
       "        text-align: right;\n",
       "    }\n",
       "</style>\n",
       "<table border=\"1\" class=\"dataframe\">\n",
       "  <thead>\n",
       "    <tr style=\"text-align: right;\">\n",
       "      <th></th>\n",
       "      <th>agecat</th>\n",
       "      <th>traffic_index</th>\n",
       "      <th>veh_value</th>\n",
       "      <th>veh_ageIndex</th>\n",
       "      <th>credit_score</th>\n",
       "      <th>num_claims</th>\n",
       "      <th>gender_F</th>\n",
       "      <th>gender_M</th>\n",
       "      <th>area_A</th>\n",
       "      <th>area_B</th>\n",
       "      <th>area_C</th>\n",
       "      <th>area_D</th>\n",
       "      <th>area_E</th>\n",
       "      <th>area_F</th>\n",
       "      <th>veh_body2_COUPE</th>\n",
       "      <th>veh_body2_HBACK</th>\n",
       "      <th>veh_body2_HDTOP</th>\n",
       "      <th>veh_body2_MIBUS</th>\n",
       "      <th>veh_body2_PANVN</th>\n",
       "      <th>veh_body2_SEDAN</th>\n",
       "      <th>veh_body2_STNWG</th>\n",
       "      <th>veh_body2_TRUCK</th>\n",
       "      <th>veh_body2_UTE</th>\n",
       "      <th>claim_ind</th>\n",
       "    </tr>\n",
       "  </thead>\n",
       "  <tbody>\n",
       "    <tr>\n",
       "      <th>0</th>\n",
       "      <td>0.361650</td>\n",
       "      <td>-0.183470</td>\n",
       "      <td>-0.377060</td>\n",
       "      <td>1.431967</td>\n",
       "      <td>-1.123803</td>\n",
       "      <td>-0.262051</td>\n",
       "      <td>0</td>\n",
       "      <td>1</td>\n",
       "      <td>0</td>\n",
       "      <td>0</td>\n",
       "      <td>1</td>\n",
       "      <td>0</td>\n",
       "      <td>0</td>\n",
       "      <td>0</td>\n",
       "      <td>0</td>\n",
       "      <td>0</td>\n",
       "      <td>0</td>\n",
       "      <td>0</td>\n",
       "      <td>0</td>\n",
       "      <td>0</td>\n",
       "      <td>1</td>\n",
       "      <td>0</td>\n",
       "      <td>0</td>\n",
       "      <td>0</td>\n",
       "    </tr>\n",
       "    <tr>\n",
       "      <th>1</th>\n",
       "      <td>-0.340432</td>\n",
       "      <td>0.289758</td>\n",
       "      <td>-0.794601</td>\n",
       "      <td>1.431967</td>\n",
       "      <td>0.388199</td>\n",
       "      <td>-0.262051</td>\n",
       "      <td>0</td>\n",
       "      <td>1</td>\n",
       "      <td>0</td>\n",
       "      <td>0</td>\n",
       "      <td>1</td>\n",
       "      <td>0</td>\n",
       "      <td>0</td>\n",
       "      <td>0</td>\n",
       "      <td>0</td>\n",
       "      <td>0</td>\n",
       "      <td>0</td>\n",
       "      <td>0</td>\n",
       "      <td>0</td>\n",
       "      <td>1</td>\n",
       "      <td>0</td>\n",
       "      <td>0</td>\n",
       "      <td>0</td>\n",
       "      <td>0</td>\n",
       "    </tr>\n",
       "    <tr>\n",
       "      <th>2</th>\n",
       "      <td>1.063732</td>\n",
       "      <td>0.037370</td>\n",
       "      <td>-0.459008</td>\n",
       "      <td>0.437227</td>\n",
       "      <td>-0.197092</td>\n",
       "      <td>-0.262051</td>\n",
       "      <td>0</td>\n",
       "      <td>1</td>\n",
       "      <td>1</td>\n",
       "      <td>0</td>\n",
       "      <td>0</td>\n",
       "      <td>0</td>\n",
       "      <td>0</td>\n",
       "      <td>0</td>\n",
       "      <td>0</td>\n",
       "      <td>0</td>\n",
       "      <td>0</td>\n",
       "      <td>0</td>\n",
       "      <td>0</td>\n",
       "      <td>1</td>\n",
       "      <td>0</td>\n",
       "      <td>0</td>\n",
       "      <td>0</td>\n",
       "      <td>0</td>\n",
       "    </tr>\n",
       "    <tr>\n",
       "      <th>3</th>\n",
       "      <td>-0.340432</td>\n",
       "      <td>-0.688247</td>\n",
       "      <td>-0.392669</td>\n",
       "      <td>0.437227</td>\n",
       "      <td>0.290651</td>\n",
       "      <td>-0.262051</td>\n",
       "      <td>0</td>\n",
       "      <td>1</td>\n",
       "      <td>0</td>\n",
       "      <td>1</td>\n",
       "      <td>0</td>\n",
       "      <td>0</td>\n",
       "      <td>0</td>\n",
       "      <td>0</td>\n",
       "      <td>0</td>\n",
       "      <td>0</td>\n",
       "      <td>0</td>\n",
       "      <td>0</td>\n",
       "      <td>0</td>\n",
       "      <td>0</td>\n",
       "      <td>0</td>\n",
       "      <td>0</td>\n",
       "      <td>1</td>\n",
       "      <td>0</td>\n",
       "    </tr>\n",
       "    <tr>\n",
       "      <th>4</th>\n",
       "      <td>-1.042514</td>\n",
       "      <td>0.037370</td>\n",
       "      <td>-0.115610</td>\n",
       "      <td>1.431967</td>\n",
       "      <td>0.632070</td>\n",
       "      <td>-0.262051</td>\n",
       "      <td>0</td>\n",
       "      <td>1</td>\n",
       "      <td>0</td>\n",
       "      <td>0</td>\n",
       "      <td>0</td>\n",
       "      <td>1</td>\n",
       "      <td>0</td>\n",
       "      <td>0</td>\n",
       "      <td>0</td>\n",
       "      <td>0</td>\n",
       "      <td>0</td>\n",
       "      <td>0</td>\n",
       "      <td>0</td>\n",
       "      <td>0</td>\n",
       "      <td>1</td>\n",
       "      <td>0</td>\n",
       "      <td>0</td>\n",
       "      <td>0</td>\n",
       "    </tr>\n",
       "  </tbody>\n",
       "</table>\n",
       "</div>"
      ],
      "text/plain": [
       "     agecat  traffic_index  veh_value  veh_ageIndex  credit_score  num_claims  \\\n",
       "0  0.361650      -0.183470  -0.377060      1.431967     -1.123803   -0.262051   \n",
       "1 -0.340432       0.289758  -0.794601      1.431967      0.388199   -0.262051   \n",
       "2  1.063732       0.037370  -0.459008      0.437227     -0.197092   -0.262051   \n",
       "3 -0.340432      -0.688247  -0.392669      0.437227      0.290651   -0.262051   \n",
       "4 -1.042514       0.037370  -0.115610      1.431967      0.632070   -0.262051   \n",
       "\n",
       "   gender_F  gender_M  area_A  area_B  area_C  area_D  area_E  area_F  \\\n",
       "0         0         1       0       0       1       0       0       0   \n",
       "1         0         1       0       0       1       0       0       0   \n",
       "2         0         1       1       0       0       0       0       0   \n",
       "3         0         1       0       1       0       0       0       0   \n",
       "4         0         1       0       0       0       1       0       0   \n",
       "\n",
       "   veh_body2_COUPE  veh_body2_HBACK  veh_body2_HDTOP  veh_body2_MIBUS  \\\n",
       "0                0                0                0                0   \n",
       "1                0                0                0                0   \n",
       "2                0                0                0                0   \n",
       "3                0                0                0                0   \n",
       "4                0                0                0                0   \n",
       "\n",
       "   veh_body2_PANVN  veh_body2_SEDAN  veh_body2_STNWG  veh_body2_TRUCK  \\\n",
       "0                0                0                1                0   \n",
       "1                0                1                0                0   \n",
       "2                0                1                0                0   \n",
       "3                0                0                0                0   \n",
       "4                0                0                1                0   \n",
       "\n",
       "   veh_body2_UTE claim_ind  \n",
       "0              0         0  \n",
       "1              0         0  \n",
       "2              0         0  \n",
       "3              1         0  \n",
       "4              0         0  "
      ]
     },
     "execution_count": 45,
     "metadata": {},
     "output_type": "execute_result"
    }
   ],
   "source": [
    "df_3 = df_2.copy()\n",
    "df_3.head()"
   ]
  },
  {
   "cell_type": "code",
   "execution_count": 105,
   "metadata": {},
   "outputs": [],
   "source": [
    "import copy\n",
    "\n",
    "X_3 = copy.deepcopy(df_3[df_3.columns[0:-1]])\n",
    "y_3 = copy.deepcopy(df_3.claim_ind)\n",
    "\n",
    "# split data set between test and train\n",
    "X_train_3, X_test_3, y_train_3, y_test_3 = train_test_split(X_3, y_3, test_size = 0.3, random_state = 42)\n",
    "\n",
    "# complete SMOTE on train sample only\n",
    "X_train_3_SMOTE, y_train_3_SMOTE = SMOTE().fit_sample(X_train_3, y_train_3)\n",
    "           "
   ]
  },
  {
   "cell_type": "code",
   "execution_count": 106,
   "metadata": {},
   "outputs": [
    {
     "name": "stderr",
     "output_type": "stream",
     "text": [
      "C:\\Users\\mngav\\Anaconda3\\envs\\learn-env\\lib\\site-packages\\sklearn\\linear_model\\logistic.py:433: FutureWarning: Default solver will be changed to 'lbfgs' in 0.22. Specify a solver to silence this warning.\n",
      "  FutureWarning)\n"
     ]
    },
    {
     "name": "stdout",
     "output_type": "stream",
     "text": [
      "LogisticRegression(C=1.0, class_weight=None, dual=False, fit_intercept=True,\n",
      "          intercept_scaling=1, max_iter=100, multi_class='warn',\n",
      "          n_jobs=None, penalty='l2', random_state=None, solver='warn',\n",
      "          tol=0.0001, verbose=0, warm_start=False)\n"
     ]
    }
   ],
   "source": [
    "logreg_classifier = LogisticRegression()\n",
    "logReg_model_3 = logreg_classifier.fit(X_train_3_SMOTE, y_train_3_SMOTE)\n",
    "print(logReg_model_3)"
   ]
  },
  {
   "cell_type": "code",
   "execution_count": 107,
   "metadata": {},
   "outputs": [],
   "source": [
    "# generating predictions\n",
    "y_hat_train_3 = logReg_model_3.predict(X_train_3_SMOTE)\n",
    "y_hat_test_3 = logReg_model_3.predict(X_test_3)"
   ]
  },
  {
   "cell_type": "code",
   "execution_count": 108,
   "metadata": {},
   "outputs": [
    {
     "data": {
      "text/plain": [
       "1.0"
      ]
     },
     "execution_count": 108,
     "metadata": {},
     "output_type": "execute_result"
    }
   ],
   "source": [
    "accuracy_score(y_test_3, y_hat_test_3)"
   ]
  },
  {
   "cell_type": "code",
   "execution_count": 50,
   "metadata": {},
   "outputs": [
    {
     "name": "stdout",
     "output_type": "stream",
     "text": [
      "              precision    recall  f1-score   support\n",
      "\n",
      "           0       1.00      1.00      1.00     17009\n",
      "           1       1.00      1.00      1.00      1276\n",
      "\n",
      "   micro avg       1.00      1.00      1.00     18285\n",
      "   macro avg       1.00      1.00      1.00     18285\n",
      "weighted avg       1.00      1.00      1.00     18285\n",
      "\n"
     ]
    }
   ],
   "source": [
    "from sklearn.metrics import classification_report\n",
    "print(classification_report(y_test_3,y_hat_test_3))"
   ]
  },
  {
   "cell_type": "code",
   "execution_count": 51,
   "metadata": {},
   "outputs": [
    {
     "data": {
      "image/png": "[encoded data removed]",
      "text/plain": [
       "<Figure size 432x288 with 2 Axes>"
      ]
     },
     "metadata": {},
     "output_type": "display_data"
    }
   ],
   "source": [
    "show_cf(y_test_3, y_hat_test_3)"
   ]
  },
  {
   "cell_type": "code",
   "execution_count": 52,
   "metadata": {},
   "outputs": [
    {
     "name": "stderr",
     "output_type": "stream",
     "text": [
      "C:\\Users\\mngav\\Anaconda3\\envs\\learn-env\\lib\\site-packages\\sklearn\\linear_model\\logistic.py:433: FutureWarning: Default solver will be changed to 'lbfgs' in 0.22. Specify a solver to silence this warning.\n",
      "  FutureWarning)\n"
     ]
    },
    {
     "name": "stdout",
     "output_type": "stream",
     "text": [
      "AUC: 1.0\n"
     ]
    },
    {
     "data": {
      "image/png": "[encoded data removed]",
      "text/plain": [
       "<Figure size 720x576 with 1 Axes>"
      ]
     },
     "metadata": {},
     "output_type": "display_data"
    }
   ],
   "source": [
    "y_score_3 = logReg_model_3.fit(X_train_3, y_train_3).decision_function(X_test_3)\n",
    "\n",
    "fpr_3, tpr_3, thresholds_3 = roc_curve(y_test_3, y_score_3)\n",
    "\n",
    "#Seaborns Beautiful Styling\n",
    "sns.set_style(\"darkgrid\", {\"axes.facecolor\": \".9\"})\n",
    "\n",
    "print('AUC: {}'.format(auc(fpr_3, tpr_3)))\n",
    "plt.figure(figsize=(10,8))\n",
    "lw = 2\n",
    "plt.plot(fpr_3, tpr_3, color='darkorange',\n",
    "         lw=lw, label='ROC curve')\n",
    "plt.plot([0, 1], [0, 1], color='navy', lw=lw, linestyle='--')\n",
    "plt.xlim([0.0, 1.0])\n",
    "plt.ylim([0.0, 1.05])\n",
    "plt.yticks([i/20.0 for i in range(21)])\n",
    "plt.xticks([i/20.0 for i in range(21)])\n",
    "plt.xlabel('False Positive Rate')\n",
    "plt.ylabel('True Positive Rate')\n",
    "plt.title('Receiver operating characteristic (ROC) Curve')\n",
    "plt.legend(loc=\"lower right\")\n",
    "plt.show()"
   ]
  },
  {
   "cell_type": "markdown",
   "metadata": {},
   "source": [
    "# Random Forest Models"
   ]
  },
  {
   "cell_type": "markdown",
   "metadata": {},
   "source": [
    "## RF Model #1"
   ]
  },
  {
   "cell_type": "markdown",
   "metadata": {},
   "source": [
    "- started with same DF as LR model #2\n",
    "- SMOTE after train-test split"
   ]
  },
  {
   "cell_type": "code",
   "execution_count": 60,
   "metadata": {},
   "outputs": [],
   "source": [
    "RF_data = df_2.copy()\n",
    "\n",
    "RF_X = RF_data.drop(['claim_ind'], axis=1)\n",
    "RF_y = RF_data.claim_ind"
   ]
  },
  {
   "cell_type": "code",
   "execution_count": 61,
   "metadata": {},
   "outputs": [],
   "source": [
    "RF_data_train, RF_data_test, RF_target_train, RF_target_test = train_test_split(RF_X, RF_y, test_size = 0.3, random_state=42) \n"
   ]
  },
  {
   "cell_type": "code",
   "execution_count": 62,
   "metadata": {},
   "outputs": [
    {
     "data": {
      "text/plain": [
       "0    17009\n",
       "1     1276\n",
       "Name: claim_ind, dtype: int64"
      ]
     },
     "execution_count": 62,
     "metadata": {},
     "output_type": "execute_result"
    }
   ],
   "source": [
    "RF_target_test.value_counts()"
   ]
  },
  {
   "cell_type": "code",
   "execution_count": 109,
   "metadata": {},
   "outputs": [],
   "source": [
    "# complete SMOTE on train sample only\n",
    "RF_X_train_SMOTE, RF_y_train_SMOTE = SMOTE().fit_sample(RF_data_train, RF_target_train)"
   ]
  },
  {
   "cell_type": "code",
   "execution_count": 110,
   "metadata": {},
   "outputs": [
    {
     "data": {
      "text/plain": [
       "1    39778\n",
       "0    39778\n",
       "dtype: int64"
      ]
     },
     "execution_count": 110,
     "metadata": {},
     "output_type": "execute_result"
    }
   ],
   "source": [
    "pd.Series(RF_y_train_SMOTE).value_counts()"
   ]
  },
  {
   "cell_type": "code",
   "execution_count": 111,
   "metadata": {
    "scrolled": true
   },
   "outputs": [
    {
     "data": {
      "text/plain": [
       "RandomForestClassifier(bootstrap=True, class_weight=None, criterion='gini',\n",
       "            max_depth=5, max_features='auto', max_leaf_nodes=None,\n",
       "            min_impurity_decrease=0.0, min_impurity_split=None,\n",
       "            min_samples_leaf=1, min_samples_split=2,\n",
       "            min_weight_fraction_leaf=0.0, n_estimators=100, n_jobs=None,\n",
       "            oob_score=False, random_state=None, verbose=0,\n",
       "            warm_start=False)"
      ]
     },
     "execution_count": 111,
     "metadata": {},
     "output_type": "execute_result"
    }
   ],
   "source": [
    "forest = RandomForestClassifier(n_estimators=100, max_depth= 5)\n",
    "forest.fit(RF_X_train_SMOTE, RF_y_train_SMOTE)"
   ]
  },
  {
   "cell_type": "code",
   "execution_count": 112,
   "metadata": {},
   "outputs": [
    {
     "name": "stdout",
     "output_type": "stream",
     "text": [
      "1.0\n",
      "[[17009     0]\n",
      " [    0  1276]]\n",
      "              precision    recall  f1-score   support\n",
      "\n",
      "           0       1.00      1.00      1.00     17009\n",
      "           1       1.00      1.00      1.00      1276\n",
      "\n",
      "   micro avg       1.00      1.00      1.00     18285\n",
      "   macro avg       1.00      1.00      1.00     18285\n",
      "weighted avg       1.00      1.00      1.00     18285\n",
      "\n"
     ]
    }
   ],
   "source": [
    "pred_1 = forest.predict(RF_data_test)\n",
    "\n",
    "print(accuracy_score(RF_target_test, pred_1))\n",
    "print(confusion_matrix(RF_target_test, pred_1))\n",
    "print(classification_report(RF_target_test, pred_1))"
   ]
  },
  {
   "cell_type": "code",
   "execution_count": 113,
   "metadata": {},
   "outputs": [
    {
     "data": {
      "image/png": "[encoded data removed]",
      "text/plain": [
       "<Figure size 576x576 with 1 Axes>"
      ]
     },
     "metadata": {},
     "output_type": "display_data"
    }
   ],
   "source": [
    "def plot_feature_importances(model,training_feature_data):\n",
    "    n_features = training_feature_data.shape[1]\n",
    "    plt.figure(figsize=(8,8))\n",
    "    plt.barh(range(n_features), model.feature_importances_, align='center') \n",
    "    plt.yticks(np.arange(n_features), training_feature_data.columns.values) \n",
    "    plt.xlabel(\"Feature importance\")\n",
    "    plt.ylabel(\"Feature\")\n",
    "plot_feature_importances(forest, RF_data_train)"
   ]
  },
  {
   "cell_type": "markdown",
   "metadata": {},
   "source": [
    "num_claims is clearly distorting things in the model.  Claim_amt was removed due to its correlation with num_claims but it looks like they both need to be removed. "
   ]
  },
  {
   "cell_type": "markdown",
   "metadata": {},
   "source": [
    "Lets remove num_claims and run Random Forest again."
   ]
  },
  {
   "cell_type": "markdown",
   "metadata": {},
   "source": [
    "## RF Model #2"
   ]
  },
  {
   "cell_type": "markdown",
   "metadata": {},
   "source": [
    "- same as #1 except removed num_claims"
   ]
  },
  {
   "cell_type": "code",
   "execution_count": 114,
   "metadata": {},
   "outputs": [],
   "source": [
    "# create new dataFrame object and drop num_claims\n",
    "RF_data_2 = df_2.copy().drop('num_claims', axis=1)"
   ]
  },
  {
   "cell_type": "code",
   "execution_count": 115,
   "metadata": {},
   "outputs": [
    {
     "data": {
      "text/html": [
       "<div>\n",
       "<style scoped>\n",
       "    .dataframe tbody tr th:only-of-type {\n",
       "        vertical-align: middle;\n",
       "    }\n",
       "\n",
       "    .dataframe tbody tr th {\n",
       "        vertical-align: top;\n",
       "    }\n",
       "\n",
       "    .dataframe thead th {\n",
       "        text-align: right;\n",
       "    }\n",
       "</style>\n",
       "<table border=\"1\" class=\"dataframe\">\n",
       "  <thead>\n",
       "    <tr style=\"text-align: right;\">\n",
       "      <th></th>\n",
       "      <th>agecat</th>\n",
       "      <th>traffic_index</th>\n",
       "      <th>veh_value</th>\n",
       "      <th>veh_ageIndex</th>\n",
       "      <th>credit_score</th>\n",
       "      <th>gender_F</th>\n",
       "      <th>gender_M</th>\n",
       "      <th>area_A</th>\n",
       "      <th>area_B</th>\n",
       "      <th>area_C</th>\n",
       "      <th>area_D</th>\n",
       "      <th>area_E</th>\n",
       "      <th>area_F</th>\n",
       "      <th>veh_body2_COUPE</th>\n",
       "      <th>veh_body2_HBACK</th>\n",
       "      <th>veh_body2_HDTOP</th>\n",
       "      <th>veh_body2_MIBUS</th>\n",
       "      <th>veh_body2_PANVN</th>\n",
       "      <th>veh_body2_SEDAN</th>\n",
       "      <th>veh_body2_STNWG</th>\n",
       "      <th>veh_body2_TRUCK</th>\n",
       "      <th>veh_body2_UTE</th>\n",
       "      <th>claim_ind</th>\n",
       "    </tr>\n",
       "  </thead>\n",
       "  <tbody>\n",
       "    <tr>\n",
       "      <th>0</th>\n",
       "      <td>0.361650</td>\n",
       "      <td>-0.183470</td>\n",
       "      <td>-0.377060</td>\n",
       "      <td>1.431967</td>\n",
       "      <td>-1.123803</td>\n",
       "      <td>0</td>\n",
       "      <td>1</td>\n",
       "      <td>0</td>\n",
       "      <td>0</td>\n",
       "      <td>1</td>\n",
       "      <td>0</td>\n",
       "      <td>0</td>\n",
       "      <td>0</td>\n",
       "      <td>0</td>\n",
       "      <td>0</td>\n",
       "      <td>0</td>\n",
       "      <td>0</td>\n",
       "      <td>0</td>\n",
       "      <td>0</td>\n",
       "      <td>1</td>\n",
       "      <td>0</td>\n",
       "      <td>0</td>\n",
       "      <td>0</td>\n",
       "    </tr>\n",
       "    <tr>\n",
       "      <th>1</th>\n",
       "      <td>-0.340432</td>\n",
       "      <td>0.289758</td>\n",
       "      <td>-0.794601</td>\n",
       "      <td>1.431967</td>\n",
       "      <td>0.388199</td>\n",
       "      <td>0</td>\n",
       "      <td>1</td>\n",
       "      <td>0</td>\n",
       "      <td>0</td>\n",
       "      <td>1</td>\n",
       "      <td>0</td>\n",
       "      <td>0</td>\n",
       "      <td>0</td>\n",
       "      <td>0</td>\n",
       "      <td>0</td>\n",
       "      <td>0</td>\n",
       "      <td>0</td>\n",
       "      <td>0</td>\n",
       "      <td>1</td>\n",
       "      <td>0</td>\n",
       "      <td>0</td>\n",
       "      <td>0</td>\n",
       "      <td>0</td>\n",
       "    </tr>\n",
       "    <tr>\n",
       "      <th>2</th>\n",
       "      <td>1.063732</td>\n",
       "      <td>0.037370</td>\n",
       "      <td>-0.459008</td>\n",
       "      <td>0.437227</td>\n",
       "      <td>-0.197092</td>\n",
       "      <td>0</td>\n",
       "      <td>1</td>\n",
       "      <td>1</td>\n",
       "      <td>0</td>\n",
       "      <td>0</td>\n",
       "      <td>0</td>\n",
       "      <td>0</td>\n",
       "      <td>0</td>\n",
       "      <td>0</td>\n",
       "      <td>0</td>\n",
       "      <td>0</td>\n",
       "      <td>0</td>\n",
       "      <td>0</td>\n",
       "      <td>1</td>\n",
       "      <td>0</td>\n",
       "      <td>0</td>\n",
       "      <td>0</td>\n",
       "      <td>0</td>\n",
       "    </tr>\n",
       "    <tr>\n",
       "      <th>3</th>\n",
       "      <td>-0.340432</td>\n",
       "      <td>-0.688247</td>\n",
       "      <td>-0.392669</td>\n",
       "      <td>0.437227</td>\n",
       "      <td>0.290651</td>\n",
       "      <td>0</td>\n",
       "      <td>1</td>\n",
       "      <td>0</td>\n",
       "      <td>1</td>\n",
       "      <td>0</td>\n",
       "      <td>0</td>\n",
       "      <td>0</td>\n",
       "      <td>0</td>\n",
       "      <td>0</td>\n",
       "      <td>0</td>\n",
       "      <td>0</td>\n",
       "      <td>0</td>\n",
       "      <td>0</td>\n",
       "      <td>0</td>\n",
       "      <td>0</td>\n",
       "      <td>0</td>\n",
       "      <td>1</td>\n",
       "      <td>0</td>\n",
       "    </tr>\n",
       "    <tr>\n",
       "      <th>4</th>\n",
       "      <td>-1.042514</td>\n",
       "      <td>0.037370</td>\n",
       "      <td>-0.115610</td>\n",
       "      <td>1.431967</td>\n",
       "      <td>0.632070</td>\n",
       "      <td>0</td>\n",
       "      <td>1</td>\n",
       "      <td>0</td>\n",
       "      <td>0</td>\n",
       "      <td>0</td>\n",
       "      <td>1</td>\n",
       "      <td>0</td>\n",
       "      <td>0</td>\n",
       "      <td>0</td>\n",
       "      <td>0</td>\n",
       "      <td>0</td>\n",
       "      <td>0</td>\n",
       "      <td>0</td>\n",
       "      <td>0</td>\n",
       "      <td>1</td>\n",
       "      <td>0</td>\n",
       "      <td>0</td>\n",
       "      <td>0</td>\n",
       "    </tr>\n",
       "  </tbody>\n",
       "</table>\n",
       "</div>"
      ],
      "text/plain": [
       "     agecat  traffic_index  veh_value  veh_ageIndex  credit_score  gender_F  \\\n",
       "0  0.361650      -0.183470  -0.377060      1.431967     -1.123803         0   \n",
       "1 -0.340432       0.289758  -0.794601      1.431967      0.388199         0   \n",
       "2  1.063732       0.037370  -0.459008      0.437227     -0.197092         0   \n",
       "3 -0.340432      -0.688247  -0.392669      0.437227      0.290651         0   \n",
       "4 -1.042514       0.037370  -0.115610      1.431967      0.632070         0   \n",
       "\n",
       "   gender_M  area_A  area_B  area_C  area_D  area_E  area_F  veh_body2_COUPE  \\\n",
       "0         1       0       0       1       0       0       0                0   \n",
       "1         1       0       0       1       0       0       0                0   \n",
       "2         1       1       0       0       0       0       0                0   \n",
       "3         1       0       1       0       0       0       0                0   \n",
       "4         1       0       0       0       1       0       0                0   \n",
       "\n",
       "   veh_body2_HBACK  veh_body2_HDTOP  veh_body2_MIBUS  veh_body2_PANVN  \\\n",
       "0                0                0                0                0   \n",
       "1                0                0                0                0   \n",
       "2                0                0                0                0   \n",
       "3                0                0                0                0   \n",
       "4                0                0                0                0   \n",
       "\n",
       "   veh_body2_SEDAN  veh_body2_STNWG  veh_body2_TRUCK  veh_body2_UTE claim_ind  \n",
       "0                0                1                0              0         0  \n",
       "1                1                0                0              0         0  \n",
       "2                1                0                0              0         0  \n",
       "3                0                0                0              1         0  \n",
       "4                0                1                0              0         0  "
      ]
     },
     "execution_count": 115,
     "metadata": {},
     "output_type": "execute_result"
    }
   ],
   "source": [
    "RF_data_2.head()"
   ]
  },
  {
   "cell_type": "code",
   "execution_count": 116,
   "metadata": {},
   "outputs": [],
   "source": [
    "# define predictor set and target series\n",
    "RF_X_2 = RF_data_2.drop(['claim_ind'], axis=1)\n",
    "RF_y_2 = RF_data_2.claim_ind\n",
    "\n",
    "# split data into train and test sets\n",
    "RF_data_train_2, RF_data_test_2, RF_target_train_2, RF_target_test_2 = train_test_split(RF_X_2, RF_y_2, test_size = 0.3, \n",
    "                                                                                        random_state=42) \n",
    "# run SMOTE (on train sample only and after train-test split)\n",
    "RF_X_train_SMOTE_2, RF_y_train_SMOTE_2 = SMOTE().fit_sample(RF_data_train_2, RF_target_train_2)\n",
    "\n",
    "# create a random forest classifier object\n",
    "forest_2 = RandomForestClassifier(n_estimators=100, max_depth= 5)\n",
    "# fit the classification model\n",
    "forest_2.fit(RF_X_train_SMOTE_2, RF_y_train_SMOTE_2)\n",
    "\n",
    "# generate predictions off test data\n",
    "pred_2 = forest_2.predict(RF_data_test_2)\n",
    "\n"
   ]
  },
  {
   "cell_type": "code",
   "execution_count": 117,
   "metadata": {},
   "outputs": [
    {
     "name": "stdout",
     "output_type": "stream",
     "text": [
      " Accuracy RF model #2: 0.6237353021602406\n",
      "[[10916  6093]\n",
      " [  787   489]]\n",
      "              precision    recall  f1-score   support\n",
      "\n",
      "           0       0.93      0.64      0.76     17009\n",
      "           1       0.07      0.38      0.12      1276\n",
      "\n",
      "   micro avg       0.62      0.62      0.62     18285\n",
      "   macro avg       0.50      0.51      0.44     18285\n",
      "weighted avg       0.87      0.62      0.72     18285\n",
      "\n"
     ]
    }
   ],
   "source": [
    "print(f\" Accuracy RF model #2: {accuracy_score(RF_target_test_2, pred_2 )}\")\n",
    "pred_2 = forest_2.predict(RF_data_test_2)\n",
    "print(confusion_matrix(RF_target_test_2, pred_2))\n",
    "print(classification_report(RF_target_test_2, pred_2))"
   ]
  },
  {
   "cell_type": "code",
   "execution_count": 118,
   "metadata": {
    "scrolled": false
   },
   "outputs": [
    {
     "data": {
      "image/png": "[encoded data removed]",
      "text/plain": [
       "<Figure size 576x576 with 1 Axes>"
      ]
     },
     "metadata": {},
     "output_type": "display_data"
    }
   ],
   "source": [
    "def plot_feature_importances(model,training_feature_data):\n",
    "    n_features = training_feature_data.shape[1]\n",
    "    plt.figure(figsize=(8,8))\n",
    "    plt.barh(range(n_features), model.feature_importances_, align='center') \n",
    "    plt.yticks(np.arange(n_features), training_feature_data.columns.values) \n",
    "    plt.xlabel(\"Feature importance\")\n",
    "    plt.ylabel(\"Feature\")\n",
    "\n",
    "plot_feature_importances(forest_2, RF_data_train_2)"
   ]
  },
  {
   "cell_type": "markdown",
   "metadata": {},
   "source": [
    "Running the Random Forest model without the num_claims feature helped to get realistic results.  \n",
    "The findings seem to be split into two clear categories, those that are useful and those that are not.  I am surprised that vehicle body type and gender do not play a larger role.  \n",
    "Lets keep only the features with an importance equal to or greater than 0.05 and run the model again."
   ]
  },
  {
   "cell_type": "markdown",
   "metadata": {},
   "source": [
    "## RF Model #3"
   ]
  },
  {
   "cell_type": "markdown",
   "metadata": {},
   "source": [
    "- remove features with importance of < 0.05"
   ]
  },
  {
   "cell_type": "code",
   "execution_count": 119,
   "metadata": {},
   "outputs": [],
   "source": [
    "# create new dataFrame object with credit_score, veh_ageindex, veh_value, traffic_index, agecat\n",
    "import copy # using the python copy.deepcopy will let me use the DataFrame as an attribute, which will let me call the features\n",
    "              # I want to keep (5 ttl) instead of using pandas .copy() and dropping 17 features; just a little time savings.\n",
    "    \n",
    "RF_data_3 = copy.deepcopy(RF_data_2[['credit_score', 'veh_ageIndex', 'veh_value', 'traffic_index', 'agecat']])"
   ]
  },
  {
   "cell_type": "code",
   "execution_count": 120,
   "metadata": {},
   "outputs": [
    {
     "data": {
      "text/html": [
       "<div>\n",
       "<style scoped>\n",
       "    .dataframe tbody tr th:only-of-type {\n",
       "        vertical-align: middle;\n",
       "    }\n",
       "\n",
       "    .dataframe tbody tr th {\n",
       "        vertical-align: top;\n",
       "    }\n",
       "\n",
       "    .dataframe thead th {\n",
       "        text-align: right;\n",
       "    }\n",
       "</style>\n",
       "<table border=\"1\" class=\"dataframe\">\n",
       "  <thead>\n",
       "    <tr style=\"text-align: right;\">\n",
       "      <th></th>\n",
       "      <th>credit_score</th>\n",
       "      <th>veh_ageIndex</th>\n",
       "      <th>veh_value</th>\n",
       "      <th>traffic_index</th>\n",
       "      <th>agecat</th>\n",
       "    </tr>\n",
       "  </thead>\n",
       "  <tbody>\n",
       "    <tr>\n",
       "      <th>0</th>\n",
       "      <td>-1.123803</td>\n",
       "      <td>1.431967</td>\n",
       "      <td>-0.377060</td>\n",
       "      <td>-0.183470</td>\n",
       "      <td>0.361650</td>\n",
       "    </tr>\n",
       "    <tr>\n",
       "      <th>1</th>\n",
       "      <td>0.388199</td>\n",
       "      <td>1.431967</td>\n",
       "      <td>-0.794601</td>\n",
       "      <td>0.289758</td>\n",
       "      <td>-0.340432</td>\n",
       "    </tr>\n",
       "    <tr>\n",
       "      <th>2</th>\n",
       "      <td>-0.197092</td>\n",
       "      <td>0.437227</td>\n",
       "      <td>-0.459008</td>\n",
       "      <td>0.037370</td>\n",
       "      <td>1.063732</td>\n",
       "    </tr>\n",
       "    <tr>\n",
       "      <th>3</th>\n",
       "      <td>0.290651</td>\n",
       "      <td>0.437227</td>\n",
       "      <td>-0.392669</td>\n",
       "      <td>-0.688247</td>\n",
       "      <td>-0.340432</td>\n",
       "    </tr>\n",
       "    <tr>\n",
       "      <th>4</th>\n",
       "      <td>0.632070</td>\n",
       "      <td>1.431967</td>\n",
       "      <td>-0.115610</td>\n",
       "      <td>0.037370</td>\n",
       "      <td>-1.042514</td>\n",
       "    </tr>\n",
       "  </tbody>\n",
       "</table>\n",
       "</div>"
      ],
      "text/plain": [
       "   credit_score  veh_ageIndex  veh_value  traffic_index    agecat\n",
       "0     -1.123803      1.431967  -0.377060      -0.183470  0.361650\n",
       "1      0.388199      1.431967  -0.794601       0.289758 -0.340432\n",
       "2     -0.197092      0.437227  -0.459008       0.037370  1.063732\n",
       "3      0.290651      0.437227  -0.392669      -0.688247 -0.340432\n",
       "4      0.632070      1.431967  -0.115610       0.037370 -1.042514"
      ]
     },
     "execution_count": 120,
     "metadata": {},
     "output_type": "execute_result"
    }
   ],
   "source": [
    "RF_data_3.head()"
   ]
  },
  {
   "cell_type": "code",
   "execution_count": 121,
   "metadata": {},
   "outputs": [],
   "source": [
    "# define predictor set and target series\n",
    "RF_X_3 = RF_data_3\n",
    "RF_y_3 = RF_y_2\n",
    "\n",
    "# split data into train and test sets\n",
    "RF_data_train_3, RF_data_test_3, RF_target_train_3, RF_target_test_3 = train_test_split(RF_X_3, RF_y_3, test_size = 0.3, \n",
    "                                                                                        random_state=42) \n",
    "RF_X_train_SMOTE_3, RF_y_train_SMOTE_3 = SMOTE().fit_sample(RF_data_train_3, RF_target_train_3)\n",
    "\n",
    "# create a random forest classifier object\n",
    "forest_3 = RandomForestClassifier(n_estimators=100, max_depth= 5)\n",
    "\n",
    "# fit the model\n",
    "forest_3.fit(RF_X_train_SMOTE_3, RF_y_train_SMOTE_3)\n",
    "\n",
    "# generate predictions\n",
    "pred_3 = forest_3.predict(RF_data_test_3)\n",
    "\n"
   ]
  },
  {
   "cell_type": "code",
   "execution_count": 122,
   "metadata": {},
   "outputs": [
    {
     "name": "stdout",
     "output_type": "stream",
     "text": [
      " Accuracy RF model #3: 0.6237353021602406\n",
      "[[10483  6526]\n",
      " [  749   527]]\n",
      "              precision    recall  f1-score   support\n",
      "\n",
      "           0       0.93      0.62      0.74     17009\n",
      "           1       0.07      0.41      0.13      1276\n",
      "\n",
      "   micro avg       0.60      0.60      0.60     18285\n",
      "   macro avg       0.50      0.51      0.43     18285\n",
      "weighted avg       0.87      0.60      0.70     18285\n",
      "\n"
     ]
    }
   ],
   "source": [
    "print(f\" Accuracy RF model #3: {accuracy_score(RF_target_test_3, pred_2 )}\")\n",
    "pred_3 = forest_3.predict(RF_data_test_3)\n",
    "print(confusion_matrix(RF_target_test_3, pred_3))\n",
    "print(classification_report(RF_target_test_3, pred_3))"
   ]
  },
  {
   "cell_type": "code",
   "execution_count": 123,
   "metadata": {},
   "outputs": [
    {
     "data": {
      "image/png": "[encoded data removed]",
      "text/plain": [
       "<Figure size 576x576 with 1 Axes>"
      ]
     },
     "metadata": {},
     "output_type": "display_data"
    }
   ],
   "source": [
    "def plot_feature_importances(model,training_feature_data):\n",
    "    n_features = training_feature_data.shape[1]\n",
    "    plt.figure(figsize=(8,8))\n",
    "    plt.barh(range(n_features), model.feature_importances_, align='center') \n",
    "    plt.yticks(np.arange(n_features), training_feature_data.columns.values) \n",
    "    plt.xlabel(\"Feature importance\")\n",
    "    plt.ylabel(\"Feature\")\n",
    "\n",
    "plot_feature_importances(forest_3, RF_data_train_3)"
   ]
  },
  {
   "cell_type": "code",
   "execution_count": 124,
   "metadata": {},
   "outputs": [
    {
     "data": {
      "text/plain": [
       "<matplotlib.colorbar.Colorbar at 0x278836ff908>"
      ]
     },
     "execution_count": 124,
     "metadata": {},
     "output_type": "execute_result"
    },
    {
     "data": {
      "image/png": "[encoded data removed]",
      "text/plain": [
       "<Figure size 432x288 with 2 Axes>"
      ]
     },
     "metadata": {},
     "output_type": "display_data"
    }
   ],
   "source": [
    "cnf_matrix = (confusion_matrix(RF_target_test_3, pred_3))\n",
    "\n",
    "plt.imshow(cnf_matrix,  cmap=plt.cm.Blues) #Create the basic matrix.\n",
    "\n",
    "#Add title and Axis Labels\n",
    "plt.title('Confusion Matrix')\n",
    "plt.ylabel('True label')\n",
    "plt.xlabel('Predicted label')\n",
    "\n",
    "#Add appropriate Axis Scales\n",
    "class_names = set(y) #Get class labels to add to matrix\n",
    "tick_marks = np.arange(len(class_names))\n",
    "plt.xticks(tick_marks, class_names, rotation=45)\n",
    "plt.yticks(tick_marks, class_names)\n",
    "\n",
    "#Add Labels to Each Cell\n",
    "thresh = cnf_matrix.max() / 2. #Used for text coloring below\n",
    "#Here we iterate through the confusion matrix and append labels to our visualization.\n",
    "for i, j in itertools.product(range(cnf_matrix.shape[0]), range(cnf_matrix.shape[1])):\n",
    "        plt.text(j, i, cnf_matrix[i, j],\n",
    "                 horizontalalignment=\"center\",\n",
    "                 color=\"white\" if cnf_matrix[i, j] > thresh else \"black\")\n",
    "\n",
    "#Add a Side Bar Legend Showing Colors\n",
    "plt.colorbar()"
   ]
  },
  {
   "cell_type": "markdown",
   "metadata": {},
   "source": [
    "# XGBoost"
   ]
  },
  {
   "cell_type": "code",
   "execution_count": 81,
   "metadata": {},
   "outputs": [],
   "source": [
    "import xgboost as xgb"
   ]
  },
  {
   "cell_type": "code",
   "execution_count": 127,
   "metadata": {},
   "outputs": [],
   "source": [
    "\n",
    "\n",
    "# define X and y\n",
    "boost_X = RF_X_2.copy()\n",
    "boost_y = RF_y_2.copy()\n",
    "\n",
    "# train-test split\n",
    "X_train_boost, X_test_boost, y_train_boost, y_test_boost = train_test_split(boost_X, boost_y,  test_size = 0.3, \n",
    "                                                                                        random_state=42)"
   ]
  },
  {
   "cell_type": "code",
   "execution_count": 130,
   "metadata": {},
   "outputs": [
    {
     "data": {
      "text/html": [
       "<div>\n",
       "<style scoped>\n",
       "    .dataframe tbody tr th:only-of-type {\n",
       "        vertical-align: middle;\n",
       "    }\n",
       "\n",
       "    .dataframe tbody tr th {\n",
       "        vertical-align: top;\n",
       "    }\n",
       "\n",
       "    .dataframe thead th {\n",
       "        text-align: right;\n",
       "    }\n",
       "</style>\n",
       "<table border=\"1\" class=\"dataframe\">\n",
       "  <thead>\n",
       "    <tr style=\"text-align: right;\">\n",
       "      <th></th>\n",
       "      <th>agecat</th>\n",
       "      <th>traffic_index</th>\n",
       "      <th>veh_value</th>\n",
       "      <th>veh_ageIndex</th>\n",
       "      <th>credit_score</th>\n",
       "      <th>gender_F</th>\n",
       "      <th>gender_M</th>\n",
       "      <th>area_A</th>\n",
       "      <th>area_B</th>\n",
       "      <th>area_C</th>\n",
       "      <th>area_D</th>\n",
       "      <th>area_E</th>\n",
       "      <th>area_F</th>\n",
       "      <th>veh_body2_COUPE</th>\n",
       "      <th>veh_body2_HBACK</th>\n",
       "      <th>veh_body2_HDTOP</th>\n",
       "      <th>veh_body2_MIBUS</th>\n",
       "      <th>veh_body2_PANVN</th>\n",
       "      <th>veh_body2_SEDAN</th>\n",
       "      <th>veh_body2_STNWG</th>\n",
       "      <th>veh_body2_TRUCK</th>\n",
       "      <th>veh_body2_UTE</th>\n",
       "    </tr>\n",
       "  </thead>\n",
       "  <tbody>\n",
       "    <tr>\n",
       "      <th>0</th>\n",
       "      <td>0.361650</td>\n",
       "      <td>-0.183470</td>\n",
       "      <td>-0.377060</td>\n",
       "      <td>1.431967</td>\n",
       "      <td>-1.123803</td>\n",
       "      <td>0</td>\n",
       "      <td>1</td>\n",
       "      <td>0</td>\n",
       "      <td>0</td>\n",
       "      <td>1</td>\n",
       "      <td>0</td>\n",
       "      <td>0</td>\n",
       "      <td>0</td>\n",
       "      <td>0</td>\n",
       "      <td>0</td>\n",
       "      <td>0</td>\n",
       "      <td>0</td>\n",
       "      <td>0</td>\n",
       "      <td>0</td>\n",
       "      <td>1</td>\n",
       "      <td>0</td>\n",
       "      <td>0</td>\n",
       "    </tr>\n",
       "    <tr>\n",
       "      <th>1</th>\n",
       "      <td>-0.340432</td>\n",
       "      <td>0.289758</td>\n",
       "      <td>-0.794601</td>\n",
       "      <td>1.431967</td>\n",
       "      <td>0.388199</td>\n",
       "      <td>0</td>\n",
       "      <td>1</td>\n",
       "      <td>0</td>\n",
       "      <td>0</td>\n",
       "      <td>1</td>\n",
       "      <td>0</td>\n",
       "      <td>0</td>\n",
       "      <td>0</td>\n",
       "      <td>0</td>\n",
       "      <td>0</td>\n",
       "      <td>0</td>\n",
       "      <td>0</td>\n",
       "      <td>0</td>\n",
       "      <td>1</td>\n",
       "      <td>0</td>\n",
       "      <td>0</td>\n",
       "      <td>0</td>\n",
       "    </tr>\n",
       "    <tr>\n",
       "      <th>2</th>\n",
       "      <td>1.063732</td>\n",
       "      <td>0.037370</td>\n",
       "      <td>-0.459008</td>\n",
       "      <td>0.437227</td>\n",
       "      <td>-0.197092</td>\n",
       "      <td>0</td>\n",
       "      <td>1</td>\n",
       "      <td>1</td>\n",
       "      <td>0</td>\n",
       "      <td>0</td>\n",
       "      <td>0</td>\n",
       "      <td>0</td>\n",
       "      <td>0</td>\n",
       "      <td>0</td>\n",
       "      <td>0</td>\n",
       "      <td>0</td>\n",
       "      <td>0</td>\n",
       "      <td>0</td>\n",
       "      <td>1</td>\n",
       "      <td>0</td>\n",
       "      <td>0</td>\n",
       "      <td>0</td>\n",
       "    </tr>\n",
       "    <tr>\n",
       "      <th>3</th>\n",
       "      <td>-0.340432</td>\n",
       "      <td>-0.688247</td>\n",
       "      <td>-0.392669</td>\n",
       "      <td>0.437227</td>\n",
       "      <td>0.290651</td>\n",
       "      <td>0</td>\n",
       "      <td>1</td>\n",
       "      <td>0</td>\n",
       "      <td>1</td>\n",
       "      <td>0</td>\n",
       "      <td>0</td>\n",
       "      <td>0</td>\n",
       "      <td>0</td>\n",
       "      <td>0</td>\n",
       "      <td>0</td>\n",
       "      <td>0</td>\n",
       "      <td>0</td>\n",
       "      <td>0</td>\n",
       "      <td>0</td>\n",
       "      <td>0</td>\n",
       "      <td>0</td>\n",
       "      <td>1</td>\n",
       "    </tr>\n",
       "    <tr>\n",
       "      <th>4</th>\n",
       "      <td>-1.042514</td>\n",
       "      <td>0.037370</td>\n",
       "      <td>-0.115610</td>\n",
       "      <td>1.431967</td>\n",
       "      <td>0.632070</td>\n",
       "      <td>0</td>\n",
       "      <td>1</td>\n",
       "      <td>0</td>\n",
       "      <td>0</td>\n",
       "      <td>0</td>\n",
       "      <td>1</td>\n",
       "      <td>0</td>\n",
       "      <td>0</td>\n",
       "      <td>0</td>\n",
       "      <td>0</td>\n",
       "      <td>0</td>\n",
       "      <td>0</td>\n",
       "      <td>0</td>\n",
       "      <td>0</td>\n",
       "      <td>1</td>\n",
       "      <td>0</td>\n",
       "      <td>0</td>\n",
       "    </tr>\n",
       "  </tbody>\n",
       "</table>\n",
       "</div>"
      ],
      "text/plain": [
       "     agecat  traffic_index  veh_value  veh_ageIndex  credit_score  gender_F  \\\n",
       "0  0.361650      -0.183470  -0.377060      1.431967     -1.123803         0   \n",
       "1 -0.340432       0.289758  -0.794601      1.431967      0.388199         0   \n",
       "2  1.063732       0.037370  -0.459008      0.437227     -0.197092         0   \n",
       "3 -0.340432      -0.688247  -0.392669      0.437227      0.290651         0   \n",
       "4 -1.042514       0.037370  -0.115610      1.431967      0.632070         0   \n",
       "\n",
       "   gender_M  area_A  area_B  area_C  area_D  area_E  area_F  veh_body2_COUPE  \\\n",
       "0         1       0       0       1       0       0       0                0   \n",
       "1         1       0       0       1       0       0       0                0   \n",
       "2         1       1       0       0       0       0       0                0   \n",
       "3         1       0       1       0       0       0       0                0   \n",
       "4         1       0       0       0       1       0       0                0   \n",
       "\n",
       "   veh_body2_HBACK  veh_body2_HDTOP  veh_body2_MIBUS  veh_body2_PANVN  \\\n",
       "0                0                0                0                0   \n",
       "1                0                0                0                0   \n",
       "2                0                0                0                0   \n",
       "3                0                0                0                0   \n",
       "4                0                0                0                0   \n",
       "\n",
       "   veh_body2_SEDAN  veh_body2_STNWG  veh_body2_TRUCK  veh_body2_UTE  \n",
       "0                0                1                0              0  \n",
       "1                1                0                0              0  \n",
       "2                1                0                0              0  \n",
       "3                0                0                0              1  \n",
       "4                0                1                0              0  "
      ]
     },
     "execution_count": 130,
     "metadata": {},
     "output_type": "execute_result"
    }
   ],
   "source": [
    "boost_X.head()"
   ]
  },
  {
   "cell_type": "code",
   "execution_count": 132,
   "metadata": {},
   "outputs": [
    {
     "data": {
      "text/plain": [
       "0    0\n",
       "1    0\n",
       "2    0\n",
       "3    0\n",
       "4    0\n",
       "Name: claim_ind, dtype: category\n",
       "Categories (2, int64): [0, 1]"
      ]
     },
     "execution_count": 132,
     "metadata": {},
     "output_type": "execute_result"
    }
   ],
   "source": [
    "boost_y.head()"
   ]
  },
  {
   "cell_type": "code",
   "execution_count": 133,
   "metadata": {},
   "outputs": [
    {
     "data": {
      "text/html": [
       "<div>\n",
       "<style scoped>\n",
       "    .dataframe tbody tr th:only-of-type {\n",
       "        vertical-align: middle;\n",
       "    }\n",
       "\n",
       "    .dataframe tbody tr th {\n",
       "        vertical-align: top;\n",
       "    }\n",
       "\n",
       "    .dataframe thead th {\n",
       "        text-align: right;\n",
       "    }\n",
       "</style>\n",
       "<table border=\"1\" class=\"dataframe\">\n",
       "  <thead>\n",
       "    <tr style=\"text-align: right;\">\n",
       "      <th></th>\n",
       "      <th>agecat</th>\n",
       "      <th>traffic_index</th>\n",
       "      <th>veh_value</th>\n",
       "      <th>veh_ageIndex</th>\n",
       "      <th>credit_score</th>\n",
       "      <th>gender_F</th>\n",
       "      <th>gender_M</th>\n",
       "      <th>area_A</th>\n",
       "      <th>area_B</th>\n",
       "      <th>area_C</th>\n",
       "      <th>area_D</th>\n",
       "      <th>area_E</th>\n",
       "      <th>area_F</th>\n",
       "      <th>veh_body2_COUPE</th>\n",
       "      <th>veh_body2_HBACK</th>\n",
       "      <th>veh_body2_HDTOP</th>\n",
       "      <th>veh_body2_MIBUS</th>\n",
       "      <th>veh_body2_PANVN</th>\n",
       "      <th>veh_body2_SEDAN</th>\n",
       "      <th>veh_body2_STNWG</th>\n",
       "      <th>veh_body2_TRUCK</th>\n",
       "      <th>veh_body2_UTE</th>\n",
       "    </tr>\n",
       "  </thead>\n",
       "  <tbody>\n",
       "    <tr>\n",
       "      <th>39967</th>\n",
       "      <td>-1.744595</td>\n",
       "      <td>-0.467407</td>\n",
       "      <td>0.024871</td>\n",
       "      <td>1.431967</td>\n",
       "      <td>0.778393</td>\n",
       "      <td>1</td>\n",
       "      <td>0</td>\n",
       "      <td>0</td>\n",
       "      <td>1</td>\n",
       "      <td>0</td>\n",
       "      <td>0</td>\n",
       "      <td>0</td>\n",
       "      <td>0</td>\n",
       "      <td>0</td>\n",
       "      <td>0</td>\n",
       "      <td>0</td>\n",
       "      <td>0</td>\n",
       "      <td>0</td>\n",
       "      <td>0</td>\n",
       "      <td>1</td>\n",
       "      <td>0</td>\n",
       "      <td>0</td>\n",
       "    </tr>\n",
       "    <tr>\n",
       "      <th>53010</th>\n",
       "      <td>1.063732</td>\n",
       "      <td>0.037370</td>\n",
       "      <td>-0.213166</td>\n",
       "      <td>-1.552254</td>\n",
       "      <td>0.875942</td>\n",
       "      <td>1</td>\n",
       "      <td>0</td>\n",
       "      <td>0</td>\n",
       "      <td>0</td>\n",
       "      <td>1</td>\n",
       "      <td>0</td>\n",
       "      <td>0</td>\n",
       "      <td>0</td>\n",
       "      <td>0</td>\n",
       "      <td>1</td>\n",
       "      <td>0</td>\n",
       "      <td>0</td>\n",
       "      <td>0</td>\n",
       "      <td>0</td>\n",
       "      <td>0</td>\n",
       "      <td>0</td>\n",
       "      <td>0</td>\n",
       "    </tr>\n",
       "    <tr>\n",
       "      <th>60863</th>\n",
       "      <td>0.361650</td>\n",
       "      <td>2.214221</td>\n",
       "      <td>-0.213166</td>\n",
       "      <td>-0.557514</td>\n",
       "      <td>0.241876</td>\n",
       "      <td>0</td>\n",
       "      <td>1</td>\n",
       "      <td>0</td>\n",
       "      <td>0</td>\n",
       "      <td>0</td>\n",
       "      <td>1</td>\n",
       "      <td>0</td>\n",
       "      <td>0</td>\n",
       "      <td>0</td>\n",
       "      <td>0</td>\n",
       "      <td>0</td>\n",
       "      <td>0</td>\n",
       "      <td>0</td>\n",
       "      <td>1</td>\n",
       "      <td>0</td>\n",
       "      <td>0</td>\n",
       "      <td>0</td>\n",
       "    </tr>\n",
       "    <tr>\n",
       "      <th>36168</th>\n",
       "      <td>-0.340432</td>\n",
       "      <td>-1.445413</td>\n",
       "      <td>0.141939</td>\n",
       "      <td>-0.557514</td>\n",
       "      <td>0.144328</td>\n",
       "      <td>1</td>\n",
       "      <td>0</td>\n",
       "      <td>1</td>\n",
       "      <td>0</td>\n",
       "      <td>0</td>\n",
       "      <td>0</td>\n",
       "      <td>0</td>\n",
       "      <td>0</td>\n",
       "      <td>0</td>\n",
       "      <td>0</td>\n",
       "      <td>0</td>\n",
       "      <td>0</td>\n",
       "      <td>0</td>\n",
       "      <td>0</td>\n",
       "      <td>1</td>\n",
       "      <td>0</td>\n",
       "      <td>0</td>\n",
       "    </tr>\n",
       "    <tr>\n",
       "      <th>60028</th>\n",
       "      <td>0.361650</td>\n",
       "      <td>-0.498956</td>\n",
       "      <td>0.516555</td>\n",
       "      <td>-0.557514</td>\n",
       "      <td>0.193102</td>\n",
       "      <td>0</td>\n",
       "      <td>1</td>\n",
       "      <td>0</td>\n",
       "      <td>0</td>\n",
       "      <td>1</td>\n",
       "      <td>0</td>\n",
       "      <td>0</td>\n",
       "      <td>0</td>\n",
       "      <td>0</td>\n",
       "      <td>0</td>\n",
       "      <td>0</td>\n",
       "      <td>0</td>\n",
       "      <td>1</td>\n",
       "      <td>0</td>\n",
       "      <td>0</td>\n",
       "      <td>0</td>\n",
       "      <td>0</td>\n",
       "    </tr>\n",
       "  </tbody>\n",
       "</table>\n",
       "</div>"
      ],
      "text/plain": [
       "         agecat  traffic_index  veh_value  veh_ageIndex  credit_score  \\\n",
       "39967 -1.744595      -0.467407   0.024871      1.431967      0.778393   \n",
       "53010  1.063732       0.037370  -0.213166     -1.552254      0.875942   \n",
       "60863  0.361650       2.214221  -0.213166     -0.557514      0.241876   \n",
       "36168 -0.340432      -1.445413   0.141939     -0.557514      0.144328   \n",
       "60028  0.361650      -0.498956   0.516555     -0.557514      0.193102   \n",
       "\n",
       "       gender_F  gender_M  area_A  area_B  area_C  area_D  area_E  area_F  \\\n",
       "39967         1         0       0       1       0       0       0       0   \n",
       "53010         1         0       0       0       1       0       0       0   \n",
       "60863         0         1       0       0       0       1       0       0   \n",
       "36168         1         0       1       0       0       0       0       0   \n",
       "60028         0         1       0       0       1       0       0       0   \n",
       "\n",
       "       veh_body2_COUPE  veh_body2_HBACK  veh_body2_HDTOP  veh_body2_MIBUS  \\\n",
       "39967                0                0                0                0   \n",
       "53010                0                1                0                0   \n",
       "60863                0                0                0                0   \n",
       "36168                0                0                0                0   \n",
       "60028                0                0                0                0   \n",
       "\n",
       "       veh_body2_PANVN  veh_body2_SEDAN  veh_body2_STNWG  veh_body2_TRUCK  \\\n",
       "39967                0                0                1                0   \n",
       "53010                0                0                0                0   \n",
       "60863                0                1                0                0   \n",
       "36168                0                0                1                0   \n",
       "60028                1                0                0                0   \n",
       "\n",
       "       veh_body2_UTE  \n",
       "39967              0  \n",
       "53010              0  \n",
       "60863              0  \n",
       "36168              0  \n",
       "60028              0  "
      ]
     },
     "execution_count": 133,
     "metadata": {},
     "output_type": "execute_result"
    }
   ],
   "source": [
    "X_test_boost.head()"
   ]
  },
  {
   "cell_type": "code",
   "execution_count": 136,
   "metadata": {},
   "outputs": [
    {
     "data": {
      "text/html": [
       "<div>\n",
       "<style scoped>\n",
       "    .dataframe tbody tr th:only-of-type {\n",
       "        vertical-align: middle;\n",
       "    }\n",
       "\n",
       "    .dataframe tbody tr th {\n",
       "        vertical-align: top;\n",
       "    }\n",
       "\n",
       "    .dataframe thead th {\n",
       "        text-align: right;\n",
       "    }\n",
       "</style>\n",
       "<table border=\"1\" class=\"dataframe\">\n",
       "  <thead>\n",
       "    <tr style=\"text-align: right;\">\n",
       "      <th></th>\n",
       "      <th>0</th>\n",
       "      <th>1</th>\n",
       "      <th>2</th>\n",
       "      <th>3</th>\n",
       "      <th>4</th>\n",
       "      <th>5</th>\n",
       "      <th>6</th>\n",
       "      <th>7</th>\n",
       "      <th>8</th>\n",
       "      <th>9</th>\n",
       "      <th>10</th>\n",
       "      <th>11</th>\n",
       "      <th>12</th>\n",
       "      <th>13</th>\n",
       "      <th>14</th>\n",
       "      <th>15</th>\n",
       "      <th>16</th>\n",
       "      <th>17</th>\n",
       "      <th>18</th>\n",
       "      <th>19</th>\n",
       "      <th>20</th>\n",
       "      <th>21</th>\n",
       "    </tr>\n",
       "  </thead>\n",
       "  <tbody>\n",
       "    <tr>\n",
       "      <th>0</th>\n",
       "      <td>-1.744595</td>\n",
       "      <td>1.173118</td>\n",
       "      <td>2.436462</td>\n",
       "      <td>-0.557514</td>\n",
       "      <td>0.583296</td>\n",
       "      <td>0.0</td>\n",
       "      <td>1.0</td>\n",
       "      <td>0.0</td>\n",
       "      <td>0.0</td>\n",
       "      <td>1.0</td>\n",
       "      <td>0.0</td>\n",
       "      <td>0.0</td>\n",
       "      <td>0.0</td>\n",
       "      <td>0.0</td>\n",
       "      <td>0.0</td>\n",
       "      <td>0.0</td>\n",
       "      <td>0.0</td>\n",
       "      <td>0.0</td>\n",
       "      <td>0.0</td>\n",
       "      <td>1.0</td>\n",
       "      <td>0.0</td>\n",
       "      <td>0.0</td>\n",
       "    </tr>\n",
       "    <tr>\n",
       "      <th>1</th>\n",
       "      <td>-1.042514</td>\n",
       "      <td>-0.215019</td>\n",
       "      <td>-1.005323</td>\n",
       "      <td>1.431967</td>\n",
       "      <td>0.680845</td>\n",
       "      <td>0.0</td>\n",
       "      <td>1.0</td>\n",
       "      <td>1.0</td>\n",
       "      <td>0.0</td>\n",
       "      <td>0.0</td>\n",
       "      <td>0.0</td>\n",
       "      <td>0.0</td>\n",
       "      <td>0.0</td>\n",
       "      <td>0.0</td>\n",
       "      <td>1.0</td>\n",
       "      <td>0.0</td>\n",
       "      <td>0.0</td>\n",
       "      <td>0.0</td>\n",
       "      <td>0.0</td>\n",
       "      <td>0.0</td>\n",
       "      <td>0.0</td>\n",
       "      <td>0.0</td>\n",
       "    </tr>\n",
       "    <tr>\n",
       "      <th>2</th>\n",
       "      <td>0.361650</td>\n",
       "      <td>-0.782893</td>\n",
       "      <td>-0.607293</td>\n",
       "      <td>0.437227</td>\n",
       "      <td>0.388199</td>\n",
       "      <td>1.0</td>\n",
       "      <td>0.0</td>\n",
       "      <td>0.0</td>\n",
       "      <td>0.0</td>\n",
       "      <td>0.0</td>\n",
       "      <td>0.0</td>\n",
       "      <td>0.0</td>\n",
       "      <td>1.0</td>\n",
       "      <td>0.0</td>\n",
       "      <td>0.0</td>\n",
       "      <td>0.0</td>\n",
       "      <td>0.0</td>\n",
       "      <td>0.0</td>\n",
       "      <td>1.0</td>\n",
       "      <td>0.0</td>\n",
       "      <td>0.0</td>\n",
       "      <td>0.0</td>\n",
       "    </tr>\n",
       "    <tr>\n",
       "      <th>3</th>\n",
       "      <td>-0.340432</td>\n",
       "      <td>0.352855</td>\n",
       "      <td>0.438510</td>\n",
       "      <td>-1.552254</td>\n",
       "      <td>-0.245866</td>\n",
       "      <td>1.0</td>\n",
       "      <td>0.0</td>\n",
       "      <td>0.0</td>\n",
       "      <td>0.0</td>\n",
       "      <td>0.0</td>\n",
       "      <td>1.0</td>\n",
       "      <td>0.0</td>\n",
       "      <td>0.0</td>\n",
       "      <td>0.0</td>\n",
       "      <td>0.0</td>\n",
       "      <td>0.0</td>\n",
       "      <td>0.0</td>\n",
       "      <td>0.0</td>\n",
       "      <td>1.0</td>\n",
       "      <td>0.0</td>\n",
       "      <td>0.0</td>\n",
       "      <td>0.0</td>\n",
       "    </tr>\n",
       "    <tr>\n",
       "      <th>4</th>\n",
       "      <td>-0.340432</td>\n",
       "      <td>0.037370</td>\n",
       "      <td>-1.063856</td>\n",
       "      <td>1.431967</td>\n",
       "      <td>1.168587</td>\n",
       "      <td>1.0</td>\n",
       "      <td>0.0</td>\n",
       "      <td>0.0</td>\n",
       "      <td>0.0</td>\n",
       "      <td>0.0</td>\n",
       "      <td>1.0</td>\n",
       "      <td>0.0</td>\n",
       "      <td>0.0</td>\n",
       "      <td>0.0</td>\n",
       "      <td>0.0</td>\n",
       "      <td>0.0</td>\n",
       "      <td>0.0</td>\n",
       "      <td>0.0</td>\n",
       "      <td>1.0</td>\n",
       "      <td>0.0</td>\n",
       "      <td>0.0</td>\n",
       "      <td>0.0</td>\n",
       "    </tr>\n",
       "  </tbody>\n",
       "</table>\n",
       "</div>"
      ],
      "text/plain": [
       "         0         1         2         3         4    5    6    7    8    9   \\\n",
       "0 -1.744595  1.173118  2.436462 -0.557514  0.583296  0.0  1.0  0.0  0.0  1.0   \n",
       "1 -1.042514 -0.215019 -1.005323  1.431967  0.680845  0.0  1.0  1.0  0.0  0.0   \n",
       "2  0.361650 -0.782893 -0.607293  0.437227  0.388199  1.0  0.0  0.0  0.0  0.0   \n",
       "3 -0.340432  0.352855  0.438510 -1.552254 -0.245866  1.0  0.0  0.0  0.0  0.0   \n",
       "4 -0.340432  0.037370 -1.063856  1.431967  1.168587  1.0  0.0  0.0  0.0  0.0   \n",
       "\n",
       "    10   11   12   13   14   15   16   17   18   19   20   21  \n",
       "0  0.0  0.0  0.0  0.0  0.0  0.0  0.0  0.0  0.0  1.0  0.0  0.0  \n",
       "1  0.0  0.0  0.0  0.0  1.0  0.0  0.0  0.0  0.0  0.0  0.0  0.0  \n",
       "2  0.0  0.0  1.0  0.0  0.0  0.0  0.0  0.0  1.0  0.0  0.0  0.0  \n",
       "3  1.0  0.0  0.0  0.0  0.0  0.0  0.0  0.0  1.0  0.0  0.0  0.0  \n",
       "4  1.0  0.0  0.0  0.0  0.0  0.0  0.0  0.0  1.0  0.0  0.0  0.0  "
      ]
     },
     "execution_count": 136,
     "metadata": {},
     "output_type": "execute_result"
    }
   ],
   "source": [
    "pd.DataFrame(X_train_boost_SMOTE).head()"
   ]
  },
  {
   "cell_type": "code",
   "execution_count": 128,
   "metadata": {},
   "outputs": [],
   "source": [
    "# upsample with SMOTE\n",
    "X_train_boost_SMOTE, y_train_boost_SMOTE = SMOTE().fit_sample(X_train_boost, y_train_boost)"
   ]
  },
  {
   "cell_type": "code",
   "execution_count": 129,
   "metadata": {},
   "outputs": [
    {
     "ename": "ValueError",
     "evalue": "feature_names mismatch: ['f0', 'f1', 'f2', 'f3', 'f4', 'f5', 'f6', 'f7', 'f8', 'f9', 'f10', 'f11', 'f12', 'f13', 'f14', 'f15', 'f16', 'f17', 'f18', 'f19', 'f20', 'f21'] ['agecat', 'traffic_index', 'veh_value', 'veh_ageIndex', 'credit_score', 'gender_F', 'gender_M', 'area_A', 'area_B', 'area_C', 'area_D', 'area_E', 'area_F', 'veh_body2_COUPE', 'veh_body2_HBACK', 'veh_body2_HDTOP', 'veh_body2_MIBUS', 'veh_body2_PANVN', 'veh_body2_SEDAN', 'veh_body2_STNWG', 'veh_body2_TRUCK', 'veh_body2_UTE']\nexpected f1, f13, f3, f16, f11, f15, f20, f19, f8, f18, f10, f7, f4, f5, f6, f14, f0, f12, f21, f2, f17, f9 in input data\ntraining data did not have the following fields: veh_value, veh_body2_HDTOP, area_D, area_F, area_A, veh_body2_SEDAN, veh_body2_TRUCK, veh_ageIndex, gender_F, traffic_index, area_B, area_C, agecat, veh_body2_MIBUS, veh_body2_PANVN, credit_score, veh_body2_STNWG, veh_body2_HBACK, gender_M, area_E, veh_body2_UTE, veh_body2_COUPE",
     "output_type": "error",
     "traceback": [
      "\u001b[1;31m---------------------------------------------------------------------------\u001b[0m",
      "\u001b[1;31mValueError\u001b[0m                                Traceback (most recent call last)",
      "\u001b[1;32m<ipython-input-129-cbbeb17c045a>\u001b[0m in \u001b[0;36m<module>\u001b[1;34m()\u001b[0m\n\u001b[0;32m      9\u001b[0m \u001b[1;33m\u001b[0m\u001b[0m\n\u001b[0;32m     10\u001b[0m \u001b[1;31m# generate predictions using test features\u001b[0m\u001b[1;33m\u001b[0m\u001b[1;33m\u001b[0m\u001b[0m\n\u001b[1;32m---> 11\u001b[1;33m \u001b[0mboost_test_preds\u001b[0m \u001b[1;33m=\u001b[0m \u001b[0mclf\u001b[0m\u001b[1;33m.\u001b[0m\u001b[0mpredict\u001b[0m\u001b[1;33m(\u001b[0m\u001b[0mX_test_boost\u001b[0m\u001b[1;33m)\u001b[0m\u001b[1;33m\u001b[0m\u001b[0m\n\u001b[0m",
      "\u001b[1;32m~\\Anaconda3\\envs\\learn-env\\lib\\site-packages\\xgboost\\sklearn.py\u001b[0m in \u001b[0;36mpredict\u001b[1;34m(self, data, output_margin, ntree_limit)\u001b[0m\n\u001b[0;32m    557\u001b[0m         class_probs = self.get_booster().predict(test_dmatrix,\n\u001b[0;32m    558\u001b[0m                                                  \u001b[0moutput_margin\u001b[0m\u001b[1;33m=\u001b[0m\u001b[0moutput_margin\u001b[0m\u001b[1;33m,\u001b[0m\u001b[1;33m\u001b[0m\u001b[0m\n\u001b[1;32m--> 559\u001b[1;33m                                                  ntree_limit=ntree_limit)\n\u001b[0m\u001b[0;32m    560\u001b[0m         \u001b[1;32mif\u001b[0m \u001b[0mlen\u001b[0m\u001b[1;33m(\u001b[0m\u001b[0mclass_probs\u001b[0m\u001b[1;33m.\u001b[0m\u001b[0mshape\u001b[0m\u001b[1;33m)\u001b[0m \u001b[1;33m>\u001b[0m \u001b[1;36m1\u001b[0m\u001b[1;33m:\u001b[0m\u001b[1;33m\u001b[0m\u001b[0m\n\u001b[0;32m    561\u001b[0m             \u001b[0mcolumn_indexes\u001b[0m \u001b[1;33m=\u001b[0m \u001b[0mnp\u001b[0m\u001b[1;33m.\u001b[0m\u001b[0margmax\u001b[0m\u001b[1;33m(\u001b[0m\u001b[0mclass_probs\u001b[0m\u001b[1;33m,\u001b[0m \u001b[0maxis\u001b[0m\u001b[1;33m=\u001b[0m\u001b[1;36m1\u001b[0m\u001b[1;33m)\u001b[0m\u001b[1;33m\u001b[0m\u001b[0m\n",
      "\u001b[1;32m~\\Anaconda3\\envs\\learn-env\\lib\\site-packages\\xgboost\\core.py\u001b[0m in \u001b[0;36mpredict\u001b[1;34m(self, data, output_margin, ntree_limit, pred_leaf, pred_contribs, approx_contribs, pred_interactions, validate_features)\u001b[0m\n\u001b[0;32m   1053\u001b[0m \u001b[1;33m\u001b[0m\u001b[0m\n\u001b[0;32m   1054\u001b[0m         \u001b[1;32mif\u001b[0m \u001b[0mvalidate_features\u001b[0m\u001b[1;33m:\u001b[0m\u001b[1;33m\u001b[0m\u001b[0m\n\u001b[1;32m-> 1055\u001b[1;33m             \u001b[0mself\u001b[0m\u001b[1;33m.\u001b[0m\u001b[0m_validate_features\u001b[0m\u001b[1;33m(\u001b[0m\u001b[0mdata\u001b[0m\u001b[1;33m)\u001b[0m\u001b[1;33m\u001b[0m\u001b[0m\n\u001b[0m\u001b[0;32m   1056\u001b[0m \u001b[1;33m\u001b[0m\u001b[0m\n\u001b[0;32m   1057\u001b[0m         \u001b[0mlength\u001b[0m \u001b[1;33m=\u001b[0m \u001b[0mc_bst_ulong\u001b[0m\u001b[1;33m(\u001b[0m\u001b[1;33m)\u001b[0m\u001b[1;33m\u001b[0m\u001b[0m\n",
      "\u001b[1;32m~\\Anaconda3\\envs\\learn-env\\lib\\site-packages\\xgboost\\core.py\u001b[0m in \u001b[0;36m_validate_features\u001b[1;34m(self, data)\u001b[0m\n\u001b[0;32m   1311\u001b[0m \u001b[1;33m\u001b[0m\u001b[0m\n\u001b[0;32m   1312\u001b[0m                 raise ValueError(msg.format(self.feature_names,\n\u001b[1;32m-> 1313\u001b[1;33m                                             data.feature_names))\n\u001b[0m\u001b[0;32m   1314\u001b[0m \u001b[1;33m\u001b[0m\u001b[0m\n\u001b[0;32m   1315\u001b[0m     \u001b[1;32mdef\u001b[0m \u001b[0mget_split_value_histogram\u001b[0m\u001b[1;33m(\u001b[0m\u001b[0mself\u001b[0m\u001b[1;33m,\u001b[0m \u001b[0mfeature\u001b[0m\u001b[1;33m,\u001b[0m \u001b[0mfmap\u001b[0m\u001b[1;33m=\u001b[0m\u001b[1;34m''\u001b[0m\u001b[1;33m,\u001b[0m \u001b[0mbins\u001b[0m\u001b[1;33m=\u001b[0m\u001b[1;32mNone\u001b[0m\u001b[1;33m,\u001b[0m \u001b[0mas_pandas\u001b[0m\u001b[1;33m=\u001b[0m\u001b[1;32mTrue\u001b[0m\u001b[1;33m)\u001b[0m\u001b[1;33m:\u001b[0m\u001b[1;33m\u001b[0m\u001b[0m\n",
      "\u001b[1;31mValueError\u001b[0m: feature_names mismatch: ['f0', 'f1', 'f2', 'f3', 'f4', 'f5', 'f6', 'f7', 'f8', 'f9', 'f10', 'f11', 'f12', 'f13', 'f14', 'f15', 'f16', 'f17', 'f18', 'f19', 'f20', 'f21'] ['agecat', 'traffic_index', 'veh_value', 'veh_ageIndex', 'credit_score', 'gender_F', 'gender_M', 'area_A', 'area_B', 'area_C', 'area_D', 'area_E', 'area_F', 'veh_body2_COUPE', 'veh_body2_HBACK', 'veh_body2_HDTOP', 'veh_body2_MIBUS', 'veh_body2_PANVN', 'veh_body2_SEDAN', 'veh_body2_STNWG', 'veh_body2_TRUCK', 'veh_body2_UTE']\nexpected f1, f13, f3, f16, f11, f15, f20, f19, f8, f18, f10, f7, f4, f5, f6, f14, f0, f12, f21, f2, f17, f9 in input data\ntraining data did not have the following fields: veh_value, veh_body2_HDTOP, area_D, area_F, area_A, veh_body2_SEDAN, veh_body2_TRUCK, veh_ageIndex, gender_F, traffic_index, area_B, area_C, agecat, veh_body2_MIBUS, veh_body2_PANVN, credit_score, veh_body2_STNWG, veh_body2_HBACK, gender_M, area_E, veh_body2_UTE, veh_body2_COUPE"
     ]
    }
   ],
   "source": [
    "# create an XGBoost classifier object\n",
    "clf = xgb.XGBClassifier()\n",
    "\n",
    "# use XGBoost to fit our x and y training data\n",
    "clf.fit(X_train_boost_SMOTE, y_train_boost_SMOTE)\n",
    "\n",
    "# generate predictions using training features\n",
    "boost_training_preds = clf.predict(X_train_boost_SMOTE)\n",
    "\n",
    "# generate predictions using test features\n",
    "boost_test_preds = clf.predict(X_test_boost)\n",
    "\n"
   ]
  },
  {
   "cell_type": "code",
   "execution_count": 97,
   "metadata": {},
   "outputs": [
    {
     "name": "stdout",
     "output_type": "stream",
     "text": [
      "Training Accuracy: 100.0%\n",
      "Test accuracy: 100.0%\n"
     ]
    }
   ],
   "source": [
    "training_accuracy = accuracy_score(y_train_boost, boost_training_preds)\n",
    "test_accuracy = accuracy_score(y_test_boost, boost_test_preds)\n",
    "\n",
    "print(\"Training Accuracy: {:.4}%\".format(training_accuracy * 100))\n",
    "print(\"Test accuracy: {:.4}%\".format(val_accuracy * 100))"
   ]
  },
  {
   "cell_type": "code",
   "execution_count": null,
   "metadata": {},
   "outputs": [],
   "source": [
    "pred_boost = clf.predict(RF_data_test_3)\n",
    "print(confusion_matrix(RF_target_test_3, pred_3))\n",
    "print(classification_report(RF_target_test_3, pred_3))"
   ]
  },
  {
   "cell_type": "code",
   "execution_count": null,
   "metadata": {},
   "outputs": [],
   "source": []
  }
 ],
 "metadata": {
  "kernelspec": {
   "display_name": "learn-env",
   "language": "python",
   "name": "learn-env"
  },
  "language_info": {
   "codemirror_mode": {
    "name": "ipython",
    "version": 3
   },
   "file_extension": ".py",
   "mimetype": "text/x-python",
   "name": "python",
   "nbconvert_exporter": "python",
   "pygments_lexer": "ipython3",
   "version": "3.6.6"
  },
  "toc": {
   "base_numbering": 1,
   "nav_menu": {},
   "number_sections": true,
   "sideBar": true,
   "skip_h1_title": false,
   "title_cell": "Table of Contents",
   "title_sidebar": "Contents",
   "toc_cell": false,
   "toc_position": {},
   "toc_section_display": true,
   "toc_window_display": false
  },
  "varInspector": {
   "cols": {
    "lenName": 16,
    "lenType": 16,
    "lenVar": 40
   },
   "kernels_config": {
    "python": {
     "delete_cmd_postfix": "",
     "delete_cmd_prefix": "del ",
     "library": "var_list.py",
     "varRefreshCmd": "print(var_dic_list())"
    },
    "r": {
     "delete_cmd_postfix": ") ",
     "delete_cmd_prefix": "rm(",
     "library": "var_list.r",
     "varRefreshCmd": "cat(var_dic_list()) "
    }
   },
   "position": {
    "height": "801.771px",
    "left": "1142px",
    "right": "20px",
    "top": "120px",
    "width": "485.99px"
   },
   "types_to_exclude": [
    "module",
    "function",
    "builtin_function_or_method",
    "instance",
    "_Feature"
   ],
   "window_display": false
  }
 },
 "nbformat": 4,
 "nbformat_minor": 2
}
